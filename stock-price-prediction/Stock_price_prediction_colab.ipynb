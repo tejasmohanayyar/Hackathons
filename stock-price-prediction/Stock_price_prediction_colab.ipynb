{
  "nbformat": 4,
  "nbformat_minor": 0,
  "metadata": {
    "kernelspec": {
      "display_name": "Python 3",
      "language": "python",
      "name": "python3"
    },
    "language_info": {
      "codemirror_mode": {
        "name": "ipython",
        "version": 3
      },
      "file_extension": ".py",
      "mimetype": "text/x-python",
      "name": "python",
      "nbconvert_exporter": "python",
      "pygments_lexer": "ipython3",
      "version": "3.7.4"
    },
    "colab": {
      "name": "Stock_price_prediction_colab.ipynb",
      "provenance": [],
      "collapsed_sections": []
    }
  },
  "cells": [
    {
      "cell_type": "markdown",
      "metadata": {
        "id": "jAQLmg1o5e_V"
      },
      "source": [
        "# Welcome to Learn ML 2021 Grand AI Challenge! 🎉\n",
        "\n",
        "The year 2020 has been an outlier year for finance analysts. Most of the past models have failed to give out great results on the 2020 financial data creating a need for more robust models to handle such outliers. Hence with this challenge, we wish to test your analytical modelling skills not for 1 stock but 5 to see if you have what it takes to create a model that can give predictions for the outlier 2020 year. All the best for the challenge!\n",
        "\n",
        "The aim of this challenge is to predict the closing prices of 5 stocks using the given data.\n",
        "\n",
        "The dataset consists of 3 files:\n",
        "\n",
        "    new_train.csv (for training)\n",
        "    new_test.csv (for test)\n",
        "    new_sample_submission.csv (for sample submission format)\n",
        "\n",
        "This data should be used to train the model, no additional data is allowed to be used for the training process.\n",
        "\n",
        "A \"new_sample_submission.csv\" is also provided for ease of the participants. To know the exact submission format, please check out \"Submission Guidelines\".\n",
        "\n",
        "\n"
      ]
    },
    {
      "cell_type": "code",
      "metadata": {
        "id": "pYokVmyu5e_c"
      },
      "source": [
        "import warnings\n",
        "warnings.simplefilter('ignore')"
      ],
      "execution_count": null,
      "outputs": []
    },
    {
      "cell_type": "code",
      "metadata": {
        "id": "lMlzPFfh5e_g"
      },
      "source": [
        "import pandas as pd\n",
        "import numpy as np"
      ],
      "execution_count": null,
      "outputs": []
    },
    {
      "cell_type": "code",
      "metadata": {
        "id": "yENn1F8r5e_j"
      },
      "source": [
        "import matplotlib.pyplot as plt\n",
        "import seaborn as sns"
      ],
      "execution_count": null,
      "outputs": []
    },
    {
      "cell_type": "code",
      "metadata": {
        "colab": {
          "base_uri": "https://localhost:8080/"
        },
        "id": "L4hWPh6F6EJS",
        "outputId": "9b205f78-0201-4a6d-e651-cfa5af94ac8d"
      },
      "source": [
        "from google.colab import drive\n",
        "drive.mount('/content/drive')"
      ],
      "execution_count": null,
      "outputs": [
        {
          "output_type": "stream",
          "text": [
            "Drive already mounted at /content/drive; to attempt to forcibly remount, call drive.mount(\"/content/drive\", force_remount=True).\n"
          ],
          "name": "stdout"
        }
      ]
    },
    {
      "cell_type": "code",
      "metadata": {
        "id": "gjpZOtv45e_m"
      },
      "source": [
        "train = pd.read_csv('drive/MyDrive/stockdata/Data/new_train.csv')\n",
        "test = pd.read_csv('drive/MyDrive/stockdata/Data/new_test.csv')"
      ],
      "execution_count": null,
      "outputs": []
    },
    {
      "cell_type": "code",
      "metadata": {
        "id": "LPhmePfS5e_o"
      },
      "source": [
        "train = train.sort_values('Date')\n",
        "test = test.sort_values('Date')"
      ],
      "execution_count": null,
      "outputs": []
    },
    {
      "cell_type": "code",
      "metadata": {
        "scrolled": true,
        "colab": {
          "base_uri": "https://localhost:8080/",
          "height": 243
        },
        "id": "HQf_nxeP5e_p",
        "outputId": "a30cebf5-9641-44b2-f90f-b808ca0af296"
      },
      "source": [
        "train.head()"
      ],
      "execution_count": null,
      "outputs": [
        {
          "output_type": "execute_result",
          "data": {
            "text/html": [
              "<div>\n",
              "<style scoped>\n",
              "    .dataframe tbody tr th:only-of-type {\n",
              "        vertical-align: middle;\n",
              "    }\n",
              "\n",
              "    .dataframe tbody tr th {\n",
              "        vertical-align: top;\n",
              "    }\n",
              "\n",
              "    .dataframe thead th {\n",
              "        text-align: right;\n",
              "    }\n",
              "</style>\n",
              "<table border=\"1\" class=\"dataframe\">\n",
              "  <thead>\n",
              "    <tr style=\"text-align: right;\">\n",
              "      <th></th>\n",
              "      <th>Date</th>\n",
              "      <th>Open-Stock-1</th>\n",
              "      <th>High-Stock-1</th>\n",
              "      <th>Low-Stock-1</th>\n",
              "      <th>Close-Stock-1</th>\n",
              "      <th>VWAP-Stock-1</th>\n",
              "      <th>Volume-Stock-1</th>\n",
              "      <th>Turnover-Stock-1</th>\n",
              "      <th>Open-Stock-2</th>\n",
              "      <th>High-Stock-2</th>\n",
              "      <th>Low-Stock-2</th>\n",
              "      <th>Close-Stock-2</th>\n",
              "      <th>VWAP-Stock-2</th>\n",
              "      <th>Volume-Stock-2</th>\n",
              "      <th>Turnover-Stock-2</th>\n",
              "      <th>Open-Stock-3</th>\n",
              "      <th>High-Stock-3</th>\n",
              "      <th>Low-Stock-3</th>\n",
              "      <th>Close-Stock-3</th>\n",
              "      <th>VWAP-Stock-3</th>\n",
              "      <th>Volume-Stock-3</th>\n",
              "      <th>Turnover-Stock-3</th>\n",
              "      <th>Open-Stock-4</th>\n",
              "      <th>High-Stock-4</th>\n",
              "      <th>Low-Stock-4</th>\n",
              "      <th>Close-Stock-4</th>\n",
              "      <th>VWAP-Stock-4</th>\n",
              "      <th>Volume-Stock-4</th>\n",
              "      <th>Turnover-Stock-4</th>\n",
              "      <th>Open-Stock-5</th>\n",
              "      <th>High-Stock-5</th>\n",
              "      <th>Low-Stock-5</th>\n",
              "      <th>Close-Stock-5</th>\n",
              "      <th>VWAP-Stock-5</th>\n",
              "      <th>Volume-Stock-5</th>\n",
              "      <th>Turnover-Stock-5</th>\n",
              "    </tr>\n",
              "  </thead>\n",
              "  <tbody>\n",
              "    <tr>\n",
              "      <th>0</th>\n",
              "      <td>2010-06-01</td>\n",
              "      <td>1889.7</td>\n",
              "      <td>1890.00</td>\n",
              "      <td>1838.00</td>\n",
              "      <td>1855.10</td>\n",
              "      <td>1855.75</td>\n",
              "      <td>568273</td>\n",
              "      <td>105457457545000</td>\n",
              "      <td>285.40</td>\n",
              "      <td>285.95</td>\n",
              "      <td>281.50</td>\n",
              "      <td>283.00</td>\n",
              "      <td>283.72</td>\n",
              "      <td>3191773</td>\n",
              "      <td>90557243170000</td>\n",
              "      <td>2095.00</td>\n",
              "      <td>2097.8</td>\n",
              "      <td>2045.00</td>\n",
              "      <td>2077.25</td>\n",
              "      <td>2088.95</td>\n",
              "      <td>70547</td>\n",
              "      <td>14736933230000</td>\n",
              "      <td>851.65</td>\n",
              "      <td>864.80</td>\n",
              "      <td>833.1</td>\n",
              "      <td>837.95</td>\n",
              "      <td>844.44</td>\n",
              "      <td>3878011</td>\n",
              "      <td>327474904340000</td>\n",
              "      <td>1235.0</td>\n",
              "      <td>1238.00</td>\n",
              "      <td>1177.0</td>\n",
              "      <td>1181.70</td>\n",
              "      <td>1197.29</td>\n",
              "      <td>1786082</td>\n",
              "      <td>213845404410000</td>\n",
              "    </tr>\n",
              "    <tr>\n",
              "      <th>1</th>\n",
              "      <td>2010-06-02</td>\n",
              "      <td>1848.0</td>\n",
              "      <td>1862.75</td>\n",
              "      <td>1828.00</td>\n",
              "      <td>1853.05</td>\n",
              "      <td>1842.82</td>\n",
              "      <td>945167</td>\n",
              "      <td>174177161135000</td>\n",
              "      <td>284.00</td>\n",
              "      <td>284.80</td>\n",
              "      <td>279.25</td>\n",
              "      <td>281.30</td>\n",
              "      <td>281.05</td>\n",
              "      <td>2704797</td>\n",
              "      <td>76017076445000</td>\n",
              "      <td>2061.45</td>\n",
              "      <td>2098.0</td>\n",
              "      <td>2023.00</td>\n",
              "      <td>2079.85</td>\n",
              "      <td>2059.52</td>\n",
              "      <td>55547</td>\n",
              "      <td>11440017990000</td>\n",
              "      <td>844.70</td>\n",
              "      <td>849.90</td>\n",
              "      <td>823.0</td>\n",
              "      <td>842.30</td>\n",
              "      <td>838.31</td>\n",
              "      <td>3320996</td>\n",
              "      <td>278403743240000</td>\n",
              "      <td>1195.0</td>\n",
              "      <td>1206.95</td>\n",
              "      <td>1168.5</td>\n",
              "      <td>1201.15</td>\n",
              "      <td>1189.87</td>\n",
              "      <td>1307410</td>\n",
              "      <td>155564994855000</td>\n",
              "    </tr>\n",
              "    <tr>\n",
              "      <th>2</th>\n",
              "      <td>2010-06-03</td>\n",
              "      <td>1864.1</td>\n",
              "      <td>1910.00</td>\n",
              "      <td>1864.10</td>\n",
              "      <td>1905.60</td>\n",
              "      <td>1893.91</td>\n",
              "      <td>679689</td>\n",
              "      <td>128727119355000</td>\n",
              "      <td>283.00</td>\n",
              "      <td>286.85</td>\n",
              "      <td>282.50</td>\n",
              "      <td>285.50</td>\n",
              "      <td>285.34</td>\n",
              "      <td>2489752</td>\n",
              "      <td>71043460510000</td>\n",
              "      <td>2131.50</td>\n",
              "      <td>2131.5</td>\n",
              "      <td>2091.05</td>\n",
              "      <td>2114.90</td>\n",
              "      <td>2107.84</td>\n",
              "      <td>55130</td>\n",
              "      <td>11620529360000</td>\n",
              "      <td>851.40</td>\n",
              "      <td>859.05</td>\n",
              "      <td>848.2</td>\n",
              "      <td>854.10</td>\n",
              "      <td>853.51</td>\n",
              "      <td>2494522</td>\n",
              "      <td>212910342645000</td>\n",
              "      <td>1211.0</td>\n",
              "      <td>1248.00</td>\n",
              "      <td>1211.0</td>\n",
              "      <td>1242.30</td>\n",
              "      <td>1231.63</td>\n",
              "      <td>1482919</td>\n",
              "      <td>182640434320000</td>\n",
              "    </tr>\n",
              "    <tr>\n",
              "      <th>3</th>\n",
              "      <td>2010-06-04</td>\n",
              "      <td>1906.0</td>\n",
              "      <td>1909.80</td>\n",
              "      <td>1880.10</td>\n",
              "      <td>1885.70</td>\n",
              "      <td>1889.21</td>\n",
              "      <td>509435</td>\n",
              "      <td>96242800140000</td>\n",
              "      <td>288.85</td>\n",
              "      <td>291.80</td>\n",
              "      <td>277.00</td>\n",
              "      <td>290.85</td>\n",
              "      <td>289.81</td>\n",
              "      <td>3188813</td>\n",
              "      <td>92414802585000</td>\n",
              "      <td>2114.90</td>\n",
              "      <td>2156.0</td>\n",
              "      <td>2095.50</td>\n",
              "      <td>2146.75</td>\n",
              "      <td>2145.36</td>\n",
              "      <td>29302</td>\n",
              "      <td>6286330280000</td>\n",
              "      <td>854.10</td>\n",
              "      <td>868.60</td>\n",
              "      <td>854.1</td>\n",
              "      <td>865.85</td>\n",
              "      <td>862.85</td>\n",
              "      <td>2963920</td>\n",
              "      <td>255740999120000</td>\n",
              "      <td>1240.0</td>\n",
              "      <td>1258.00</td>\n",
              "      <td>1240.0</td>\n",
              "      <td>1245.45</td>\n",
              "      <td>1249.72</td>\n",
              "      <td>1454459</td>\n",
              "      <td>181767075850000</td>\n",
              "    </tr>\n",
              "    <tr>\n",
              "      <th>4</th>\n",
              "      <td>2010-06-07</td>\n",
              "      <td>1867.0</td>\n",
              "      <td>1894.85</td>\n",
              "      <td>1808.35</td>\n",
              "      <td>1876.65</td>\n",
              "      <td>1873.32</td>\n",
              "      <td>961913</td>\n",
              "      <td>180196832650000</td>\n",
              "      <td>285.00</td>\n",
              "      <td>289.10</td>\n",
              "      <td>285.00</td>\n",
              "      <td>287.70</td>\n",
              "      <td>287.01</td>\n",
              "      <td>2198836</td>\n",
              "      <td>63109395135000</td>\n",
              "      <td>2132.35</td>\n",
              "      <td>2209.0</td>\n",
              "      <td>2112.00</td>\n",
              "      <td>2185.25</td>\n",
              "      <td>2180.52</td>\n",
              "      <td>78919</td>\n",
              "      <td>17208425860000</td>\n",
              "      <td>712.00</td>\n",
              "      <td>850.00</td>\n",
              "      <td>712.0</td>\n",
              "      <td>841.95</td>\n",
              "      <td>839.89</td>\n",
              "      <td>3471483</td>\n",
              "      <td>291567400640000</td>\n",
              "      <td>1218.6</td>\n",
              "      <td>1225.00</td>\n",
              "      <td>1196.0</td>\n",
              "      <td>1214.80</td>\n",
              "      <td>1209.27</td>\n",
              "      <td>1424594</td>\n",
              "      <td>172272511430000</td>\n",
              "    </tr>\n",
              "  </tbody>\n",
              "</table>\n",
              "</div>"
            ],
            "text/plain": [
              "         Date  Open-Stock-1  ...  Volume-Stock-5  Turnover-Stock-5\n",
              "0  2010-06-01        1889.7  ...         1786082   213845404410000\n",
              "1  2010-06-02        1848.0  ...         1307410   155564994855000\n",
              "2  2010-06-03        1864.1  ...         1482919   182640434320000\n",
              "3  2010-06-04        1906.0  ...         1454459   181767075850000\n",
              "4  2010-06-07        1867.0  ...         1424594   172272511430000\n",
              "\n",
              "[5 rows x 36 columns]"
            ]
          },
          "metadata": {
            "tags": []
          },
          "execution_count": 7
        }
      ]
    },
    {
      "cell_type": "markdown",
      "metadata": {
        "id": "x-NpIoCS5e_q"
      },
      "source": [
        "###### Meaning of VWAP,Volume and Turnover of a stock\n",
        "\n",
        "* **Volume Weighted Average Price (VWAP)?**\n",
        "\n",
        "The volume weighted average price (VWAP) is a trading benchmark used by traders that gives the average price a security has traded at throughout the day, based on both volume and price. It is important because it provides traders with insight into both the trend and value of a security. \n",
        "\n",
        "                                    VWAP =(∑(Price * Volume))/∑Volume\n",
        "\n",
        "* **Volume** is measured in the number of shares traded on that day.\n",
        "* **Stock Turnover** is the rate at which a company's goods are sold and replaced.\n"
      ]
    },
    {
      "cell_type": "code",
      "metadata": {
        "colab": {
          "base_uri": "https://localhost:8080/"
        },
        "id": "p64aVHZZ5e_t",
        "outputId": "fc248888-a370-4607-e386-02668ce9a496"
      },
      "source": [
        "train.info()"
      ],
      "execution_count": null,
      "outputs": [
        {
          "output_type": "stream",
          "text": [
            "<class 'pandas.core.frame.DataFrame'>\n",
            "Int64Index: 299 entries, 0 to 298\n",
            "Data columns (total 36 columns):\n",
            " #   Column            Non-Null Count  Dtype  \n",
            "---  ------            --------------  -----  \n",
            " 0   Date              299 non-null    object \n",
            " 1   Open-Stock-1      299 non-null    float64\n",
            " 2   High-Stock-1      299 non-null    float64\n",
            " 3   Low-Stock-1       299 non-null    float64\n",
            " 4   Close-Stock-1     299 non-null    float64\n",
            " 5   VWAP-Stock-1      299 non-null    float64\n",
            " 6   Volume-Stock-1    299 non-null    int64  \n",
            " 7   Turnover-Stock-1  299 non-null    int64  \n",
            " 8   Open-Stock-2      299 non-null    float64\n",
            " 9   High-Stock-2      299 non-null    float64\n",
            " 10  Low-Stock-2       299 non-null    float64\n",
            " 11  Close-Stock-2     299 non-null    float64\n",
            " 12  VWAP-Stock-2      299 non-null    float64\n",
            " 13  Volume-Stock-2    299 non-null    int64  \n",
            " 14  Turnover-Stock-2  299 non-null    int64  \n",
            " 15  Open-Stock-3      299 non-null    float64\n",
            " 16  High-Stock-3      299 non-null    float64\n",
            " 17  Low-Stock-3       299 non-null    float64\n",
            " 18  Close-Stock-3     299 non-null    float64\n",
            " 19  VWAP-Stock-3      299 non-null    float64\n",
            " 20  Volume-Stock-3    299 non-null    int64  \n",
            " 21  Turnover-Stock-3  299 non-null    int64  \n",
            " 22  Open-Stock-4      299 non-null    float64\n",
            " 23  High-Stock-4      299 non-null    float64\n",
            " 24  Low-Stock-4       299 non-null    float64\n",
            " 25  Close-Stock-4     299 non-null    float64\n",
            " 26  VWAP-Stock-4      299 non-null    float64\n",
            " 27  Volume-Stock-4    299 non-null    int64  \n",
            " 28  Turnover-Stock-4  299 non-null    int64  \n",
            " 29  Open-Stock-5      299 non-null    float64\n",
            " 30  High-Stock-5      299 non-null    float64\n",
            " 31  Low-Stock-5       299 non-null    float64\n",
            " 32  Close-Stock-5     299 non-null    float64\n",
            " 33  VWAP-Stock-5      299 non-null    float64\n",
            " 34  Volume-Stock-5    299 non-null    int64  \n",
            " 35  Turnover-Stock-5  299 non-null    int64  \n",
            "dtypes: float64(25), int64(10), object(1)\n",
            "memory usage: 86.4+ KB\n"
          ],
          "name": "stdout"
        }
      ]
    },
    {
      "cell_type": "code",
      "metadata": {
        "colab": {
          "base_uri": "https://localhost:8080/"
        },
        "id": "yfwZBcYi5e_w",
        "outputId": "b72ca387-9701-4315-8cb4-360ef413a0b7"
      },
      "source": [
        "train.isna().sum()"
      ],
      "execution_count": null,
      "outputs": [
        {
          "output_type": "execute_result",
          "data": {
            "text/plain": [
              "Date                0\n",
              "Open-Stock-1        0\n",
              "High-Stock-1        0\n",
              "Low-Stock-1         0\n",
              "Close-Stock-1       0\n",
              "VWAP-Stock-1        0\n",
              "Volume-Stock-1      0\n",
              "Turnover-Stock-1    0\n",
              "Open-Stock-2        0\n",
              "High-Stock-2        0\n",
              "Low-Stock-2         0\n",
              "Close-Stock-2       0\n",
              "VWAP-Stock-2        0\n",
              "Volume-Stock-2      0\n",
              "Turnover-Stock-2    0\n",
              "Open-Stock-3        0\n",
              "High-Stock-3        0\n",
              "Low-Stock-3         0\n",
              "Close-Stock-3       0\n",
              "VWAP-Stock-3        0\n",
              "Volume-Stock-3      0\n",
              "Turnover-Stock-3    0\n",
              "Open-Stock-4        0\n",
              "High-Stock-4        0\n",
              "Low-Stock-4         0\n",
              "Close-Stock-4       0\n",
              "VWAP-Stock-4        0\n",
              "Volume-Stock-4      0\n",
              "Turnover-Stock-4    0\n",
              "Open-Stock-5        0\n",
              "High-Stock-5        0\n",
              "Low-Stock-5         0\n",
              "Close-Stock-5       0\n",
              "VWAP-Stock-5        0\n",
              "Volume-Stock-5      0\n",
              "Turnover-Stock-5    0\n",
              "dtype: int64"
            ]
          },
          "metadata": {
            "tags": []
          },
          "execution_count": 9
        }
      ]
    },
    {
      "cell_type": "code",
      "metadata": {
        "id": "ZMYM-iKe5e_0"
      },
      "source": [
        "train['Date'] = train['Date'].astype('datetime64')\n",
        "test['Date'] = test['Date'].astype('datetime64')"
      ],
      "execution_count": null,
      "outputs": []
    },
    {
      "cell_type": "markdown",
      "metadata": {
        "id": "8xTIMtz25e_1"
      },
      "source": [
        "###### Converting the Date column into Day,Month,Year"
      ]
    },
    {
      "cell_type": "markdown",
      "metadata": {
        "id": "LV3ImI7c5fAp"
      },
      "source": [
        "# Trying LSTM"
      ]
    },
    {
      "cell_type": "markdown",
      "metadata": {
        "id": "ENj3oIixrHAy"
      },
      "source": [
        "* Take last 20 datapoints from the train set to predict the first future value.\r\n",
        "\r\n",
        "* We will make a prediction based on those values.\r\n",
        "\r\n",
        "* Add this prediction to the above list to now have 21 values.\r\n",
        "\r\n",
        "* Remove the first value of the above list to again have only 20 elements in the list.\r\n",
        "\r\n",
        "* Now use these 20 values to make the next prediction.\r\n",
        "\r\n",
        "* We have to make 97 predictions."
      ]
    },
    {
      "cell_type": "code",
      "metadata": {
        "id": "dnqmfO2PqbmI"
      },
      "source": [
        "stock1 = train[['Open-Stock-1', 'High-Stock-1', 'Low-Stock-1', 'Close-Stock-1','VWAP-Stock-1', 'Volume-Stock-1', 'Turnover-Stock-1']]\r\n",
        "stock2 = train[['Open-Stock-2', 'High-Stock-2', 'Low-Stock-2', 'Close-Stock-2','VWAP-Stock-2', 'Volume-Stock-2', 'Turnover-Stock-2']]\r\n",
        "stock3 = train[['Open-Stock-3', 'High-Stock-3', 'Low-Stock-3', 'Close-Stock-3','VWAP-Stock-3', 'Volume-Stock-3', 'Turnover-Stock-3']]\r\n",
        "stock4 = train[['Open-Stock-4', 'High-Stock-4', 'Low-Stock-4', 'Close-Stock-4','VWAP-Stock-4', 'Volume-Stock-4', 'Turnover-Stock-4']]\r\n",
        "stock5 = train[['Open-Stock-5', 'High-Stock-5', 'Low-Stock-5', 'Close-Stock-5','VWAP-Stock-5', 'Volume-Stock-5', 'Turnover-Stock-5']]"
      ],
      "execution_count": null,
      "outputs": []
    },
    {
      "cell_type": "code",
      "metadata": {
        "id": "GfN2Y2YcqjSg"
      },
      "source": [
        "tstock1 = test[['Open-Stock-1', 'High-Stock-1', 'Low-Stock-1','VWAP-Stock-1', 'Volume-Stock-1', 'Turnover-Stock-1']]\r\n",
        "tstock2 = test[['Open-Stock-2', 'High-Stock-2', 'Low-Stock-2','VWAP-Stock-2', 'Volume-Stock-2', 'Turnover-Stock-2']]\r\n",
        "tstock3 = test[['Open-Stock-3', 'High-Stock-3', 'Low-Stock-3','VWAP-Stock-3', 'Volume-Stock-3', 'Turnover-Stock-3']]\r\n",
        "tstock4 = test[['Open-Stock-4', 'High-Stock-4', 'Low-Stock-4','VWAP-Stock-4', 'Volume-Stock-4', 'Turnover-Stock-4']]\r\n",
        "tstock5 = test[['Open-Stock-5', 'High-Stock-5', 'Low-Stock-5','VWAP-Stock-5', 'Volume-Stock-5', 'Turnover-Stock-5']]"
      ],
      "execution_count": null,
      "outputs": []
    },
    {
      "cell_type": "markdown",
      "metadata": {
        "id": "5rrCupBcMS1L"
      },
      "source": [
        "# Task: To create xtrain and ytrain for our LSTM network\r\n",
        "\r\n",
        "* Set your time step value\r\n",
        "* Create a loop for range len(data)-time_step\r\n",
        "* for xtrain pick up  i:i+timestep records from dataset excluding close stock.\r\n",
        "* for ytrain pick up timestep+i close stock value\r\n",
        "* reshape the xtrain and ytrain to have 3 dimensions."
      ]
    },
    {
      "cell_type": "code",
      "metadata": {
        "id": "ebogQEC7NgMi"
      },
      "source": [
        "stock = stock1\r\n",
        "tstock = tstock1\r\n",
        "target = 'Close-Stock-1'\r\n",
        "epochs = 180\r\n",
        "time_step = 4"
      ],
      "execution_count": null,
      "outputs": []
    },
    {
      "cell_type": "code",
      "metadata": {
        "colab": {
          "base_uri": "https://localhost:8080/"
        },
        "id": "6QGYkIJClKbb",
        "outputId": "0be73f9a-452e-408a-c79d-7165d112dd36"
      },
      "source": [
        "from sklearn.preprocessing import MinMaxScaler\r\n",
        "mm = MinMaxScaler()\r\n",
        "s1_train = mm.fit_transform(stock[:round(len(stock)*0.65)].drop(target,axis = 1).values)\r\n",
        "s1_test =  mm.fit_transform(stock[round(len(stock)*0.65):].drop(target,axis = 1).values)\r\n",
        "s1_train_targ =  mm.fit_transform(stock[:round(len(stock)*0.65)][target].values.reshape(-1,1))\r\n",
        "s1_test_targ =  mm.fit_transform(stock[round(len(stock)*0.65):][target].values.reshape(-1,1))\r\n",
        "\r\n",
        "s1_train.shape,s1_test.shape,s1_train_targ.shape,s1_test_targ.shape\r\n",
        "\r\n",
        "\r\n",
        "#Trying with all data. No validation set\r\n",
        "t1 = mm.fit_transform(stock[:round(len(stock))].drop(target,axis = 1).values)\r\n",
        "tt1 =  mm.fit_transform(stock[:round(len(stock))][target].values.reshape(-1,1))\r\n",
        "t1.shape,tt1.shape"
      ],
      "execution_count": null,
      "outputs": [
        {
          "output_type": "execute_result",
          "data": {
            "text/plain": [
              "((299, 6), (299, 1))"
            ]
          },
          "metadata": {
            "tags": []
          },
          "execution_count": 55
        }
      ]
    },
    {
      "cell_type": "code",
      "metadata": {
        "id": "E6oY4reQMIDq"
      },
      "source": [
        "def time_seriesdata(independent,dependent,time_step):\r\n",
        "  x,y = [],[]\r\n",
        "\r\n",
        "  for i in range(len(dependent)-time_step):\r\n",
        "    x.append(independent[i:(time_step+i)])\r\n",
        "    y.append(dependent[time_step+i])\r\n",
        "  return np.array(x),np.array(y)"
      ],
      "execution_count": null,
      "outputs": []
    },
    {
      "cell_type": "code",
      "metadata": {
        "id": "PTzJqIXc2_WN"
      },
      "source": [
        "x_train,y_train = time_seriesdata(t1,tt1,time_step)"
      ],
      "execution_count": null,
      "outputs": []
    },
    {
      "cell_type": "code",
      "metadata": {
        "id": "N331lDcuMI1V"
      },
      "source": [
        "# x_train,y_train = time_seriesdata(s1_train,s1_train_targ,time_step)\r\n",
        "# x_test,y_test = time_seriesdata(s1_test,s1_test_targ,time_step)"
      ],
      "execution_count": null,
      "outputs": []
    },
    {
      "cell_type": "code",
      "metadata": {
        "colab": {
          "base_uri": "https://localhost:8080/"
        },
        "id": "n59bznYFaYbA",
        "outputId": "e3aa99ac-ace1-4a44-d024-7c571d9b85e4"
      },
      "source": [
        "y_train.shape"
      ],
      "execution_count": null,
      "outputs": [
        {
          "output_type": "execute_result",
          "data": {
            "text/plain": [
              "(295, 1)"
            ]
          },
          "metadata": {
            "tags": []
          },
          "execution_count": 59
        }
      ]
    },
    {
      "cell_type": "code",
      "metadata": {
        "id": "xZf3pvKX4r4S"
      },
      "source": [
        "def reshape(var):\r\n",
        "  return var.reshape(var.shape[0])"
      ],
      "execution_count": null,
      "outputs": []
    },
    {
      "cell_type": "code",
      "metadata": {
        "id": "dHeqYtdOLi5B"
      },
      "source": [
        "ytrain = reshape(y_train)\r\n",
        "#ytest = reshape(y_test)"
      ],
      "execution_count": null,
      "outputs": []
    },
    {
      "cell_type": "code",
      "metadata": {
        "id": "KO9E0CtqPX4b"
      },
      "source": [
        "def xreshape(var):\r\n",
        "  return var.reshape(var.shape[0],-1,1)"
      ],
      "execution_count": null,
      "outputs": []
    },
    {
      "cell_type": "code",
      "metadata": {
        "colab": {
          "base_uri": "https://localhost:8080/"
        },
        "id": "0n_RWBDXPZhe",
        "outputId": "00d1237c-c95c-4fbf-ef54-6ffb3492a67f"
      },
      "source": [
        "xtrain = xreshape(x_train)\r\n",
        "#xtest = xreshape(x_test)\r\n",
        "xtrain.shape\r\n",
        "#xtest.shape"
      ],
      "execution_count": null,
      "outputs": [
        {
          "output_type": "execute_result",
          "data": {
            "text/plain": [
              "(295, 24, 1)"
            ]
          },
          "metadata": {
            "tags": []
          },
          "execution_count": 63
        }
      ]
    },
    {
      "cell_type": "markdown",
      "metadata": {
        "id": "MjKdmNoyNwJj"
      },
      "source": [
        "# Next Step is to create the LSTM stack"
      ]
    },
    {
      "cell_type": "code",
      "metadata": {
        "id": "sIKW9f91NyUU"
      },
      "source": [
        "#Stacked LSTM\r\n",
        "from tensorflow.keras.models import Sequential\r\n",
        "from tensorflow.keras.layers import Dense\r\n",
        "from tensorflow.keras.layers import LSTM,Dropout\r\n",
        "model = Sequential()\r\n",
        "model.add(LSTM(xtrain.shape[1], return_sequences=True,input_shape=(xtrain.shape[1], 1)))\r\n",
        "model.add(LSTM(xtrain.shape[1],return_sequences=True))\r\n",
        "model.add(LSTM(xtrain.shape[1]))\r\n",
        "model.add(Dense(1))\r\n",
        "model.compile(loss='mean_squared_error',optimizer = 'adam')"
      ],
      "execution_count": null,
      "outputs": []
    },
    {
      "cell_type": "code",
      "metadata": {
        "colab": {
          "base_uri": "https://localhost:8080/"
        },
        "id": "eGiG0CXjVAF-",
        "outputId": "28b621a1-7a2e-4354-e67c-f926eb0db49e"
      },
      "source": [
        "model.fit(xtrain,ytrain,epochs = epochs,batch_size = 64)"
      ],
      "execution_count": null,
      "outputs": [
        {
          "output_type": "stream",
          "text": [
            "Epoch 1/180\n",
            "5/5 [==============================] - 5s 31ms/step - loss: 0.5606\n",
            "Epoch 2/180\n",
            "5/5 [==============================] - 0s 32ms/step - loss: 0.2815\n",
            "Epoch 3/180\n",
            "5/5 [==============================] - 0s 30ms/step - loss: 0.0425\n",
            "Epoch 4/180\n",
            "5/5 [==============================] - 0s 28ms/step - loss: 0.0692\n",
            "Epoch 5/180\n",
            "5/5 [==============================] - 0s 30ms/step - loss: 0.0264\n",
            "Epoch 6/180\n",
            "5/5 [==============================] - 0s 29ms/step - loss: 0.0215\n",
            "Epoch 7/180\n",
            "5/5 [==============================] - 0s 31ms/step - loss: 0.0287\n",
            "Epoch 8/180\n",
            "5/5 [==============================] - 0s 33ms/step - loss: 0.0138\n",
            "Epoch 9/180\n",
            "5/5 [==============================] - 0s 31ms/step - loss: 0.0150\n",
            "Epoch 10/180\n",
            "5/5 [==============================] - 0s 33ms/step - loss: 0.0181\n",
            "Epoch 11/180\n",
            "5/5 [==============================] - 0s 33ms/step - loss: 0.0149\n",
            "Epoch 12/180\n",
            "5/5 [==============================] - 0s 32ms/step - loss: 0.0129\n",
            "Epoch 13/180\n",
            "5/5 [==============================] - 0s 34ms/step - loss: 0.0125\n",
            "Epoch 14/180\n",
            "5/5 [==============================] - 0s 33ms/step - loss: 0.0121\n",
            "Epoch 15/180\n",
            "5/5 [==============================] - 0s 31ms/step - loss: 0.0121\n",
            "Epoch 16/180\n",
            "5/5 [==============================] - 0s 31ms/step - loss: 0.0137\n",
            "Epoch 17/180\n",
            "5/5 [==============================] - 0s 30ms/step - loss: 0.0113\n",
            "Epoch 18/180\n",
            "5/5 [==============================] - 0s 30ms/step - loss: 0.0162\n",
            "Epoch 19/180\n",
            "5/5 [==============================] - 0s 32ms/step - loss: 0.0111\n",
            "Epoch 20/180\n",
            "5/5 [==============================] - 0s 31ms/step - loss: 0.0097\n",
            "Epoch 21/180\n",
            "5/5 [==============================] - 0s 32ms/step - loss: 0.0127\n",
            "Epoch 22/180\n",
            "5/5 [==============================] - 0s 33ms/step - loss: 0.0105\n",
            "Epoch 23/180\n",
            "5/5 [==============================] - 0s 30ms/step - loss: 0.0101\n",
            "Epoch 24/180\n",
            "5/5 [==============================] - 0s 32ms/step - loss: 0.0117\n",
            "Epoch 25/180\n",
            "5/5 [==============================] - 0s 29ms/step - loss: 0.0104\n",
            "Epoch 26/180\n",
            "5/5 [==============================] - 0s 29ms/step - loss: 0.0076\n",
            "Epoch 27/180\n",
            "5/5 [==============================] - 0s 33ms/step - loss: 0.0107\n",
            "Epoch 28/180\n",
            "5/5 [==============================] - 0s 30ms/step - loss: 0.0087\n",
            "Epoch 29/180\n",
            "5/5 [==============================] - 0s 33ms/step - loss: 0.0072\n",
            "Epoch 30/180\n",
            "5/5 [==============================] - 0s 35ms/step - loss: 0.0080\n",
            "Epoch 31/180\n",
            "5/5 [==============================] - 0s 31ms/step - loss: 0.0055\n",
            "Epoch 32/180\n",
            "5/5 [==============================] - 0s 33ms/step - loss: 0.0070\n",
            "Epoch 33/180\n",
            "5/5 [==============================] - 0s 31ms/step - loss: 0.0065\n",
            "Epoch 34/180\n",
            "5/5 [==============================] - 0s 31ms/step - loss: 0.0084\n",
            "Epoch 35/180\n",
            "5/5 [==============================] - 0s 32ms/step - loss: 0.0089\n",
            "Epoch 36/180\n",
            "5/5 [==============================] - 0s 32ms/step - loss: 0.0076\n",
            "Epoch 37/180\n",
            "5/5 [==============================] - 0s 40ms/step - loss: 0.0122\n",
            "Epoch 38/180\n",
            "5/5 [==============================] - 0s 31ms/step - loss: 0.0103\n",
            "Epoch 39/180\n",
            "5/5 [==============================] - 0s 34ms/step - loss: 0.0069\n",
            "Epoch 40/180\n",
            "5/5 [==============================] - 0s 31ms/step - loss: 0.0119\n",
            "Epoch 41/180\n",
            "5/5 [==============================] - 0s 33ms/step - loss: 0.0056\n",
            "Epoch 42/180\n",
            "5/5 [==============================] - 0s 35ms/step - loss: 0.0048\n",
            "Epoch 43/180\n",
            "5/5 [==============================] - 0s 33ms/step - loss: 0.0066\n",
            "Epoch 44/180\n",
            "5/5 [==============================] - 0s 33ms/step - loss: 0.0077\n",
            "Epoch 45/180\n",
            "5/5 [==============================] - 0s 36ms/step - loss: 0.0089\n",
            "Epoch 46/180\n",
            "5/5 [==============================] - 0s 32ms/step - loss: 0.0060\n",
            "Epoch 47/180\n",
            "5/5 [==============================] - 0s 33ms/step - loss: 0.0115\n",
            "Epoch 48/180\n",
            "5/5 [==============================] - 0s 35ms/step - loss: 0.0084\n",
            "Epoch 49/180\n",
            "5/5 [==============================] - 0s 33ms/step - loss: 0.0090\n",
            "Epoch 50/180\n",
            "5/5 [==============================] - 0s 36ms/step - loss: 0.0073\n",
            "Epoch 51/180\n",
            "5/5 [==============================] - 0s 33ms/step - loss: 0.0072\n",
            "Epoch 52/180\n",
            "5/5 [==============================] - 0s 35ms/step - loss: 0.0048\n",
            "Epoch 53/180\n",
            "5/5 [==============================] - 0s 37ms/step - loss: 0.0062\n",
            "Epoch 54/180\n",
            "5/5 [==============================] - 0s 32ms/step - loss: 0.0084\n",
            "Epoch 55/180\n",
            "5/5 [==============================] - 0s 34ms/step - loss: 0.0070\n",
            "Epoch 56/180\n",
            "5/5 [==============================] - 0s 33ms/step - loss: 0.0081\n",
            "Epoch 57/180\n",
            "5/5 [==============================] - 0s 34ms/step - loss: 0.0075\n",
            "Epoch 58/180\n",
            "5/5 [==============================] - 0s 33ms/step - loss: 0.0085\n",
            "Epoch 59/180\n",
            "5/5 [==============================] - 0s 31ms/step - loss: 0.0063\n",
            "Epoch 60/180\n",
            "5/5 [==============================] - 0s 34ms/step - loss: 0.0051\n",
            "Epoch 61/180\n",
            "5/5 [==============================] - 0s 35ms/step - loss: 0.0107\n",
            "Epoch 62/180\n",
            "5/5 [==============================] - 0s 35ms/step - loss: 0.0088\n",
            "Epoch 63/180\n",
            "5/5 [==============================] - 0s 33ms/step - loss: 0.0063\n",
            "Epoch 64/180\n",
            "5/5 [==============================] - 0s 35ms/step - loss: 0.0074\n",
            "Epoch 65/180\n",
            "5/5 [==============================] - 0s 33ms/step - loss: 0.0078\n",
            "Epoch 66/180\n",
            "5/5 [==============================] - 0s 32ms/step - loss: 0.0058\n",
            "Epoch 67/180\n",
            "5/5 [==============================] - 0s 31ms/step - loss: 0.0065\n",
            "Epoch 68/180\n",
            "5/5 [==============================] - 0s 32ms/step - loss: 0.0045\n",
            "Epoch 69/180\n",
            "5/5 [==============================] - 0s 30ms/step - loss: 0.0060\n",
            "Epoch 70/180\n",
            "5/5 [==============================] - 0s 34ms/step - loss: 0.0072\n",
            "Epoch 71/180\n",
            "5/5 [==============================] - 0s 32ms/step - loss: 0.0060\n",
            "Epoch 72/180\n",
            "5/5 [==============================] - 0s 31ms/step - loss: 0.0064\n",
            "Epoch 73/180\n",
            "5/5 [==============================] - 0s 30ms/step - loss: 0.0060\n",
            "Epoch 74/180\n",
            "5/5 [==============================] - 0s 33ms/step - loss: 0.0047\n",
            "Epoch 75/180\n",
            "5/5 [==============================] - 0s 29ms/step - loss: 0.0077\n",
            "Epoch 76/180\n",
            "5/5 [==============================] - 0s 29ms/step - loss: 0.0082\n",
            "Epoch 77/180\n",
            "5/5 [==============================] - 0s 32ms/step - loss: 0.0049\n",
            "Epoch 78/180\n",
            "5/5 [==============================] - 0s 32ms/step - loss: 0.0092\n",
            "Epoch 79/180\n",
            "5/5 [==============================] - 0s 29ms/step - loss: 0.0040\n",
            "Epoch 80/180\n",
            "5/5 [==============================] - 0s 31ms/step - loss: 0.0102\n",
            "Epoch 81/180\n",
            "5/5 [==============================] - 0s 29ms/step - loss: 0.0057\n",
            "Epoch 82/180\n",
            "5/5 [==============================] - 0s 29ms/step - loss: 0.0062\n",
            "Epoch 83/180\n",
            "5/5 [==============================] - 0s 31ms/step - loss: 0.0082\n",
            "Epoch 84/180\n",
            "5/5 [==============================] - 0s 32ms/step - loss: 0.0038\n",
            "Epoch 85/180\n",
            "5/5 [==============================] - 0s 30ms/step - loss: 0.0045\n",
            "Epoch 86/180\n",
            "5/5 [==============================] - 0s 31ms/step - loss: 0.0041\n",
            "Epoch 87/180\n",
            "5/5 [==============================] - 0s 29ms/step - loss: 0.0059\n",
            "Epoch 88/180\n",
            "5/5 [==============================] - 0s 29ms/step - loss: 0.0048\n",
            "Epoch 89/180\n",
            "5/5 [==============================] - 0s 32ms/step - loss: 0.0079\n",
            "Epoch 90/180\n",
            "5/5 [==============================] - 0s 30ms/step - loss: 0.0066\n",
            "Epoch 91/180\n",
            "5/5 [==============================] - 0s 31ms/step - loss: 0.0054\n",
            "Epoch 92/180\n",
            "5/5 [==============================] - 0s 32ms/step - loss: 0.0043\n",
            "Epoch 93/180\n",
            "5/5 [==============================] - 0s 31ms/step - loss: 0.0041\n",
            "Epoch 94/180\n",
            "5/5 [==============================] - 0s 29ms/step - loss: 0.0048\n",
            "Epoch 95/180\n",
            "5/5 [==============================] - 0s 30ms/step - loss: 0.0082\n",
            "Epoch 96/180\n",
            "5/5 [==============================] - 0s 32ms/step - loss: 0.0044\n",
            "Epoch 97/180\n",
            "5/5 [==============================] - 0s 32ms/step - loss: 0.0036\n",
            "Epoch 98/180\n",
            "5/5 [==============================] - 0s 30ms/step - loss: 0.0097\n",
            "Epoch 99/180\n",
            "5/5 [==============================] - 0s 32ms/step - loss: 0.0056\n",
            "Epoch 100/180\n",
            "5/5 [==============================] - 0s 35ms/step - loss: 0.0055\n",
            "Epoch 101/180\n",
            "5/5 [==============================] - 0s 29ms/step - loss: 0.0083\n",
            "Epoch 102/180\n",
            "5/5 [==============================] - 0s 32ms/step - loss: 0.0043\n",
            "Epoch 103/180\n",
            "5/5 [==============================] - 0s 32ms/step - loss: 0.0049\n",
            "Epoch 104/180\n",
            "5/5 [==============================] - 0s 30ms/step - loss: 0.0074\n",
            "Epoch 105/180\n",
            "5/5 [==============================] - 0s 31ms/step - loss: 0.0083\n",
            "Epoch 106/180\n",
            "5/5 [==============================] - 0s 32ms/step - loss: 0.0074\n",
            "Epoch 107/180\n",
            "5/5 [==============================] - 0s 31ms/step - loss: 0.0088\n",
            "Epoch 108/180\n",
            "5/5 [==============================] - 0s 32ms/step - loss: 0.0054\n",
            "Epoch 109/180\n",
            "5/5 [==============================] - 0s 31ms/step - loss: 0.0038\n",
            "Epoch 110/180\n",
            "5/5 [==============================] - 0s 32ms/step - loss: 0.0044\n",
            "Epoch 111/180\n",
            "5/5 [==============================] - 0s 30ms/step - loss: 0.0032\n",
            "Epoch 112/180\n",
            "5/5 [==============================] - 0s 32ms/step - loss: 0.0081\n",
            "Epoch 113/180\n",
            "5/5 [==============================] - 0s 31ms/step - loss: 0.0074\n",
            "Epoch 114/180\n",
            "5/5 [==============================] - 0s 30ms/step - loss: 0.0088\n",
            "Epoch 115/180\n",
            "5/5 [==============================] - 0s 35ms/step - loss: 0.0035\n",
            "Epoch 116/180\n",
            "5/5 [==============================] - 0s 31ms/step - loss: 0.0077\n",
            "Epoch 117/180\n",
            "5/5 [==============================] - 0s 34ms/step - loss: 0.0044\n",
            "Epoch 118/180\n",
            "5/5 [==============================] - 0s 31ms/step - loss: 0.0077\n",
            "Epoch 119/180\n",
            "5/5 [==============================] - 0s 30ms/step - loss: 0.0040\n",
            "Epoch 120/180\n",
            "5/5 [==============================] - 0s 31ms/step - loss: 0.0048\n",
            "Epoch 121/180\n",
            "5/5 [==============================] - 0s 31ms/step - loss: 0.0060\n",
            "Epoch 122/180\n",
            "5/5 [==============================] - 0s 33ms/step - loss: 0.0077\n",
            "Epoch 123/180\n",
            "5/5 [==============================] - 0s 30ms/step - loss: 0.0056\n",
            "Epoch 124/180\n",
            "5/5 [==============================] - 0s 30ms/step - loss: 0.0046\n",
            "Epoch 125/180\n",
            "5/5 [==============================] - 0s 29ms/step - loss: 0.0051\n",
            "Epoch 126/180\n",
            "5/5 [==============================] - 0s 31ms/step - loss: 0.0043\n",
            "Epoch 127/180\n",
            "5/5 [==============================] - 0s 34ms/step - loss: 0.0053\n",
            "Epoch 128/180\n",
            "5/5 [==============================] - 0s 31ms/step - loss: 0.0030\n",
            "Epoch 129/180\n",
            "5/5 [==============================] - 0s 32ms/step - loss: 0.0055\n",
            "Epoch 130/180\n",
            "5/5 [==============================] - 0s 31ms/step - loss: 0.0044\n",
            "Epoch 131/180\n",
            "5/5 [==============================] - 0s 32ms/step - loss: 0.0049\n",
            "Epoch 132/180\n",
            "5/5 [==============================] - 0s 32ms/step - loss: 0.0049\n",
            "Epoch 133/180\n",
            "5/5 [==============================] - 0s 30ms/step - loss: 0.0077\n",
            "Epoch 134/180\n",
            "5/5 [==============================] - 0s 33ms/step - loss: 0.0067\n",
            "Epoch 135/180\n",
            "5/5 [==============================] - 0s 30ms/step - loss: 0.0037\n",
            "Epoch 136/180\n",
            "5/5 [==============================] - 0s 32ms/step - loss: 0.0041\n",
            "Epoch 137/180\n",
            "5/5 [==============================] - 0s 30ms/step - loss: 0.0039\n",
            "Epoch 138/180\n",
            "5/5 [==============================] - 0s 31ms/step - loss: 0.0049\n",
            "Epoch 139/180\n",
            "5/5 [==============================] - 0s 31ms/step - loss: 0.0047\n",
            "Epoch 140/180\n",
            "5/5 [==============================] - 0s 32ms/step - loss: 0.0036\n",
            "Epoch 141/180\n",
            "5/5 [==============================] - 0s 30ms/step - loss: 0.0057\n",
            "Epoch 142/180\n",
            "5/5 [==============================] - 0s 31ms/step - loss: 0.0059\n",
            "Epoch 143/180\n",
            "5/5 [==============================] - 0s 31ms/step - loss: 0.0075\n",
            "Epoch 144/180\n",
            "5/5 [==============================] - 0s 32ms/step - loss: 0.0061\n",
            "Epoch 145/180\n",
            "5/5 [==============================] - 0s 33ms/step - loss: 0.0047\n",
            "Epoch 146/180\n",
            "5/5 [==============================] - 0s 33ms/step - loss: 0.0042\n",
            "Epoch 147/180\n",
            "5/5 [==============================] - 0s 31ms/step - loss: 0.0053\n",
            "Epoch 148/180\n",
            "5/5 [==============================] - 0s 34ms/step - loss: 0.0064\n",
            "Epoch 149/180\n",
            "5/5 [==============================] - 0s 31ms/step - loss: 0.0079\n",
            "Epoch 150/180\n",
            "5/5 [==============================] - 0s 29ms/step - loss: 0.0048\n",
            "Epoch 151/180\n",
            "5/5 [==============================] - 0s 32ms/step - loss: 0.0078\n",
            "Epoch 152/180\n",
            "5/5 [==============================] - 0s 34ms/step - loss: 0.0051\n",
            "Epoch 153/180\n",
            "5/5 [==============================] - 0s 30ms/step - loss: 0.0072\n",
            "Epoch 154/180\n",
            "5/5 [==============================] - 0s 30ms/step - loss: 0.0075\n",
            "Epoch 155/180\n",
            "5/5 [==============================] - 0s 31ms/step - loss: 0.0043\n",
            "Epoch 156/180\n",
            "5/5 [==============================] - 0s 31ms/step - loss: 0.0076\n",
            "Epoch 157/180\n",
            "5/5 [==============================] - 0s 32ms/step - loss: 0.0051\n",
            "Epoch 158/180\n",
            "5/5 [==============================] - 0s 31ms/step - loss: 0.0047\n",
            "Epoch 159/180\n",
            "5/5 [==============================] - 0s 33ms/step - loss: 0.0056\n",
            "Epoch 160/180\n",
            "5/5 [==============================] - 0s 33ms/step - loss: 0.0039\n",
            "Epoch 161/180\n",
            "5/5 [==============================] - 0s 32ms/step - loss: 0.0047\n",
            "Epoch 162/180\n",
            "5/5 [==============================] - 0s 30ms/step - loss: 0.0079\n",
            "Epoch 163/180\n",
            "5/5 [==============================] - 0s 32ms/step - loss: 0.0057\n",
            "Epoch 164/180\n",
            "5/5 [==============================] - 0s 30ms/step - loss: 0.0032\n",
            "Epoch 165/180\n",
            "5/5 [==============================] - 0s 33ms/step - loss: 0.0045\n",
            "Epoch 166/180\n",
            "5/5 [==============================] - 0s 33ms/step - loss: 0.0037\n",
            "Epoch 167/180\n",
            "5/5 [==============================] - 0s 30ms/step - loss: 0.0069\n",
            "Epoch 168/180\n",
            "5/5 [==============================] - 0s 31ms/step - loss: 0.0066\n",
            "Epoch 169/180\n",
            "5/5 [==============================] - 0s 32ms/step - loss: 0.0061\n",
            "Epoch 170/180\n",
            "5/5 [==============================] - 0s 31ms/step - loss: 0.0075\n",
            "Epoch 171/180\n",
            "5/5 [==============================] - 0s 34ms/step - loss: 0.0032\n",
            "Epoch 172/180\n",
            "5/5 [==============================] - 0s 30ms/step - loss: 0.0043\n",
            "Epoch 173/180\n",
            "5/5 [==============================] - 0s 32ms/step - loss: 0.0084\n",
            "Epoch 174/180\n",
            "5/5 [==============================] - 0s 31ms/step - loss: 0.0038\n",
            "Epoch 175/180\n",
            "5/5 [==============================] - 0s 30ms/step - loss: 0.0037\n",
            "Epoch 176/180\n",
            "5/5 [==============================] - 0s 31ms/step - loss: 0.0050\n",
            "Epoch 177/180\n",
            "5/5 [==============================] - 0s 32ms/step - loss: 0.0033\n",
            "Epoch 178/180\n",
            "5/5 [==============================] - 0s 30ms/step - loss: 0.0037\n",
            "Epoch 179/180\n",
            "5/5 [==============================] - 0s 33ms/step - loss: 0.0077\n",
            "Epoch 180/180\n",
            "5/5 [==============================] - 0s 30ms/step - loss: 0.0075\n"
          ],
          "name": "stdout"
        },
        {
          "output_type": "execute_result",
          "data": {
            "text/plain": [
              "<tensorflow.python.keras.callbacks.History at 0x7fcb900ae550>"
            ]
          },
          "metadata": {
            "tags": []
          },
          "execution_count": 65
        }
      ]
    },
    {
      "cell_type": "markdown",
      "metadata": {
        "id": "hwfNLWV7Ny6J"
      },
      "source": [
        "# Now make predictions on the train set to see model performance"
      ]
    },
    {
      "cell_type": "code",
      "metadata": {
        "id": "LO3kjoRom94L"
      },
      "source": [
        "train_predict = model.predict(xtrain)\r\n",
        "# test_predict = model.predict(xtest)"
      ],
      "execution_count": null,
      "outputs": []
    },
    {
      "cell_type": "code",
      "metadata": {
        "id": "T-bSDZe63KIQ"
      },
      "source": [
        "train_predict = reshape(train_predict)\r\n",
        "# test_predict = reshape(test_predict)"
      ],
      "execution_count": null,
      "outputs": []
    },
    {
      "cell_type": "code",
      "metadata": {
        "id": "oHxhWnTvpdPh"
      },
      "source": [
        "train_y_trans = mm.inverse_transform(ytrain.reshape(-1,1))\r\n",
        "#test_y_trans = pd.Series(np.squeeze(mm.inverse_transform(y_test.reshape(1,-1))),index = list(range(xtrain.shape[0],xtrain.shape[0]+xtest.shape[0])))\r\n",
        "train_predict_trans = mm.inverse_transform(train_predict.reshape(-1,1))\r\n",
        "#test_predict_trans = pd.Series(np.squeeze(mm.inverse_transform(test_predict.reshape(-1,1)).reshape(1,-1)),index = list(range(xtrain.shape[0],xtrain.shape[0]+xtest.shape[0])))"
      ],
      "execution_count": null,
      "outputs": []
    },
    {
      "cell_type": "code",
      "metadata": {
        "id": "JHfMEcl3UIj4",
        "colab": {
          "base_uri": "https://localhost:8080/"
        },
        "outputId": "00033c49-a36d-4b0c-8ca9-daca5f680771"
      },
      "source": [
        "from sklearn.metrics import mean_squared_error\r\n",
        "np.sqrt(mean_squared_error(mm.inverse_transform(y_train.reshape(-1,1)),train_predict_trans))"
      ],
      "execution_count": null,
      "outputs": [
        {
          "output_type": "execute_result",
          "data": {
            "text/plain": [
              "149.07945935842935"
            ]
          },
          "metadata": {
            "tags": []
          },
          "execution_count": 69
        }
      ]
    },
    {
      "cell_type": "code",
      "metadata": {
        "id": "aZcaqkH4UMqW"
      },
      "source": [
        "# from sklearn.metrics import mean_squared_error\r\n",
        "# np.sqrt(mean_squared_error(mm.inverse_transform(y_test.reshape(-1,1)),test_predict_trans))"
      ],
      "execution_count": null,
      "outputs": []
    },
    {
      "cell_type": "code",
      "metadata": {
        "id": "3JwYLte0pQcU",
        "colab": {
          "base_uri": "https://localhost:8080/",
          "height": 374
        },
        "outputId": "7579e018-57f3-4c66-f9da-246d87829fb9"
      },
      "source": [
        "plt.figure(figsize = (15,6))\r\n",
        "plt.plot(train_y_trans)\r\n",
        "#plt.plot(test_y_trans)\r\n",
        "\r\n",
        "\r\n",
        "plt.plot(train_predict_trans)\r\n",
        "#plt.plot(test_predict_trans)\r\n",
        "plt.show()"
      ],
      "execution_count": null,
      "outputs": [
        {
          "output_type": "display_data",
          "data": {
            "image/png": "[encoded data removed]",
            "text/plain": [
              "<Figure size 1080x432 with 1 Axes>"
            ]
          },
          "metadata": {
            "tags": [],
            "needs_background": "light"
          }
        }
      ]
    },
    {
      "cell_type": "code",
      "metadata": {
        "id": "c6Xkya6HoJP6"
      },
      "source": [
        ""
      ],
      "execution_count": null,
      "outputs": []
    },
    {
      "cell_type": "code",
      "metadata": {
        "id": "Zg4JRftMQXlp"
      },
      "source": [
        ""
      ],
      "execution_count": null,
      "outputs": []
    },
    {
      "cell_type": "code",
      "metadata": {
        "id": "u6WHk18SN6ju"
      },
      "source": [
        "# t = mm.inverse_transform(ytrain.reshape(-1,1))\r\n",
        "# tp = pd.Series(np.squeeze(train_predict))\r\n",
        "# inv = mm.inverse_transform(ytest.reshape(-1,1))\r\n",
        "# tt = pd.Series(np.squeeze(inv.reshape(1,-1)),range(ytrain.shape[0]+1,ytrain.shape[0]+xtest.shape[0]+1))\r\n",
        "# ttp = pd.Series(np.squeeze(test_predict),index = range(ytrain.shape[0]+1,ytrain.shape[0]+xtest.shape[0]+1))\r\n"
      ],
      "execution_count": null,
      "outputs": []
    },
    {
      "cell_type": "code",
      "metadata": {
        "id": "_gIyPnOSnOLn"
      },
      "source": [
        ""
      ],
      "execution_count": null,
      "outputs": []
    },
    {
      "cell_type": "markdown",
      "metadata": {
        "id": "NwACLJGrN3sb"
      },
      "source": [
        "# Introduce your submission file and make predictions\r\n",
        "\r\n",
        "* Select last time_step records from the train data to predict the first value of the test data.\r\n",
        "\r\n",
        "* Now remove the 4th last row from the predicting values and add the first row of data from test set to predict the next record.\r\n",
        "\r\n",
        "* Do this for 97 records.\r\n",
        "\r\n",
        "* Remember to concatinate the test data and fit it with the entire data and not just with the testset alone. So that Min Max would not consider the lower value as high!!!!!!!!"
      ]
    },
    {
      "cell_type": "code",
      "metadata": {
        "id": "z9jGRMZQN8RV"
      },
      "source": [
        "new_dataset = mm.fit_transform(pd.concat((stock.drop(target,axis = 1),tstock)))[len(stock)-(time_step):]"
      ],
      "execution_count": null,
      "outputs": []
    },
    {
      "cell_type": "code",
      "metadata": {
        "colab": {
          "base_uri": "https://localhost:8080/"
        },
        "id": "aN5STjUACqil",
        "outputId": "e690279b-45a4-473b-b11a-46fb438bbb4d"
      },
      "source": [
        "len(new_dataset)"
      ],
      "execution_count": null,
      "outputs": [
        {
          "output_type": "execute_result",
          "data": {
            "text/plain": [
              "101"
            ]
          },
          "metadata": {
            "tags": []
          },
          "execution_count": 74
        }
      ]
    },
    {
      "cell_type": "code",
      "metadata": {
        "id": "4Ok4lTRDfwF5"
      },
      "source": [
        "def fortest_time_seriesdata(independent,time_step):\r\n",
        "  x = []\r\n",
        "\r\n",
        "  for i in range(len(independent)-time_step):\r\n",
        "    x.append(independent[i:(time_step+i)])\r\n",
        "  return np.array(x)"
      ],
      "execution_count": null,
      "outputs": []
    },
    {
      "cell_type": "code",
      "metadata": {
        "id": "2_LMj8Mnl8R5"
      },
      "source": [
        "testing1 = fortest_time_seriesdata(new_dataset,time_step)"
      ],
      "execution_count": null,
      "outputs": []
    },
    {
      "cell_type": "code",
      "metadata": {
        "id": "Mkaxt67ZmCZE"
      },
      "source": [
        "testing = xreshape(testing1)"
      ],
      "execution_count": null,
      "outputs": []
    },
    {
      "cell_type": "code",
      "metadata": {
        "id": "5CCATogrmXdj"
      },
      "source": [
        "predictions = model.predict(testing)\r\n",
        "pred = reshape(predictions)"
      ],
      "execution_count": null,
      "outputs": []
    },
    {
      "cell_type": "code",
      "metadata": {
        "id": "Jezhm4ifnbWc"
      },
      "source": [
        "# s1_train_targ =  mm.fit_transform(stock[:round(len(stock)*0.65)][target].values.reshape(-1,1))\r\n",
        "# s1_test_targ =  mm.fit_transform(stock[round(len(stock)*0.65):][target].values.reshape(-1,1))"
      ],
      "execution_count": null,
      "outputs": []
    },
    {
      "cell_type": "code",
      "metadata": {
        "id": "V4EyT52L92Wx"
      },
      "source": [
        "s1_train_targ =  mm.fit_transform(stock[:round(len(stock))][target].values.reshape(-1,1))\r\n",
        "#s1_test_targ =  mm.fit_transform(stock[round(len(stock)):][target].values.reshape(-1,1))"
      ],
      "execution_count": null,
      "outputs": []
    },
    {
      "cell_type": "code",
      "metadata": {
        "id": "uZXwGoYVmg8k"
      },
      "source": [
        "stock_predictions = pd.Series(mm.inverse_transform(pred.reshape(-1,1)).reshape(-1))"
      ],
      "execution_count": null,
      "outputs": []
    },
    {
      "cell_type": "code",
      "metadata": {
        "colab": {
          "base_uri": "https://localhost:8080/",
          "height": 288
        },
        "id": "jzemoQN3m6DL",
        "outputId": "58b836cb-d2ad-4c99-ba3d-ed3ae1234a1f"
      },
      "source": [
        "stock_predictions.plot()"
      ],
      "execution_count": null,
      "outputs": [
        {
          "output_type": "execute_result",
          "data": {
            "text/plain": [
              "<matplotlib.axes._subplots.AxesSubplot at 0x7fcb8e6a03c8>"
            ]
          },
          "metadata": {
            "tags": []
          },
          "execution_count": 82
        },
        {
          "output_type": "display_data",
          "data": {
            "image/png": "[encoded data removed]",
            "text/plain": [
              "<Figure size 432x288 with 1 Axes>"
            ]
          },
          "metadata": {
            "tags": [],
            "needs_background": "light"
          }
        }
      ]
    },
    {
      "cell_type": "code",
      "metadata": {
        "colab": {
          "base_uri": "https://localhost:8080/",
          "height": 423
        },
        "id": "rESVJkkWm7im",
        "outputId": "a0bd318a-95d6-420c-e373-c93018e3bf40"
      },
      "source": [
        "pd.DataFrame(stock_predictions.values)"
      ],
      "execution_count": null,
      "outputs": [
        {
          "output_type": "execute_result",
          "data": {
            "text/html": [
              "<div>\n",
              "<style scoped>\n",
              "    .dataframe tbody tr th:only-of-type {\n",
              "        vertical-align: middle;\n",
              "    }\n",
              "\n",
              "    .dataframe tbody tr th {\n",
              "        vertical-align: top;\n",
              "    }\n",
              "\n",
              "    .dataframe thead th {\n",
              "        text-align: right;\n",
              "    }\n",
              "</style>\n",
              "<table border=\"1\" class=\"dataframe\">\n",
              "  <thead>\n",
              "    <tr style=\"text-align: right;\">\n",
              "      <th></th>\n",
              "      <th>0</th>\n",
              "    </tr>\n",
              "  </thead>\n",
              "  <tbody>\n",
              "    <tr>\n",
              "      <th>0</th>\n",
              "      <td>129.843689</td>\n",
              "    </tr>\n",
              "    <tr>\n",
              "      <th>1</th>\n",
              "      <td>117.693329</td>\n",
              "    </tr>\n",
              "    <tr>\n",
              "      <th>2</th>\n",
              "      <td>111.675690</td>\n",
              "    </tr>\n",
              "    <tr>\n",
              "      <th>3</th>\n",
              "      <td>144.855576</td>\n",
              "    </tr>\n",
              "    <tr>\n",
              "      <th>4</th>\n",
              "      <td>193.226059</td>\n",
              "    </tr>\n",
              "    <tr>\n",
              "      <th>...</th>\n",
              "      <td>...</td>\n",
              "    </tr>\n",
              "    <tr>\n",
              "      <th>92</th>\n",
              "      <td>266.421783</td>\n",
              "    </tr>\n",
              "    <tr>\n",
              "      <th>93</th>\n",
              "      <td>191.877396</td>\n",
              "    </tr>\n",
              "    <tr>\n",
              "      <th>94</th>\n",
              "      <td>138.387634</td>\n",
              "    </tr>\n",
              "    <tr>\n",
              "      <th>95</th>\n",
              "      <td>81.150894</td>\n",
              "    </tr>\n",
              "    <tr>\n",
              "      <th>96</th>\n",
              "      <td>38.851196</td>\n",
              "    </tr>\n",
              "  </tbody>\n",
              "</table>\n",
              "<p>97 rows × 1 columns</p>\n",
              "</div>"
            ],
            "text/plain": [
              "             0\n",
              "0   129.843689\n",
              "1   117.693329\n",
              "2   111.675690\n",
              "3   144.855576\n",
              "4   193.226059\n",
              "..         ...\n",
              "92  266.421783\n",
              "93  191.877396\n",
              "94  138.387634\n",
              "95   81.150894\n",
              "96   38.851196\n",
              "\n",
              "[97 rows x 1 columns]"
            ]
          },
          "metadata": {
            "tags": []
          },
          "execution_count": 83
        }
      ]
    },
    {
      "cell_type": "code",
      "metadata": {
        "id": "V61i2ED3VQdo"
      },
      "source": [
        "stock = stock2\r\n",
        "tstock = tstock2\r\n",
        "target = 'Close-Stock-2'\r\n",
        "epochs = 1800"
      ],
      "execution_count": null,
      "outputs": []
    },
    {
      "cell_type": "code",
      "metadata": {
        "id": "ezGmHE08yQRL"
      },
      "source": [
        "def stock_prediction(stock,tstock,target,epochs,time_step):\r\n",
        "  \r\n",
        "  from sklearn.preprocessing import MinMaxScaler\r\n",
        "  from sklearn.metrics import mean_squared_error\r\n",
        "  from tensorflow.keras.models import Sequential\r\n",
        "  from tensorflow.keras.layers import Dense\r\n",
        "  from tensorflow.keras.layers import LSTM,Dropout\r\n",
        "  \r\n",
        "  time_step = time_step\r\n",
        "\r\n",
        "  \r\n",
        "  mm = MinMaxScaler()\r\n",
        "  s1_train = mm.fit_transform(stock[:round(len(stock)*0.65)].drop(target,axis = 1).values)\r\n",
        "  s1_test =  mm.fit_transform(stock[round(len(stock)*0.65):].drop(target,axis = 1).values)\r\n",
        "  s1_train_targ =  mm.fit_transform(stock[:round(len(stock)*0.65)][target].values.reshape(-1,1))\r\n",
        "  s1_test_targ =  mm.fit_transform(stock[round(len(stock)*0.65):][target].values.reshape(-1,1))\r\n",
        "\r\n",
        "  def time_seriesdata(independent,dependent,time_step):\r\n",
        "    x,y = [],[]\r\n",
        "\r\n",
        "    for i in range(len(dependent)-time_step):\r\n",
        "      x.append(independent[i:(time_step+i)])\r\n",
        "      y.append(dependent[time_step+i])\r\n",
        "    return np.array(x),np.array(y)\r\n",
        "\r\n",
        "    x_train,y_train = time_seriesdata(s1_train,s1_train_targ,time_step)\r\n",
        "    x_test,y_test = time_seriesdata(s1_test,s1_test_targ,time_step)\r\n",
        "\r\n",
        "  def reshape(var):\r\n",
        "    return var.reshape(var.shape[0])\r\n",
        "\r\n",
        "  def xreshape(var):\r\n",
        "    return var.reshape(var.shape[0],-1,1)\r\n",
        "\r\n",
        "  ytrain,ytest,xtrain,xtest = reshape(y_train),reshape(y_test),xreshape(x_train),xreshape(x_test)\r\n",
        "\r\n",
        "  #Stacked LSTM\r\n",
        "  \r\n",
        "  model = Sequential()\r\n",
        "  model.add(LSTM(time_step, return_sequences=True,input_shape=(xtrain.shape[1], 1)))\r\n",
        "  model.add(LSTM(time_step,return_sequences=True))\r\n",
        "  model.add(LSTM(time_step))\r\n",
        "  model.add(Dense(1))\r\n",
        "  model.compile(loss='mean_squared_error',optimizer = 'adam')\r\n",
        "\r\n",
        "  model.fit(xtrain,ytrain,epochs = epochs,validation_data=(xtest,ytest),batch_size = 64)\r\n",
        "\r\n",
        "  train_predict = reshape(model.predict(xtrain))\r\n",
        "  test_predict = reshape(model.predict(xtest))\r\n",
        "\r\n",
        "  train_y_trans = mm.inverse_transform(ytrain.reshape(-1,1))\r\n",
        "  test_y_trans = pd.Series(np.squeeze(mm.inverse_transform(y_test.reshape(1,-1))),index = list(range(xtrain.shape[0],xtrain.shape[0]+xtest.shape[0])))\r\n",
        "  train_predict_trans = mm.inverse_transform(train_predict.reshape(-1,1))\r\n",
        "  test_predict_trans = pd.Series(np.squeeze(mm.inverse_transform(test_predict.reshape(-1,1)).reshape(1,-1)),index = list(range(xtrain.shape[0],xtrain.shape[0]+xtest.shape[0])))\r\n",
        "\r\n",
        "  train_score = np.sqrt(mean_squared_error(mm.inverse_transform(y_train.reshape(-1,1)),train_predict_trans))\r\n",
        "  test_score = np.sqrt(mean_squared_error(mm.inverse_transform(y_test.reshape(-1,1)),test_predict_trans))\r\n",
        "\r\n",
        "\r\n",
        "  #Using new data to make predictions\r\n",
        "\r\n",
        "  new_dataset = mm.fit_transform(pd.concat((stock.drop(target,axis = 1),tstock)))[len(stock)-(time_step):]\r\n",
        "\r\n",
        "  def fortest_time_seriesdata(independent,time_step):\r\n",
        "    x = []\r\n",
        "\r\n",
        "    for i in range(len(independent)-time_step):\r\n",
        "      x.append(independent[i:(time_step+i)])\r\n",
        "    return np.array(x)\r\n",
        "\r\n",
        "  testing1 = fortest_time_seriesdata(new_dataset,time_step)\r\n",
        "  testing = xreshape(testing1)\r\n",
        "  predictions = model.predict(testing)\r\n",
        "  pred = reshape(predictions)\r\n",
        "\r\n",
        "  s1_train_targ =  mm.fit_transform(stock[:round(len(stock)*0.65)][target].values.reshape(-1,1))\r\n",
        "  s1_test_targ =  mm.fit_transform(stock[round(len(stock)*0.65):][target].values.reshape(-1,1))\r\n",
        "\r\n",
        "  stock_predictions = mm.inverse_transform(pred.reshape(-1,1)).reshape(-1)\r\n",
        "  return stock_predictions"
      ],
      "execution_count": null,
      "outputs": []
    },
    {
      "cell_type": "code",
      "metadata": {
        "id": "8gxVP8Egdk2Q"
      },
      "source": [
        "stock1 = train[['Open-Stock-1', 'High-Stock-1', 'Low-Stock-1', 'Close-Stock-1','VWAP-Stock-1', 'Volume-Stock-1', 'Turnover-Stock-1']]\r\n",
        "stock2 = train[['Open-Stock-2', 'High-Stock-2', 'Low-Stock-2', 'Close-Stock-2','VWAP-Stock-2', 'Volume-Stock-2', 'Turnover-Stock-2']]\r\n",
        "stock3 = train[['Open-Stock-3', 'High-Stock-3', 'Low-Stock-3', 'Close-Stock-3','VWAP-Stock-3', 'Volume-Stock-3', 'Turnover-Stock-3']]\r\n",
        "stock4 = train[['Open-Stock-4', 'High-Stock-4', 'Low-Stock-4', 'Close-Stock-4','VWAP-Stock-4', 'Volume-Stock-4', 'Turnover-Stock-4']]\r\n",
        "stock5 = train[['Open-Stock-5', 'High-Stock-5', 'Low-Stock-5', 'Close-Stock-5','VWAP-Stock-5', 'Volume-Stock-5', 'Turnover-Stock-5']]"
      ],
      "execution_count": null,
      "outputs": []
    },
    {
      "cell_type": "code",
      "metadata": {
        "id": "HvOHi2mFdk6d"
      },
      "source": [
        "tstock1 = test[['Open-Stock-1', 'High-Stock-1', 'Low-Stock-1','VWAP-Stock-1', 'Volume-Stock-1', 'Turnover-Stock-1']]\r\n",
        "tstock2 = test[['Open-Stock-2', 'High-Stock-2', 'Low-Stock-2','VWAP-Stock-2', 'Volume-Stock-2', 'Turnover-Stock-2']]\r\n",
        "tstock3 = test[['Open-Stock-3', 'High-Stock-3', 'Low-Stock-3','VWAP-Stock-3', 'Volume-Stock-3', 'Turnover-Stock-3']]\r\n",
        "tstock4 = test[['Open-Stock-4', 'High-Stock-4', 'Low-Stock-4','VWAP-Stock-4', 'Volume-Stock-4', 'Turnover-Stock-4']]\r\n",
        "tstock5 = test[['Open-Stock-5', 'High-Stock-5', 'Low-Stock-5','VWAP-Stock-5', 'Volume-Stock-5', 'Turnover-Stock-5']]"
      ],
      "execution_count": null,
      "outputs": []
    },
    {
      "cell_type": "code",
      "metadata": {
        "colab": {
          "base_uri": "https://localhost:8080/",
          "height": 378
        },
        "id": "FTiRB5JfVoYb",
        "outputId": "9929df18-81cf-4ccc-9303-ca27ae7072ad"
      },
      "source": [
        "epochs = 1800\r\n",
        "step = 4\r\n",
        "s1 = pd.Series(stock_prediction(stock1,tstock1,'Close-Stock-1',epochs = epochs,time_step = step))\r\n",
        "s2 = pd.Series(stock_prediction(stock2,tstock2,'Close-Stock-2',epochs = epochs,time_step = step))\r\n",
        "s3 = pd.Series(stock_prediction(stock3,tstock3,'Close-Stock-3',epochs = epochs,time_step = step))\r\n",
        "s4 = pd.Series(stock_prediction(stock4,tstock4,'Close-Stock-4',epochs = epochs,time_step = step))\r\n",
        "s5 = pd.Series(stock_prediction(stock5,tstock5,'Close-Stock-5',epochs = epochs,time_step = step))\r\n",
        "submission = pd.concat((test['Date'],s1,s2,s3,s4,s5),axis = 1)"
      ],
      "execution_count": null,
      "outputs": [
        {
          "output_type": "error",
          "ename": "NameError",
          "evalue": "ignored",
          "traceback": [
            "\u001b[0;31m---------------------------------------------------------------------------\u001b[0m",
            "\u001b[0;31mNameError\u001b[0m                                 Traceback (most recent call last)",
            "\u001b[0;32m<ipython-input-46-998f883b7d0d>\u001b[0m in \u001b[0;36m<module>\u001b[0;34m()\u001b[0m\n\u001b[1;32m      1\u001b[0m \u001b[0mepochs\u001b[0m \u001b[0;34m=\u001b[0m \u001b[0;36m1800\u001b[0m\u001b[0;34m\u001b[0m\u001b[0;34m\u001b[0m\u001b[0m\n\u001b[1;32m      2\u001b[0m \u001b[0mstep\u001b[0m \u001b[0;34m=\u001b[0m \u001b[0;36m4\u001b[0m\u001b[0;34m\u001b[0m\u001b[0;34m\u001b[0m\u001b[0m\n\u001b[0;32m----> 3\u001b[0;31m \u001b[0ms1\u001b[0m \u001b[0;34m=\u001b[0m \u001b[0mpd\u001b[0m\u001b[0;34m.\u001b[0m\u001b[0mSeries\u001b[0m\u001b[0;34m(\u001b[0m\u001b[0mstock_prediction\u001b[0m\u001b[0;34m(\u001b[0m\u001b[0mstock1\u001b[0m\u001b[0;34m,\u001b[0m\u001b[0mtstock1\u001b[0m\u001b[0;34m,\u001b[0m\u001b[0;34m'Close-Stock-1'\u001b[0m\u001b[0;34m,\u001b[0m\u001b[0mepochs\u001b[0m \u001b[0;34m=\u001b[0m \u001b[0mepochs\u001b[0m\u001b[0;34m,\u001b[0m\u001b[0mtime_step\u001b[0m \u001b[0;34m=\u001b[0m \u001b[0mstep\u001b[0m\u001b[0;34m)\u001b[0m\u001b[0;34m)\u001b[0m\u001b[0;34m\u001b[0m\u001b[0;34m\u001b[0m\u001b[0m\n\u001b[0m\u001b[1;32m      4\u001b[0m \u001b[0ms2\u001b[0m \u001b[0;34m=\u001b[0m \u001b[0mpd\u001b[0m\u001b[0;34m.\u001b[0m\u001b[0mSeries\u001b[0m\u001b[0;34m(\u001b[0m\u001b[0mstock_prediction\u001b[0m\u001b[0;34m(\u001b[0m\u001b[0mstock2\u001b[0m\u001b[0;34m,\u001b[0m\u001b[0mtstock2\u001b[0m\u001b[0;34m,\u001b[0m\u001b[0;34m'Close-Stock-2'\u001b[0m\u001b[0;34m,\u001b[0m\u001b[0mepochs\u001b[0m \u001b[0;34m=\u001b[0m \u001b[0mepochs\u001b[0m\u001b[0;34m,\u001b[0m\u001b[0mtime_step\u001b[0m \u001b[0;34m=\u001b[0m \u001b[0mstep\u001b[0m\u001b[0;34m)\u001b[0m\u001b[0;34m)\u001b[0m\u001b[0;34m\u001b[0m\u001b[0;34m\u001b[0m\u001b[0m\n\u001b[1;32m      5\u001b[0m \u001b[0ms3\u001b[0m \u001b[0;34m=\u001b[0m \u001b[0mpd\u001b[0m\u001b[0;34m.\u001b[0m\u001b[0mSeries\u001b[0m\u001b[0;34m(\u001b[0m\u001b[0mstock_prediction\u001b[0m\u001b[0;34m(\u001b[0m\u001b[0mstock3\u001b[0m\u001b[0;34m,\u001b[0m\u001b[0mtstock3\u001b[0m\u001b[0;34m,\u001b[0m\u001b[0;34m'Close-Stock-3'\u001b[0m\u001b[0;34m,\u001b[0m\u001b[0mepochs\u001b[0m \u001b[0;34m=\u001b[0m \u001b[0mepochs\u001b[0m\u001b[0;34m,\u001b[0m\u001b[0mtime_step\u001b[0m \u001b[0;34m=\u001b[0m \u001b[0mstep\u001b[0m\u001b[0;34m)\u001b[0m\u001b[0;34m)\u001b[0m\u001b[0;34m\u001b[0m\u001b[0;34m\u001b[0m\u001b[0m\n",
            "\u001b[0;32m<ipython-input-43-616bb10842f7>\u001b[0m in \u001b[0;36mstock_prediction\u001b[0;34m(stock, tstock, target, epochs, time_step)\u001b[0m\n\u001b[1;32m     33\u001b[0m     \u001b[0;32mreturn\u001b[0m \u001b[0mvar\u001b[0m\u001b[0;34m.\u001b[0m\u001b[0mreshape\u001b[0m\u001b[0;34m(\u001b[0m\u001b[0mvar\u001b[0m\u001b[0;34m.\u001b[0m\u001b[0mshape\u001b[0m\u001b[0;34m[\u001b[0m\u001b[0;36m0\u001b[0m\u001b[0;34m]\u001b[0m\u001b[0;34m,\u001b[0m\u001b[0;34m-\u001b[0m\u001b[0;36m1\u001b[0m\u001b[0;34m,\u001b[0m\u001b[0;36m1\u001b[0m\u001b[0;34m)\u001b[0m\u001b[0;34m\u001b[0m\u001b[0;34m\u001b[0m\u001b[0m\n\u001b[1;32m     34\u001b[0m \u001b[0;34m\u001b[0m\u001b[0m\n\u001b[0;32m---> 35\u001b[0;31m   \u001b[0mytrain\u001b[0m\u001b[0;34m,\u001b[0m\u001b[0mytest\u001b[0m\u001b[0;34m,\u001b[0m\u001b[0mxtrain\u001b[0m\u001b[0;34m,\u001b[0m\u001b[0mxtest\u001b[0m \u001b[0;34m=\u001b[0m \u001b[0mreshape\u001b[0m\u001b[0;34m(\u001b[0m\u001b[0my_train\u001b[0m\u001b[0;34m)\u001b[0m\u001b[0;34m,\u001b[0m\u001b[0mreshape\u001b[0m\u001b[0;34m(\u001b[0m\u001b[0my_test\u001b[0m\u001b[0;34m)\u001b[0m\u001b[0;34m,\u001b[0m\u001b[0mxreshape\u001b[0m\u001b[0;34m(\u001b[0m\u001b[0mx_train\u001b[0m\u001b[0;34m)\u001b[0m\u001b[0;34m,\u001b[0m\u001b[0mxreshape\u001b[0m\u001b[0;34m(\u001b[0m\u001b[0mx_test\u001b[0m\u001b[0;34m)\u001b[0m\u001b[0;34m\u001b[0m\u001b[0;34m\u001b[0m\u001b[0m\n\u001b[0m\u001b[1;32m     36\u001b[0m \u001b[0;34m\u001b[0m\u001b[0m\n\u001b[1;32m     37\u001b[0m   \u001b[0;31m#Stacked LSTM\u001b[0m\u001b[0;34m\u001b[0m\u001b[0;34m\u001b[0m\u001b[0;34m\u001b[0m\u001b[0m\n",
            "\u001b[0;31mNameError\u001b[0m: name 'y_test' is not defined"
          ]
        }
      ]
    },
    {
      "cell_type": "code",
      "metadata": {
        "id": "rpvjhmYpXqtI"
      },
      "source": [
        "submission = pd.concat((test['Date'],s1,s2,s3,s4,s5),axis = 1)\r\n",
        "submission = submission.rename(columns = {'Date':'Date',0:'Close-Stock-1',1:'Close-Stock-2',2:'Close-Stock-3',3:'Close-Stock-4',4:'Close-Stock-5'})"
      ],
      "execution_count": null,
      "outputs": []
    },
    {
      "cell_type": "code",
      "metadata": {
        "id": "LmsEC8bbcjNo"
      },
      "source": [
        "submission.to_csv('TestSubmission.csv',index = False)"
      ],
      "execution_count": null,
      "outputs": []
    },
    {
      "cell_type": "code",
      "metadata": {
        "id": "gRG3MbQnftSf"
      },
      "source": [
        ""
      ],
      "execution_count": null,
      "outputs": []
    }
  ]
}