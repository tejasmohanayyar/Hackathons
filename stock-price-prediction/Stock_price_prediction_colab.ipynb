{
  "nbformat": 4,
  "nbformat_minor": 0,
  "metadata": {
    "kernelspec": {
      "display_name": "Python 3",
      "language": "python",
      "name": "python3"
    },
    "language_info": {
      "codemirror_mode": {
        "name": "ipython",
        "version": 3
      },
      "file_extension": ".py",
      "mimetype": "text/x-python",
      "name": "python",
      "nbconvert_exporter": "python",
      "pygments_lexer": "ipython3",
      "version": "3.7.4"
    },
    "colab": {
      "name": "Stock-price-prediction.ipynb",
      "provenance": [],
      "collapsed_sections": [],
      "toc_visible": true
    }
  },
  "cells": [
    {
      "cell_type": "markdown",
      "metadata": {
        "id": "jAQLmg1o5e_V"
      },
      "source": [
        "# Welcome to Learn ML 2021 Grand AI Challenge! 🎉\n",
        "\n",
        "The year 2020 has been an outlier year for finance analysts. Most of the past models have failed to give out great results on the 2020 financial data creating a need for more robust models to handle such outliers. Hence with this challenge, we wish to test your analytical modelling skills not for 1 stock but 5 to see if you have what it takes to create a model that can give predictions for the outlier 2020 year. All the best for the challenge!\n",
        "\n",
        "The aim of this challenge is to predict the closing prices of 5 stocks using the given data.\n",
        "\n",
        "The dataset consists of 3 files:\n",
        "\n",
        "    new_train.csv (for training)\n",
        "    new_test.csv (for test)\n",
        "    new_sample_submission.csv (for sample submission format)\n",
        "\n",
        "This data should be used to train the model, no additional data is allowed to be used for the training process.\n",
        "\n",
        "A \"new_sample_submission.csv\" is also provided for ease of the participants. To know the exact submission format, please check out \"Submission Guidelines\".\n",
        "\n",
        "\n"
      ]
    },
    {
      "cell_type": "code",
      "metadata": {
        "id": "pYokVmyu5e_c"
      },
      "source": [
        "import warnings\n",
        "warnings.simplefilter('ignore')"
      ],
      "execution_count": 799,
      "outputs": []
    },
    {
      "cell_type": "code",
      "metadata": {
        "id": "lMlzPFfh5e_g"
      },
      "source": [
        "import pandas as pd\n",
        "import numpy as np"
      ],
      "execution_count": 800,
      "outputs": []
    },
    {
      "cell_type": "code",
      "metadata": {
        "id": "yENn1F8r5e_j"
      },
      "source": [
        "import matplotlib.pyplot as plt\n",
        "import seaborn as sns"
      ],
      "execution_count": 801,
      "outputs": []
    },
    {
      "cell_type": "code",
      "metadata": {
        "colab": {
          "base_uri": "https://localhost:8080/"
        },
        "id": "L4hWPh6F6EJS",
        "outputId": "95dbaaa2-9b56-498d-cf35-d75f05fbe3fc"
      },
      "source": [
        "from google.colab import drive\n",
        "drive.mount('/content/drive')"
      ],
      "execution_count": 802,
      "outputs": [
        {
          "output_type": "stream",
          "text": [
            "Drive already mounted at /content/drive; to attempt to forcibly remount, call drive.mount(\"/content/drive\", force_remount=True).\n"
          ],
          "name": "stdout"
        }
      ]
    },
    {
      "cell_type": "code",
      "metadata": {
        "id": "gjpZOtv45e_m"
      },
      "source": [
        "train = pd.read_csv('drive/MyDrive/stockdata/Data/new_train.csv')\n",
        "test = pd.read_csv('drive/MyDrive/stockdata/Data/new_test.csv')"
      ],
      "execution_count": 803,
      "outputs": []
    },
    {
      "cell_type": "code",
      "metadata": {
        "id": "LPhmePfS5e_o"
      },
      "source": [
        "train = train.sort_values('Date')\n",
        "test = test.sort_values('Date')"
      ],
      "execution_count": 804,
      "outputs": []
    },
    {
      "cell_type": "code",
      "metadata": {
        "scrolled": true,
        "colab": {
          "base_uri": "https://localhost:8080/",
          "height": 243
        },
        "id": "HQf_nxeP5e_p",
        "outputId": "52b5e458-5c7a-4ed2-dd7e-eb9306b4dba1"
      },
      "source": [
        "train.head()"
      ],
      "execution_count": 805,
      "outputs": [
        {
          "output_type": "execute_result",
          "data": {
            "text/html": [
              "<div>\n",
              "<style scoped>\n",
              "    .dataframe tbody tr th:only-of-type {\n",
              "        vertical-align: middle;\n",
              "    }\n",
              "\n",
              "    .dataframe tbody tr th {\n",
              "        vertical-align: top;\n",
              "    }\n",
              "\n",
              "    .dataframe thead th {\n",
              "        text-align: right;\n",
              "    }\n",
              "</style>\n",
              "<table border=\"1\" class=\"dataframe\">\n",
              "  <thead>\n",
              "    <tr style=\"text-align: right;\">\n",
              "      <th></th>\n",
              "      <th>Date</th>\n",
              "      <th>Open-Stock-1</th>\n",
              "      <th>High-Stock-1</th>\n",
              "      <th>Low-Stock-1</th>\n",
              "      <th>Close-Stock-1</th>\n",
              "      <th>VWAP-Stock-1</th>\n",
              "      <th>Volume-Stock-1</th>\n",
              "      <th>Turnover-Stock-1</th>\n",
              "      <th>Open-Stock-2</th>\n",
              "      <th>High-Stock-2</th>\n",
              "      <th>Low-Stock-2</th>\n",
              "      <th>Close-Stock-2</th>\n",
              "      <th>VWAP-Stock-2</th>\n",
              "      <th>Volume-Stock-2</th>\n",
              "      <th>Turnover-Stock-2</th>\n",
              "      <th>Open-Stock-3</th>\n",
              "      <th>High-Stock-3</th>\n",
              "      <th>Low-Stock-3</th>\n",
              "      <th>Close-Stock-3</th>\n",
              "      <th>VWAP-Stock-3</th>\n",
              "      <th>Volume-Stock-3</th>\n",
              "      <th>Turnover-Stock-3</th>\n",
              "      <th>Open-Stock-4</th>\n",
              "      <th>High-Stock-4</th>\n",
              "      <th>Low-Stock-4</th>\n",
              "      <th>Close-Stock-4</th>\n",
              "      <th>VWAP-Stock-4</th>\n",
              "      <th>Volume-Stock-4</th>\n",
              "      <th>Turnover-Stock-4</th>\n",
              "      <th>Open-Stock-5</th>\n",
              "      <th>High-Stock-5</th>\n",
              "      <th>Low-Stock-5</th>\n",
              "      <th>Close-Stock-5</th>\n",
              "      <th>VWAP-Stock-5</th>\n",
              "      <th>Volume-Stock-5</th>\n",
              "      <th>Turnover-Stock-5</th>\n",
              "    </tr>\n",
              "  </thead>\n",
              "  <tbody>\n",
              "    <tr>\n",
              "      <th>0</th>\n",
              "      <td>2010-06-01</td>\n",
              "      <td>1889.7</td>\n",
              "      <td>1890.00</td>\n",
              "      <td>1838.00</td>\n",
              "      <td>1855.10</td>\n",
              "      <td>1855.75</td>\n",
              "      <td>568273</td>\n",
              "      <td>105457457545000</td>\n",
              "      <td>285.40</td>\n",
              "      <td>285.95</td>\n",
              "      <td>281.50</td>\n",
              "      <td>283.00</td>\n",
              "      <td>283.72</td>\n",
              "      <td>3191773</td>\n",
              "      <td>90557243170000</td>\n",
              "      <td>2095.00</td>\n",
              "      <td>2097.8</td>\n",
              "      <td>2045.00</td>\n",
              "      <td>2077.25</td>\n",
              "      <td>2088.95</td>\n",
              "      <td>70547</td>\n",
              "      <td>14736933230000</td>\n",
              "      <td>851.65</td>\n",
              "      <td>864.80</td>\n",
              "      <td>833.1</td>\n",
              "      <td>837.95</td>\n",
              "      <td>844.44</td>\n",
              "      <td>3878011</td>\n",
              "      <td>327474904340000</td>\n",
              "      <td>1235.0</td>\n",
              "      <td>1238.00</td>\n",
              "      <td>1177.0</td>\n",
              "      <td>1181.70</td>\n",
              "      <td>1197.29</td>\n",
              "      <td>1786082</td>\n",
              "      <td>213845404410000</td>\n",
              "    </tr>\n",
              "    <tr>\n",
              "      <th>1</th>\n",
              "      <td>2010-06-02</td>\n",
              "      <td>1848.0</td>\n",
              "      <td>1862.75</td>\n",
              "      <td>1828.00</td>\n",
              "      <td>1853.05</td>\n",
              "      <td>1842.82</td>\n",
              "      <td>945167</td>\n",
              "      <td>174177161135000</td>\n",
              "      <td>284.00</td>\n",
              "      <td>284.80</td>\n",
              "      <td>279.25</td>\n",
              "      <td>281.30</td>\n",
              "      <td>281.05</td>\n",
              "      <td>2704797</td>\n",
              "      <td>76017076445000</td>\n",
              "      <td>2061.45</td>\n",
              "      <td>2098.0</td>\n",
              "      <td>2023.00</td>\n",
              "      <td>2079.85</td>\n",
              "      <td>2059.52</td>\n",
              "      <td>55547</td>\n",
              "      <td>11440017990000</td>\n",
              "      <td>844.70</td>\n",
              "      <td>849.90</td>\n",
              "      <td>823.0</td>\n",
              "      <td>842.30</td>\n",
              "      <td>838.31</td>\n",
              "      <td>3320996</td>\n",
              "      <td>278403743240000</td>\n",
              "      <td>1195.0</td>\n",
              "      <td>1206.95</td>\n",
              "      <td>1168.5</td>\n",
              "      <td>1201.15</td>\n",
              "      <td>1189.87</td>\n",
              "      <td>1307410</td>\n",
              "      <td>155564994855000</td>\n",
              "    </tr>\n",
              "    <tr>\n",
              "      <th>2</th>\n",
              "      <td>2010-06-03</td>\n",
              "      <td>1864.1</td>\n",
              "      <td>1910.00</td>\n",
              "      <td>1864.10</td>\n",
              "      <td>1905.60</td>\n",
              "      <td>1893.91</td>\n",
              "      <td>679689</td>\n",
              "      <td>128727119355000</td>\n",
              "      <td>283.00</td>\n",
              "      <td>286.85</td>\n",
              "      <td>282.50</td>\n",
              "      <td>285.50</td>\n",
              "      <td>285.34</td>\n",
              "      <td>2489752</td>\n",
              "      <td>71043460510000</td>\n",
              "      <td>2131.50</td>\n",
              "      <td>2131.5</td>\n",
              "      <td>2091.05</td>\n",
              "      <td>2114.90</td>\n",
              "      <td>2107.84</td>\n",
              "      <td>55130</td>\n",
              "      <td>11620529360000</td>\n",
              "      <td>851.40</td>\n",
              "      <td>859.05</td>\n",
              "      <td>848.2</td>\n",
              "      <td>854.10</td>\n",
              "      <td>853.51</td>\n",
              "      <td>2494522</td>\n",
              "      <td>212910342645000</td>\n",
              "      <td>1211.0</td>\n",
              "      <td>1248.00</td>\n",
              "      <td>1211.0</td>\n",
              "      <td>1242.30</td>\n",
              "      <td>1231.63</td>\n",
              "      <td>1482919</td>\n",
              "      <td>182640434320000</td>\n",
              "    </tr>\n",
              "    <tr>\n",
              "      <th>3</th>\n",
              "      <td>2010-06-04</td>\n",
              "      <td>1906.0</td>\n",
              "      <td>1909.80</td>\n",
              "      <td>1880.10</td>\n",
              "      <td>1885.70</td>\n",
              "      <td>1889.21</td>\n",
              "      <td>509435</td>\n",
              "      <td>96242800140000</td>\n",
              "      <td>288.85</td>\n",
              "      <td>291.80</td>\n",
              "      <td>277.00</td>\n",
              "      <td>290.85</td>\n",
              "      <td>289.81</td>\n",
              "      <td>3188813</td>\n",
              "      <td>92414802585000</td>\n",
              "      <td>2114.90</td>\n",
              "      <td>2156.0</td>\n",
              "      <td>2095.50</td>\n",
              "      <td>2146.75</td>\n",
              "      <td>2145.36</td>\n",
              "      <td>29302</td>\n",
              "      <td>6286330280000</td>\n",
              "      <td>854.10</td>\n",
              "      <td>868.60</td>\n",
              "      <td>854.1</td>\n",
              "      <td>865.85</td>\n",
              "      <td>862.85</td>\n",
              "      <td>2963920</td>\n",
              "      <td>255740999120000</td>\n",
              "      <td>1240.0</td>\n",
              "      <td>1258.00</td>\n",
              "      <td>1240.0</td>\n",
              "      <td>1245.45</td>\n",
              "      <td>1249.72</td>\n",
              "      <td>1454459</td>\n",
              "      <td>181767075850000</td>\n",
              "    </tr>\n",
              "    <tr>\n",
              "      <th>4</th>\n",
              "      <td>2010-06-07</td>\n",
              "      <td>1867.0</td>\n",
              "      <td>1894.85</td>\n",
              "      <td>1808.35</td>\n",
              "      <td>1876.65</td>\n",
              "      <td>1873.32</td>\n",
              "      <td>961913</td>\n",
              "      <td>180196832650000</td>\n",
              "      <td>285.00</td>\n",
              "      <td>289.10</td>\n",
              "      <td>285.00</td>\n",
              "      <td>287.70</td>\n",
              "      <td>287.01</td>\n",
              "      <td>2198836</td>\n",
              "      <td>63109395135000</td>\n",
              "      <td>2132.35</td>\n",
              "      <td>2209.0</td>\n",
              "      <td>2112.00</td>\n",
              "      <td>2185.25</td>\n",
              "      <td>2180.52</td>\n",
              "      <td>78919</td>\n",
              "      <td>17208425860000</td>\n",
              "      <td>712.00</td>\n",
              "      <td>850.00</td>\n",
              "      <td>712.0</td>\n",
              "      <td>841.95</td>\n",
              "      <td>839.89</td>\n",
              "      <td>3471483</td>\n",
              "      <td>291567400640000</td>\n",
              "      <td>1218.6</td>\n",
              "      <td>1225.00</td>\n",
              "      <td>1196.0</td>\n",
              "      <td>1214.80</td>\n",
              "      <td>1209.27</td>\n",
              "      <td>1424594</td>\n",
              "      <td>172272511430000</td>\n",
              "    </tr>\n",
              "  </tbody>\n",
              "</table>\n",
              "</div>"
            ],
            "text/plain": [
              "         Date  Open-Stock-1  ...  Volume-Stock-5  Turnover-Stock-5\n",
              "0  2010-06-01        1889.7  ...         1786082   213845404410000\n",
              "1  2010-06-02        1848.0  ...         1307410   155564994855000\n",
              "2  2010-06-03        1864.1  ...         1482919   182640434320000\n",
              "3  2010-06-04        1906.0  ...         1454459   181767075850000\n",
              "4  2010-06-07        1867.0  ...         1424594   172272511430000\n",
              "\n",
              "[5 rows x 36 columns]"
            ]
          },
          "metadata": {
            "tags": []
          },
          "execution_count": 805
        }
      ]
    },
    {
      "cell_type": "markdown",
      "metadata": {
        "id": "x-NpIoCS5e_q"
      },
      "source": [
        "###### Meaning of VWAP,Volume and Turnover of a stock\n",
        "\n",
        "* **Volume Weighted Average Price (VWAP)?**\n",
        "\n",
        "The volume weighted average price (VWAP) is a trading benchmark used by traders that gives the average price a security has traded at throughout the day, based on both volume and price. It is important because it provides traders with insight into both the trend and value of a security. \n",
        "\n",
        "                                    VWAP =(∑(Price * Volume))/∑Volume\n",
        "\n",
        "* **Volume** is measured in the number of shares traded on that day.\n",
        "* **Stock Turnover** is the rate at which a company's goods are sold and replaced.\n"
      ]
    },
    {
      "cell_type": "code",
      "metadata": {
        "colab": {
          "base_uri": "https://localhost:8080/"
        },
        "id": "p64aVHZZ5e_t",
        "outputId": "69966c3f-b606-46f5-c726-386d4d460954"
      },
      "source": [
        "train.info()"
      ],
      "execution_count": 806,
      "outputs": [
        {
          "output_type": "stream",
          "text": [
            "<class 'pandas.core.frame.DataFrame'>\n",
            "Int64Index: 299 entries, 0 to 298\n",
            "Data columns (total 36 columns):\n",
            " #   Column            Non-Null Count  Dtype  \n",
            "---  ------            --------------  -----  \n",
            " 0   Date              299 non-null    object \n",
            " 1   Open-Stock-1      299 non-null    float64\n",
            " 2   High-Stock-1      299 non-null    float64\n",
            " 3   Low-Stock-1       299 non-null    float64\n",
            " 4   Close-Stock-1     299 non-null    float64\n",
            " 5   VWAP-Stock-1      299 non-null    float64\n",
            " 6   Volume-Stock-1    299 non-null    int64  \n",
            " 7   Turnover-Stock-1  299 non-null    int64  \n",
            " 8   Open-Stock-2      299 non-null    float64\n",
            " 9   High-Stock-2      299 non-null    float64\n",
            " 10  Low-Stock-2       299 non-null    float64\n",
            " 11  Close-Stock-2     299 non-null    float64\n",
            " 12  VWAP-Stock-2      299 non-null    float64\n",
            " 13  Volume-Stock-2    299 non-null    int64  \n",
            " 14  Turnover-Stock-2  299 non-null    int64  \n",
            " 15  Open-Stock-3      299 non-null    float64\n",
            " 16  High-Stock-3      299 non-null    float64\n",
            " 17  Low-Stock-3       299 non-null    float64\n",
            " 18  Close-Stock-3     299 non-null    float64\n",
            " 19  VWAP-Stock-3      299 non-null    float64\n",
            " 20  Volume-Stock-3    299 non-null    int64  \n",
            " 21  Turnover-Stock-3  299 non-null    int64  \n",
            " 22  Open-Stock-4      299 non-null    float64\n",
            " 23  High-Stock-4      299 non-null    float64\n",
            " 24  Low-Stock-4       299 non-null    float64\n",
            " 25  Close-Stock-4     299 non-null    float64\n",
            " 26  VWAP-Stock-4      299 non-null    float64\n",
            " 27  Volume-Stock-4    299 non-null    int64  \n",
            " 28  Turnover-Stock-4  299 non-null    int64  \n",
            " 29  Open-Stock-5      299 non-null    float64\n",
            " 30  High-Stock-5      299 non-null    float64\n",
            " 31  Low-Stock-5       299 non-null    float64\n",
            " 32  Close-Stock-5     299 non-null    float64\n",
            " 33  VWAP-Stock-5      299 non-null    float64\n",
            " 34  Volume-Stock-5    299 non-null    int64  \n",
            " 35  Turnover-Stock-5  299 non-null    int64  \n",
            "dtypes: float64(25), int64(10), object(1)\n",
            "memory usage: 86.4+ KB\n"
          ],
          "name": "stdout"
        }
      ]
    },
    {
      "cell_type": "code",
      "metadata": {
        "colab": {
          "base_uri": "https://localhost:8080/"
        },
        "id": "yfwZBcYi5e_w",
        "outputId": "a271eba2-9df2-4235-ee62-5f7e8fc4a4c3"
      },
      "source": [
        "train.isna().sum()"
      ],
      "execution_count": 807,
      "outputs": [
        {
          "output_type": "execute_result",
          "data": {
            "text/plain": [
              "Date                0\n",
              "Open-Stock-1        0\n",
              "High-Stock-1        0\n",
              "Low-Stock-1         0\n",
              "Close-Stock-1       0\n",
              "VWAP-Stock-1        0\n",
              "Volume-Stock-1      0\n",
              "Turnover-Stock-1    0\n",
              "Open-Stock-2        0\n",
              "High-Stock-2        0\n",
              "Low-Stock-2         0\n",
              "Close-Stock-2       0\n",
              "VWAP-Stock-2        0\n",
              "Volume-Stock-2      0\n",
              "Turnover-Stock-2    0\n",
              "Open-Stock-3        0\n",
              "High-Stock-3        0\n",
              "Low-Stock-3         0\n",
              "Close-Stock-3       0\n",
              "VWAP-Stock-3        0\n",
              "Volume-Stock-3      0\n",
              "Turnover-Stock-3    0\n",
              "Open-Stock-4        0\n",
              "High-Stock-4        0\n",
              "Low-Stock-4         0\n",
              "Close-Stock-4       0\n",
              "VWAP-Stock-4        0\n",
              "Volume-Stock-4      0\n",
              "Turnover-Stock-4    0\n",
              "Open-Stock-5        0\n",
              "High-Stock-5        0\n",
              "Low-Stock-5         0\n",
              "Close-Stock-5       0\n",
              "VWAP-Stock-5        0\n",
              "Volume-Stock-5      0\n",
              "Turnover-Stock-5    0\n",
              "dtype: int64"
            ]
          },
          "metadata": {
            "tags": []
          },
          "execution_count": 807
        }
      ]
    },
    {
      "cell_type": "code",
      "metadata": {
        "id": "ZMYM-iKe5e_0"
      },
      "source": [
        "train['Date'] = train['Date'].astype('datetime64')\n",
        "test['Date'] = test['Date'].astype('datetime64')"
      ],
      "execution_count": 808,
      "outputs": []
    },
    {
      "cell_type": "markdown",
      "metadata": {
        "id": "8xTIMtz25e_1"
      },
      "source": [
        "###### Converting the Date column into Day,Month,Year"
      ]
    },
    {
      "cell_type": "markdown",
      "metadata": {
        "id": "LV3ImI7c5fAp"
      },
      "source": [
        "# Trying LSTM"
      ]
    },
    {
      "cell_type": "markdown",
      "metadata": {
        "id": "ENj3oIixrHAy"
      },
      "source": [
        "* Take last 20 datapoints from the train set to predict the first future value.\r\n",
        "\r\n",
        "* We will make a prediction based on those values.\r\n",
        "\r\n",
        "* Add this prediction to the above list to now have 21 values.\r\n",
        "\r\n",
        "* Remove the first value of the above list to again have only 20 elements in the list.\r\n",
        "\r\n",
        "* Now use these 20 values to make the next prediction.\r\n",
        "\r\n",
        "* We have to make 97 predictions."
      ]
    },
    {
      "cell_type": "code",
      "metadata": {
        "id": "dnqmfO2PqbmI"
      },
      "source": [
        "stock1 = train[['Open-Stock-1', 'High-Stock-1', 'Low-Stock-1', 'Close-Stock-1','VWAP-Stock-1', 'Volume-Stock-1', 'Turnover-Stock-1']]\r\n",
        "stock2 = train[['Open-Stock-2', 'High-Stock-2', 'Low-Stock-2', 'Close-Stock-2','VWAP-Stock-2', 'Volume-Stock-2', 'Turnover-Stock-2']]\r\n",
        "stock3 = train[['Open-Stock-3', 'High-Stock-3', 'Low-Stock-3', 'Close-Stock-3','VWAP-Stock-3', 'Volume-Stock-3', 'Turnover-Stock-3']]\r\n",
        "stock4 = train[['Open-Stock-4', 'High-Stock-4', 'Low-Stock-4', 'Close-Stock-4','VWAP-Stock-4', 'Volume-Stock-4', 'Turnover-Stock-4']]\r\n",
        "stock5 = train[['Open-Stock-5', 'High-Stock-5', 'Low-Stock-5', 'Close-Stock-5','VWAP-Stock-5', 'Volume-Stock-5', 'Turnover-Stock-5']]"
      ],
      "execution_count": 809,
      "outputs": []
    },
    {
      "cell_type": "code",
      "metadata": {
        "id": "GfN2Y2YcqjSg"
      },
      "source": [
        "tstock1 = test[['Open-Stock-1', 'High-Stock-1', 'Low-Stock-1','VWAP-Stock-1', 'Volume-Stock-1', 'Turnover-Stock-1']]\r\n",
        "tstock2 = test[['Open-Stock-2', 'High-Stock-2', 'Low-Stock-2','VWAP-Stock-2', 'Volume-Stock-2', 'Turnover-Stock-2']]\r\n",
        "tstock3 = test[['Open-Stock-3', 'High-Stock-3', 'Low-Stock-3','VWAP-Stock-3', 'Volume-Stock-3', 'Turnover-Stock-3']]\r\n",
        "tstock4 = test[['Open-Stock-4', 'High-Stock-4', 'Low-Stock-4','VWAP-Stock-4', 'Volume-Stock-4', 'Turnover-Stock-4']]\r\n",
        "tstock5 = test[['Open-Stock-5', 'High-Stock-5', 'Low-Stock-5','VWAP-Stock-5', 'Volume-Stock-5', 'Turnover-Stock-5']]"
      ],
      "execution_count": 810,
      "outputs": []
    },
    {
      "cell_type": "markdown",
      "metadata": {
        "id": "5rrCupBcMS1L"
      },
      "source": [
        "# Task: To create xtrain and ytrain for our LSTM network\r\n",
        "\r\n",
        "* Set your time step value\r\n",
        "* Create a loop for range len(data)-time_step\r\n",
        "* for xtrain pick up  i:i+timestep records from dataset excluding close stock.\r\n",
        "* for ytrain pick up timestep+i close stock value\r\n",
        "* reshape the xtrain and ytrain to have 3 dimensions."
      ]
    },
    {
      "cell_type": "code",
      "metadata": {
        "id": "ebogQEC7NgMi"
      },
      "source": [
        "stock = stock2\r\n",
        "tstock = tstock2\r\n",
        "target = 'Close-Stock-2'\r\n",
        "epochs = 1800"
      ],
      "execution_count": 841,
      "outputs": []
    },
    {
      "cell_type": "code",
      "metadata": {
        "colab": {
          "base_uri": "https://localhost:8080/"
        },
        "id": "6QGYkIJClKbb",
        "outputId": "cfbbe518-9c12-4aef-a776-3c3d89f73a34"
      },
      "source": [
        "from sklearn.preprocessing import MinMaxScaler\r\n",
        "mm = MinMaxScaler()\r\n",
        "s1_train = mm.fit_transform(stock[:round(len(stock)*0.65)].drop(target,axis = 1).values)\r\n",
        "s1_test =  mm.fit_transform(stock[round(len(stock)*0.65):].drop(target,axis = 1).values)\r\n",
        "s1_train_targ =  mm.fit_transform(stock[:round(len(stock)*0.65)][target].values.reshape(-1,1))\r\n",
        "s1_test_targ =  mm.fit_transform(stock[round(len(stock)*0.65):][target].values.reshape(-1,1))\r\n",
        "\r\n",
        "s1_train.shape,s1_test.shape,s1_train_targ.shape,s1_test_targ.shape"
      ],
      "execution_count": 812,
      "outputs": [
        {
          "output_type": "execute_result",
          "data": {
            "text/plain": [
              "((194, 6), (105, 6), (194, 1), (105, 1))"
            ]
          },
          "metadata": {
            "tags": []
          },
          "execution_count": 812
        }
      ]
    },
    {
      "cell_type": "code",
      "metadata": {
        "id": "E6oY4reQMIDq"
      },
      "source": [
        "def time_seriesdata(independent,dependent,time_step):\r\n",
        "  x,y = [],[]\r\n",
        "\r\n",
        "  for i in range(len(dependent)-time_step):\r\n",
        "    x.append(independent[i:(time_step+i)])\r\n",
        "    y.append(dependent[time_step+i])\r\n",
        "  return np.array(x),np.array(y),time_step"
      ],
      "execution_count": 813,
      "outputs": []
    },
    {
      "cell_type": "code",
      "metadata": {
        "id": "N331lDcuMI1V"
      },
      "source": [
        "x_train,y_train,time_step = time_seriesdata(s1_train,s1_train_targ,4)\r\n",
        "x_test,y_test,time_step = time_seriesdata(s1_test,s1_test_targ,4)"
      ],
      "execution_count": 814,
      "outputs": []
    },
    {
      "cell_type": "code",
      "metadata": {
        "colab": {
          "base_uri": "https://localhost:8080/"
        },
        "id": "n59bznYFaYbA",
        "outputId": "ef1af486-2e9f-4e58-c808-8e98d66c91e7"
      },
      "source": [
        "x_train.shape"
      ],
      "execution_count": 815,
      "outputs": [
        {
          "output_type": "execute_result",
          "data": {
            "text/plain": [
              "(190, 4, 6)"
            ]
          },
          "metadata": {
            "tags": []
          },
          "execution_count": 815
        }
      ]
    },
    {
      "cell_type": "code",
      "metadata": {
        "id": "xZf3pvKX4r4S"
      },
      "source": [
        "def reshape(var):\r\n",
        "  return var.reshape(var.shape[0])"
      ],
      "execution_count": 816,
      "outputs": []
    },
    {
      "cell_type": "code",
      "metadata": {
        "id": "dHeqYtdOLi5B"
      },
      "source": [
        "ytrain = reshape(y_train)\r\n",
        "ytest = reshape(y_test)"
      ],
      "execution_count": 817,
      "outputs": []
    },
    {
      "cell_type": "code",
      "metadata": {
        "id": "KO9E0CtqPX4b"
      },
      "source": [
        "def xreshape(var):\r\n",
        "  return var.reshape(var.shape[0],-1,1)"
      ],
      "execution_count": 818,
      "outputs": []
    },
    {
      "cell_type": "code",
      "metadata": {
        "colab": {
          "base_uri": "https://localhost:8080/"
        },
        "id": "0n_RWBDXPZhe",
        "outputId": "dc63a8bb-825c-45b7-ed11-626ffa4b243b"
      },
      "source": [
        "xtrain = xreshape(x_train)\r\n",
        "xtest = xreshape(x_test)\r\n",
        "xtrain.shape,xtest.shape"
      ],
      "execution_count": 819,
      "outputs": [
        {
          "output_type": "execute_result",
          "data": {
            "text/plain": [
              "((190, 24, 1), (101, 24, 1))"
            ]
          },
          "metadata": {
            "tags": []
          },
          "execution_count": 819
        }
      ]
    },
    {
      "cell_type": "markdown",
      "metadata": {
        "id": "MjKdmNoyNwJj"
      },
      "source": [
        "# Next Step is to create the LSTM stack"
      ]
    },
    {
      "cell_type": "code",
      "metadata": {
        "id": "sIKW9f91NyUU"
      },
      "source": [
        "#Stacked LSTM\r\n",
        "from tensorflow.keras.models import Sequential\r\n",
        "from tensorflow.keras.layers import Dense\r\n",
        "from tensorflow.keras.layers import LSTM,Dropout\r\n",
        "model = Sequential()\r\n",
        "model.add(LSTM(4, return_sequences=True,input_shape=(xtrain.shape[1], 1)))\r\n",
        "model.add(LSTM(4,return_sequences=True))\r\n",
        "model.add(LSTM(4))\r\n",
        "model.add(Dense(1))\r\n",
        "model.compile(loss='mean_squared_error',optimizer = 'adam')"
      ],
      "execution_count": 820,
      "outputs": []
    },
    {
      "cell_type": "code",
      "metadata": {
        "colab": {
          "base_uri": "https://localhost:8080/"
        },
        "id": "eGiG0CXjVAF-",
        "outputId": "54d8fe7f-a644-4603-daa7-21b18ddf2617"
      },
      "source": [
        "model.fit(xtrain,ytrain,epochs = epochs,validation_data=(xtest,ytest),batch_size = 64)"
      ],
      "execution_count": 821,
      "outputs": [
        {
          "output_type": "stream",
          "text": [
            "Epoch 1/100\n",
            "3/3 [==============================] - 5s 572ms/step - loss: 0.1683 - val_loss: 0.3172\n",
            "Epoch 2/100\n",
            "3/3 [==============================] - 0s 50ms/step - loss: 0.1581 - val_loss: 0.3024\n",
            "Epoch 3/100\n",
            "3/3 [==============================] - 0s 47ms/step - loss: 0.1450 - val_loss: 0.2874\n",
            "Epoch 4/100\n",
            "3/3 [==============================] - 0s 52ms/step - loss: 0.1527 - val_loss: 0.2720\n",
            "Epoch 5/100\n",
            "3/3 [==============================] - 0s 49ms/step - loss: 0.1466 - val_loss: 0.2564\n",
            "Epoch 6/100\n",
            "3/3 [==============================] - 0s 52ms/step - loss: 0.1500 - val_loss: 0.2403\n",
            "Epoch 7/100\n",
            "3/3 [==============================] - 0s 50ms/step - loss: 0.1327 - val_loss: 0.2241\n",
            "Epoch 8/100\n",
            "3/3 [==============================] - 0s 45ms/step - loss: 0.1281 - val_loss: 0.2075\n",
            "Epoch 9/100\n",
            "3/3 [==============================] - 0s 46ms/step - loss: 0.1090 - val_loss: 0.1909\n",
            "Epoch 10/100\n",
            "3/3 [==============================] - 0s 46ms/step - loss: 0.1097 - val_loss: 0.1738\n",
            "Epoch 11/100\n",
            "3/3 [==============================] - 0s 49ms/step - loss: 0.1089 - val_loss: 0.1566\n",
            "Epoch 12/100\n",
            "3/3 [==============================] - 0s 51ms/step - loss: 0.0952 - val_loss: 0.1398\n",
            "Epoch 13/100\n",
            "3/3 [==============================] - 0s 44ms/step - loss: 0.0802 - val_loss: 0.1240\n",
            "Epoch 14/100\n",
            "3/3 [==============================] - 0s 48ms/step - loss: 0.0865 - val_loss: 0.1090\n",
            "Epoch 15/100\n",
            "3/3 [==============================] - 0s 45ms/step - loss: 0.0779 - val_loss: 0.0957\n",
            "Epoch 16/100\n",
            "3/3 [==============================] - 0s 46ms/step - loss: 0.0681 - val_loss: 0.0845\n",
            "Epoch 17/100\n",
            "3/3 [==============================] - 0s 51ms/step - loss: 0.0713 - val_loss: 0.0750\n",
            "Epoch 18/100\n",
            "3/3 [==============================] - 0s 44ms/step - loss: 0.0689 - val_loss: 0.0674\n",
            "Epoch 19/100\n",
            "3/3 [==============================] - 0s 44ms/step - loss: 0.0697 - val_loss: 0.0615\n",
            "Epoch 20/100\n",
            "3/3 [==============================] - 0s 44ms/step - loss: 0.0660 - val_loss: 0.0573\n",
            "Epoch 21/100\n",
            "3/3 [==============================] - 0s 46ms/step - loss: 0.0620 - val_loss: 0.0542\n",
            "Epoch 22/100\n",
            "3/3 [==============================] - 0s 45ms/step - loss: 0.0542 - val_loss: 0.0520\n",
            "Epoch 23/100\n",
            "3/3 [==============================] - 0s 52ms/step - loss: 0.0531 - val_loss: 0.0497\n",
            "Epoch 24/100\n",
            "3/3 [==============================] - 0s 47ms/step - loss: 0.0436 - val_loss: 0.0474\n",
            "Epoch 25/100\n",
            "3/3 [==============================] - 0s 51ms/step - loss: 0.0391 - val_loss: 0.0444\n",
            "Epoch 26/100\n",
            "3/3 [==============================] - 0s 57ms/step - loss: 0.0356 - val_loss: 0.0404\n",
            "Epoch 27/100\n",
            "3/3 [==============================] - 0s 66ms/step - loss: 0.0350 - val_loss: 0.0355\n",
            "Epoch 28/100\n",
            "3/3 [==============================] - 0s 50ms/step - loss: 0.0285 - val_loss: 0.0304\n",
            "Epoch 29/100\n",
            "3/3 [==============================] - 0s 45ms/step - loss: 0.0233 - val_loss: 0.0255\n",
            "Epoch 30/100\n",
            "3/3 [==============================] - 0s 48ms/step - loss: 0.0232 - val_loss: 0.0209\n",
            "Epoch 31/100\n",
            "3/3 [==============================] - 0s 50ms/step - loss: 0.0208 - val_loss: 0.0179\n",
            "Epoch 32/100\n",
            "3/3 [==============================] - 0s 45ms/step - loss: 0.0157 - val_loss: 0.0156\n",
            "Epoch 33/100\n",
            "3/3 [==============================] - 0s 46ms/step - loss: 0.0154 - val_loss: 0.0142\n",
            "Epoch 34/100\n",
            "3/3 [==============================] - 0s 45ms/step - loss: 0.0130 - val_loss: 0.0131\n",
            "Epoch 35/100\n",
            "3/3 [==============================] - 0s 45ms/step - loss: 0.0167 - val_loss: 0.0125\n",
            "Epoch 36/100\n",
            "3/3 [==============================] - 0s 46ms/step - loss: 0.0102 - val_loss: 0.0121\n",
            "Epoch 37/100\n",
            "3/3 [==============================] - 0s 50ms/step - loss: 0.0081 - val_loss: 0.0120\n",
            "Epoch 38/100\n",
            "3/3 [==============================] - 0s 54ms/step - loss: 0.0138 - val_loss: 0.0121\n",
            "Epoch 39/100\n",
            "3/3 [==============================] - 0s 46ms/step - loss: 0.0113 - val_loss: 0.0124\n",
            "Epoch 40/100\n",
            "3/3 [==============================] - 0s 46ms/step - loss: 0.0087 - val_loss: 0.0126\n",
            "Epoch 41/100\n",
            "3/3 [==============================] - 0s 49ms/step - loss: 0.0097 - val_loss: 0.0126\n",
            "Epoch 42/100\n",
            "3/3 [==============================] - 0s 46ms/step - loss: 0.0122 - val_loss: 0.0124\n",
            "Epoch 43/100\n",
            "3/3 [==============================] - 0s 46ms/step - loss: 0.0146 - val_loss: 0.0121\n",
            "Epoch 44/100\n",
            "3/3 [==============================] - 0s 47ms/step - loss: 0.0122 - val_loss: 0.0119\n",
            "Epoch 45/100\n",
            "3/3 [==============================] - 0s 53ms/step - loss: 0.0083 - val_loss: 0.0117\n",
            "Epoch 46/100\n",
            "3/3 [==============================] - 0s 47ms/step - loss: 0.0080 - val_loss: 0.0116\n",
            "Epoch 47/100\n",
            "3/3 [==============================] - 0s 50ms/step - loss: 0.0116 - val_loss: 0.0117\n",
            "Epoch 48/100\n",
            "3/3 [==============================] - 0s 45ms/step - loss: 0.0143 - val_loss: 0.0120\n",
            "Epoch 49/100\n",
            "3/3 [==============================] - 0s 45ms/step - loss: 0.0091 - val_loss: 0.0121\n",
            "Epoch 50/100\n",
            "3/3 [==============================] - 0s 44ms/step - loss: 0.0107 - val_loss: 0.0122\n",
            "Epoch 51/100\n",
            "3/3 [==============================] - 0s 47ms/step - loss: 0.0119 - val_loss: 0.0125\n",
            "Epoch 52/100\n",
            "3/3 [==============================] - 0s 44ms/step - loss: 0.0097 - val_loss: 0.0129\n",
            "Epoch 53/100\n",
            "3/3 [==============================] - 0s 45ms/step - loss: 0.0072 - val_loss: 0.0129\n",
            "Epoch 54/100\n",
            "3/3 [==============================] - 0s 45ms/step - loss: 0.0115 - val_loss: 0.0128\n",
            "Epoch 55/100\n",
            "3/3 [==============================] - 0s 54ms/step - loss: 0.0125 - val_loss: 0.0133\n",
            "Epoch 56/100\n",
            "3/3 [==============================] - 0s 51ms/step - loss: 0.0114 - val_loss: 0.0131\n",
            "Epoch 57/100\n",
            "3/3 [==============================] - 0s 51ms/step - loss: 0.0069 - val_loss: 0.0132\n",
            "Epoch 58/100\n",
            "3/3 [==============================] - 0s 42ms/step - loss: 0.0118 - val_loss: 0.0136\n",
            "Epoch 59/100\n",
            "3/3 [==============================] - 0s 48ms/step - loss: 0.0097 - val_loss: 0.0135\n",
            "Epoch 60/100\n",
            "3/3 [==============================] - 0s 43ms/step - loss: 0.0103 - val_loss: 0.0137\n",
            "Epoch 61/100\n",
            "3/3 [==============================] - 0s 44ms/step - loss: 0.0057 - val_loss: 0.0132\n",
            "Epoch 62/100\n",
            "3/3 [==============================] - 0s 43ms/step - loss: 0.0065 - val_loss: 0.0133\n",
            "Epoch 63/100\n",
            "3/3 [==============================] - 0s 42ms/step - loss: 0.0067 - val_loss: 0.0137\n",
            "Epoch 64/100\n",
            "3/3 [==============================] - 0s 47ms/step - loss: 0.0116 - val_loss: 0.0145\n",
            "Epoch 65/100\n",
            "3/3 [==============================] - 0s 43ms/step - loss: 0.0080 - val_loss: 0.0149\n",
            "Epoch 66/100\n",
            "3/3 [==============================] - 0s 42ms/step - loss: 0.0092 - val_loss: 0.0150\n",
            "Epoch 67/100\n",
            "3/3 [==============================] - 0s 45ms/step - loss: 0.0083 - val_loss: 0.0144\n",
            "Epoch 68/100\n",
            "3/3 [==============================] - 0s 46ms/step - loss: 0.0082 - val_loss: 0.0140\n",
            "Epoch 69/100\n",
            "3/3 [==============================] - 0s 45ms/step - loss: 0.0101 - val_loss: 0.0139\n",
            "Epoch 70/100\n",
            "3/3 [==============================] - 0s 44ms/step - loss: 0.0135 - val_loss: 0.0144\n",
            "Epoch 71/100\n",
            "3/3 [==============================] - 0s 44ms/step - loss: 0.0111 - val_loss: 0.0149\n",
            "Epoch 72/100\n",
            "3/3 [==============================] - 0s 48ms/step - loss: 0.0108 - val_loss: 0.0153\n",
            "Epoch 73/100\n",
            "3/3 [==============================] - 0s 44ms/step - loss: 0.0104 - val_loss: 0.0148\n",
            "Epoch 74/100\n",
            "3/3 [==============================] - 0s 53ms/step - loss: 0.0120 - val_loss: 0.0150\n",
            "Epoch 75/100\n",
            "3/3 [==============================] - 0s 58ms/step - loss: 0.0103 - val_loss: 0.0145\n",
            "Epoch 76/100\n",
            "3/3 [==============================] - 0s 46ms/step - loss: 0.0070 - val_loss: 0.0143\n",
            "Epoch 77/100\n",
            "3/3 [==============================] - 0s 49ms/step - loss: 0.0091 - val_loss: 0.0149\n",
            "Epoch 78/100\n",
            "3/3 [==============================] - 0s 44ms/step - loss: 0.0120 - val_loss: 0.0157\n",
            "Epoch 79/100\n",
            "3/3 [==============================] - 0s 47ms/step - loss: 0.0108 - val_loss: 0.0158\n",
            "Epoch 80/100\n",
            "3/3 [==============================] - 0s 60ms/step - loss: 0.0056 - val_loss: 0.0146\n",
            "Epoch 81/100\n",
            "3/3 [==============================] - 0s 46ms/step - loss: 0.0068 - val_loss: 0.0148\n",
            "Epoch 82/100\n",
            "3/3 [==============================] - 0s 45ms/step - loss: 0.0070 - val_loss: 0.0150\n",
            "Epoch 83/100\n",
            "3/3 [==============================] - 0s 55ms/step - loss: 0.0055 - val_loss: 0.0149\n",
            "Epoch 84/100\n",
            "3/3 [==============================] - 0s 46ms/step - loss: 0.0073 - val_loss: 0.0157\n",
            "Epoch 85/100\n",
            "3/3 [==============================] - 0s 45ms/step - loss: 0.0134 - val_loss: 0.0167\n",
            "Epoch 86/100\n",
            "3/3 [==============================] - 0s 44ms/step - loss: 0.0109 - val_loss: 0.0170\n",
            "Epoch 87/100\n",
            "3/3 [==============================] - 0s 44ms/step - loss: 0.0104 - val_loss: 0.0157\n",
            "Epoch 88/100\n",
            "3/3 [==============================] - 0s 43ms/step - loss: 0.0066 - val_loss: 0.0144\n",
            "Epoch 89/100\n",
            "3/3 [==============================] - 0s 50ms/step - loss: 0.0080 - val_loss: 0.0143\n",
            "Epoch 90/100\n",
            "3/3 [==============================] - 0s 46ms/step - loss: 0.0137 - val_loss: 0.0153\n",
            "Epoch 91/100\n",
            "3/3 [==============================] - 0s 45ms/step - loss: 0.0100 - val_loss: 0.0154\n",
            "Epoch 92/100\n",
            "3/3 [==============================] - 0s 45ms/step - loss: 0.0086 - val_loss: 0.0157\n",
            "Epoch 93/100\n",
            "3/3 [==============================] - 0s 44ms/step - loss: 0.0105 - val_loss: 0.0161\n",
            "Epoch 94/100\n",
            "3/3 [==============================] - 0s 52ms/step - loss: 0.0110 - val_loss: 0.0161\n",
            "Epoch 95/100\n",
            "3/3 [==============================] - 0s 48ms/step - loss: 0.0109 - val_loss: 0.0162\n",
            "Epoch 96/100\n",
            "3/3 [==============================] - 0s 43ms/step - loss: 0.0103 - val_loss: 0.0159\n",
            "Epoch 97/100\n",
            "3/3 [==============================] - 0s 48ms/step - loss: 0.0112 - val_loss: 0.0152\n",
            "Epoch 98/100\n",
            "3/3 [==============================] - 0s 44ms/step - loss: 0.0065 - val_loss: 0.0145\n",
            "Epoch 99/100\n",
            "3/3 [==============================] - 0s 44ms/step - loss: 0.0105 - val_loss: 0.0151\n",
            "Epoch 100/100\n",
            "3/3 [==============================] - 0s 48ms/step - loss: 0.0140 - val_loss: 0.0163\n"
          ],
          "name": "stdout"
        },
        {
          "output_type": "execute_result",
          "data": {
            "text/plain": [
              "<tensorflow.python.keras.callbacks.History at 0x7f4b3a8da4a8>"
            ]
          },
          "metadata": {
            "tags": []
          },
          "execution_count": 821
        }
      ]
    },
    {
      "cell_type": "markdown",
      "metadata": {
        "id": "hwfNLWV7Ny6J"
      },
      "source": [
        "# Now make predictions on the train set to see model performance"
      ]
    },
    {
      "cell_type": "code",
      "metadata": {
        "id": "LO3kjoRom94L"
      },
      "source": [
        "train_predict = model.predict(xtrain)\r\n",
        "test_predict = model.predict(xtest)"
      ],
      "execution_count": 822,
      "outputs": []
    },
    {
      "cell_type": "code",
      "metadata": {
        "id": "T-bSDZe63KIQ"
      },
      "source": [
        "train_predict = reshape(train_predict)\r\n",
        "test_predict = reshape(test_predict)"
      ],
      "execution_count": 823,
      "outputs": []
    },
    {
      "cell_type": "code",
      "metadata": {
        "id": "oHxhWnTvpdPh"
      },
      "source": [
        "train_y_trans = mm.inverse_transform(ytrain.reshape(-1,1))\r\n",
        "test_y_trans = pd.Series(np.squeeze(mm.inverse_transform(y_test.reshape(1,-1))),index = list(range(xtrain.shape[0],xtrain.shape[0]+xtest.shape[0])))\r\n",
        "train_predict_trans = mm.inverse_transform(train_predict.reshape(-1,1))\r\n",
        "test_predict_trans = pd.Series(np.squeeze(mm.inverse_transform(test_predict.reshape(-1,1)).reshape(1,-1)),index = list(range(xtrain.shape[0],xtrain.shape[0]+xtest.shape[0])))"
      ],
      "execution_count": 824,
      "outputs": []
    },
    {
      "cell_type": "code",
      "metadata": {
        "id": "JHfMEcl3UIj4",
        "colab": {
          "base_uri": "https://localhost:8080/"
        },
        "outputId": "bee1bc9f-349d-4ab3-b213-93b28422dde3"
      },
      "source": [
        "from sklearn.metrics import mean_squared_error\r\n",
        "np.sqrt(mean_squared_error(mm.inverse_transform(y_train.reshape(-1,1)),train_predict_trans))"
      ],
      "execution_count": 825,
      "outputs": [
        {
          "output_type": "execute_result",
          "data": {
            "text/plain": [
              "3.9201984191860566"
            ]
          },
          "metadata": {
            "tags": []
          },
          "execution_count": 825
        }
      ]
    },
    {
      "cell_type": "code",
      "metadata": {
        "id": "aZcaqkH4UMqW",
        "colab": {
          "base_uri": "https://localhost:8080/"
        },
        "outputId": "594cd368-d0f5-4d01-ff39-54affead1fa0"
      },
      "source": [
        "from sklearn.metrics import mean_squared_error\r\n",
        "np.sqrt(mean_squared_error(mm.inverse_transform(y_test.reshape(-1,1)),test_predict_trans))"
      ],
      "execution_count": 826,
      "outputs": [
        {
          "output_type": "execute_result",
          "data": {
            "text/plain": [
              "5.2289329773254245"
            ]
          },
          "metadata": {
            "tags": []
          },
          "execution_count": 826
        }
      ]
    },
    {
      "cell_type": "code",
      "metadata": {
        "id": "3JwYLte0pQcU",
        "colab": {
          "base_uri": "https://localhost:8080/",
          "height": 364
        },
        "outputId": "81cc9941-de78-49f6-a371-55a03343f6c8"
      },
      "source": [
        "plt.figure(figsize = (15,6))\r\n",
        "plt.plot(train_y_trans)\r\n",
        "plt.plot(test_y_trans)\r\n",
        "\r\n",
        "\r\n",
        "plt.plot(train_predict_trans)\r\n",
        "plt.plot(test_predict_trans)\r\n",
        "plt.show()"
      ],
      "execution_count": 827,
      "outputs": [
        {
          "output_type": "display_data",
          "data": {
            "image/png": "[encoded data removed]",
            "text/plain": [
              "<Figure size 1080x432 with 1 Axes>"
            ]
          },
          "metadata": {
            "tags": [],
            "needs_background": "light"
          }
        }
      ]
    },
    {
      "cell_type": "code",
      "metadata": {
        "id": "c6Xkya6HoJP6"
      },
      "source": [
        ""
      ],
      "execution_count": 827,
      "outputs": []
    },
    {
      "cell_type": "code",
      "metadata": {
        "id": "Zg4JRftMQXlp"
      },
      "source": [
        ""
      ],
      "execution_count": 827,
      "outputs": []
    },
    {
      "cell_type": "code",
      "metadata": {
        "id": "u6WHk18SN6ju"
      },
      "source": [
        "# t = mm.inverse_transform(ytrain.reshape(-1,1))\r\n",
        "# tp = pd.Series(np.squeeze(train_predict))\r\n",
        "# inv = mm.inverse_transform(ytest.reshape(-1,1))\r\n",
        "# tt = pd.Series(np.squeeze(inv.reshape(1,-1)),range(ytrain.shape[0]+1,ytrain.shape[0]+xtest.shape[0]+1))\r\n",
        "# ttp = pd.Series(np.squeeze(test_predict),index = range(ytrain.shape[0]+1,ytrain.shape[0]+xtest.shape[0]+1))\r\n"
      ],
      "execution_count": 828,
      "outputs": []
    },
    {
      "cell_type": "code",
      "metadata": {
        "id": "_gIyPnOSnOLn"
      },
      "source": [
        ""
      ],
      "execution_count": 828,
      "outputs": []
    },
    {
      "cell_type": "markdown",
      "metadata": {
        "id": "NwACLJGrN3sb"
      },
      "source": [
        "# Introduce your submission file and make predictions\r\n",
        "\r\n",
        "* Select last time_step records from the train data to predict the first value of the test data.\r\n",
        "\r\n",
        "* Now remove the 4th last row from the predicting values and add the first row of data from test set to predict the next record.\r\n",
        "\r\n",
        "* Do this for 97 records.\r\n",
        "\r\n",
        "* Remember to concatinate the test data and fit it with the entire data and not just with the testset alone. So that Min Max would not consider the lower value as high!!!!!!!!"
      ]
    },
    {
      "cell_type": "code",
      "metadata": {
        "id": "z9jGRMZQN8RV"
      },
      "source": [
        "new_dataset = mm.fit_transform(pd.concat((stock.drop(target,axis = 1),tstock)))[len(stock)-(time_step):]"
      ],
      "execution_count": 829,
      "outputs": []
    },
    {
      "cell_type": "code",
      "metadata": {
        "colab": {
          "base_uri": "https://localhost:8080/"
        },
        "id": "aN5STjUACqil",
        "outputId": "6da1895c-9b7c-4623-abc7-1c920b5f62e5"
      },
      "source": [
        "len(new_dataset)"
      ],
      "execution_count": 830,
      "outputs": [
        {
          "output_type": "execute_result",
          "data": {
            "text/plain": [
              "101"
            ]
          },
          "metadata": {
            "tags": []
          },
          "execution_count": 830
        }
      ]
    },
    {
      "cell_type": "code",
      "metadata": {
        "id": "4Ok4lTRDfwF5"
      },
      "source": [
        "def fortest_time_seriesdata(independent,time_step):\r\n",
        "  x = []\r\n",
        "\r\n",
        "  for i in range(len(independent)-time_step):\r\n",
        "    x.append(independent[i:(time_step+i)])\r\n",
        "  return np.array(x)"
      ],
      "execution_count": 831,
      "outputs": []
    },
    {
      "cell_type": "code",
      "metadata": {
        "id": "2_LMj8Mnl8R5"
      },
      "source": [
        "testing1 = fortest_time_seriesdata(new_dataset,time_step)"
      ],
      "execution_count": 832,
      "outputs": []
    },
    {
      "cell_type": "code",
      "metadata": {
        "id": "Mkaxt67ZmCZE"
      },
      "source": [
        "testing = xreshape(testing1)"
      ],
      "execution_count": 833,
      "outputs": []
    },
    {
      "cell_type": "code",
      "metadata": {
        "id": "5CCATogrmXdj"
      },
      "source": [
        "predictions = model.predict(testing)\r\n",
        "pred = reshape(predictions)"
      ],
      "execution_count": 834,
      "outputs": []
    },
    {
      "cell_type": "code",
      "metadata": {
        "id": "Jezhm4ifnbWc"
      },
      "source": [
        "s1_train_targ =  mm.fit_transform(stock[:round(len(stock)*0.65)][target].values.reshape(-1,1))\r\n",
        "s1_test_targ =  mm.fit_transform(stock[round(len(stock)*0.65):][target].values.reshape(-1,1))"
      ],
      "execution_count": 835,
      "outputs": []
    },
    {
      "cell_type": "code",
      "metadata": {
        "id": "uZXwGoYVmg8k"
      },
      "source": [
        "stock_predictions = pd.Series(mm.inverse_transform(pred.reshape(-1,1)).reshape(-1))"
      ],
      "execution_count": 836,
      "outputs": []
    },
    {
      "cell_type": "code",
      "metadata": {
        "colab": {
          "base_uri": "https://localhost:8080/",
          "height": 288
        },
        "id": "jzemoQN3m6DL",
        "outputId": "6274dc93-decf-4e49-e0ed-786c1298e7ec"
      },
      "source": [
        "stock_predictions.plot()"
      ],
      "execution_count": 837,
      "outputs": [
        {
          "output_type": "execute_result",
          "data": {
            "text/plain": [
              "<matplotlib.axes._subplots.AxesSubplot at 0x7f4b3813cef0>"
            ]
          },
          "metadata": {
            "tags": []
          },
          "execution_count": 837
        },
        {
          "output_type": "display_data",
          "data": {
            "image/png": "[encoded data removed]",
            "text/plain": [
              "<Figure size 432x288 with 1 Axes>"
            ]
          },
          "metadata": {
            "tags": [],
            "needs_background": "light"
          }
        }
      ]
    },
    {
      "cell_type": "code",
      "metadata": {
        "colab": {
          "base_uri": "https://localhost:8080/",
          "height": 423
        },
        "id": "rESVJkkWm7im",
        "outputId": "454b82b0-00c0-4ad1-ff64-91a3b524c94b"
      },
      "source": [
        "pd.DataFrame(stock_predictions.values)"
      ],
      "execution_count": 840,
      "outputs": [
        {
          "output_type": "execute_result",
          "data": {
            "text/html": [
              "<div>\n",
              "<style scoped>\n",
              "    .dataframe tbody tr th:only-of-type {\n",
              "        vertical-align: middle;\n",
              "    }\n",
              "\n",
              "    .dataframe tbody tr th {\n",
              "        vertical-align: top;\n",
              "    }\n",
              "\n",
              "    .dataframe thead th {\n",
              "        text-align: right;\n",
              "    }\n",
              "</style>\n",
              "<table border=\"1\" class=\"dataframe\">\n",
              "  <thead>\n",
              "    <tr style=\"text-align: right;\">\n",
              "      <th></th>\n",
              "      <th>0</th>\n",
              "    </tr>\n",
              "  </thead>\n",
              "  <tbody>\n",
              "    <tr>\n",
              "      <th>0</th>\n",
              "      <td>179.490662</td>\n",
              "    </tr>\n",
              "    <tr>\n",
              "      <th>1</th>\n",
              "      <td>178.454224</td>\n",
              "    </tr>\n",
              "    <tr>\n",
              "      <th>2</th>\n",
              "      <td>178.618820</td>\n",
              "    </tr>\n",
              "    <tr>\n",
              "      <th>3</th>\n",
              "      <td>178.921097</td>\n",
              "    </tr>\n",
              "    <tr>\n",
              "      <th>4</th>\n",
              "      <td>178.791321</td>\n",
              "    </tr>\n",
              "    <tr>\n",
              "      <th>...</th>\n",
              "      <td>...</td>\n",
              "    </tr>\n",
              "    <tr>\n",
              "      <th>92</th>\n",
              "      <td>177.206985</td>\n",
              "    </tr>\n",
              "    <tr>\n",
              "      <th>93</th>\n",
              "      <td>177.429901</td>\n",
              "    </tr>\n",
              "    <tr>\n",
              "      <th>94</th>\n",
              "      <td>177.386795</td>\n",
              "    </tr>\n",
              "    <tr>\n",
              "      <th>95</th>\n",
              "      <td>177.065796</td>\n",
              "    </tr>\n",
              "    <tr>\n",
              "      <th>96</th>\n",
              "      <td>176.659439</td>\n",
              "    </tr>\n",
              "  </tbody>\n",
              "</table>\n",
              "<p>97 rows × 1 columns</p>\n",
              "</div>"
            ],
            "text/plain": [
              "             0\n",
              "0   179.490662\n",
              "1   178.454224\n",
              "2   178.618820\n",
              "3   178.921097\n",
              "4   178.791321\n",
              "..         ...\n",
              "92  177.206985\n",
              "93  177.429901\n",
              "94  177.386795\n",
              "95  177.065796\n",
              "96  176.659439\n",
              "\n",
              "[97 rows x 1 columns]"
            ]
          },
          "metadata": {
            "tags": []
          },
          "execution_count": 840
        }
      ]
    },
    {
      "cell_type": "code",
      "metadata": {
        "id": "V61i2ED3VQdo"
      },
      "source": [
        "stock = stock2\r\n",
        "tstock = tstock2\r\n",
        "target = 'Close-Stock-2'\r\n",
        "epochs = 1800"
      ],
      "execution_count": null,
      "outputs": []
    },
    {
      "cell_type": "code",
      "metadata": {
        "id": "ezGmHE08yQRL"
      },
      "source": [
        "def stock_prediction(stock,tstock,target,epochs,time_step):\r\n",
        "  \r\n",
        "  from sklearn.preprocessing import MinMaxScaler\r\n",
        "  from sklearn.metrics import mean_squared_error\r\n",
        "  from tensorflow.keras.models import Sequential\r\n",
        "  from tensorflow.keras.layers import Dense\r\n",
        "  from tensorflow.keras.layers import LSTM,Dropout\r\n",
        "  \r\n",
        "  time_step = time_step\r\n",
        "\r\n",
        "  \r\n",
        "  mm = MinMaxScaler()\r\n",
        "  s1_train = mm.fit_transform(stock[:round(len(stock)*0.65)].drop(target,axis = 1).values)\r\n",
        "  s1_test =  mm.fit_transform(stock[round(len(stock)*0.65):].drop(target,axis = 1).values)\r\n",
        "  s1_train_targ =  mm.fit_transform(stock[:round(len(stock)*0.65)][target].values.reshape(-1,1))\r\n",
        "  s1_test_targ =  mm.fit_transform(stock[round(len(stock)*0.65):][target].values.reshape(-1,1))\r\n",
        "\r\n",
        "  def time_seriesdata(independent,dependent,time_step):\r\n",
        "    x,y = [],[]\r\n",
        "\r\n",
        "    for i in range(len(dependent)-time_step):\r\n",
        "      x.append(independent[i:(time_step+i)])\r\n",
        "      y.append(dependent[time_step+i])\r\n",
        "    return np.array(x),np.array(y)\r\n",
        "\r\n",
        "    x_train,y_train = time_seriesdata(s1_train,s1_train_targ,time_step)\r\n",
        "    x_test,y_test = time_seriesdata(s1_test,s1_test_targ,time_step)\r\n",
        "\r\n",
        "  def reshape(var):\r\n",
        "    return var.reshape(var.shape[0])\r\n",
        "\r\n",
        "  def xreshape(var):\r\n",
        "    return var.reshape(var.shape[0],-1,1)\r\n",
        "\r\n",
        "  ytrain,ytest,xtrain,xtest = reshape(y_train),reshape(y_test),xreshape(x_train),xreshape(x_test)\r\n",
        "\r\n",
        "  #Stacked LSTM\r\n",
        "  \r\n",
        "  model = Sequential()\r\n",
        "  model.add(LSTM(time_step, return_sequences=True,input_shape=(xtrain.shape[1], 1)))\r\n",
        "  model.add(LSTM(time_step,return_sequences=True))\r\n",
        "  model.add(LSTM(time_step))\r\n",
        "  model.add(Dense(1))\r\n",
        "  model.compile(loss='mean_squared_error',optimizer = 'adam')\r\n",
        "\r\n",
        "  model.fit(xtrain,ytrain,epochs = epochs,validation_data=(xtest,ytest),batch_size = 64)\r\n",
        "\r\n",
        "  train_predict = reshape(model.predict(xtrain))\r\n",
        "  test_predict = reshape(model.predict(xtest))\r\n",
        "\r\n",
        "  train_y_trans = mm.inverse_transform(ytrain.reshape(-1,1))\r\n",
        "  test_y_trans = pd.Series(np.squeeze(mm.inverse_transform(y_test.reshape(1,-1))),index = list(range(xtrain.shape[0],xtrain.shape[0]+xtest.shape[0])))\r\n",
        "  train_predict_trans = mm.inverse_transform(train_predict.reshape(-1,1))\r\n",
        "  test_predict_trans = pd.Series(np.squeeze(mm.inverse_transform(test_predict.reshape(-1,1)).reshape(1,-1)),index = list(range(xtrain.shape[0],xtrain.shape[0]+xtest.shape[0])))\r\n",
        "\r\n",
        "  train_score = np.sqrt(mean_squared_error(mm.inverse_transform(y_train.reshape(-1,1)),train_predict_trans))\r\n",
        "  test_score = np.sqrt(mean_squared_error(mm.inverse_transform(y_test.reshape(-1,1)),test_predict_trans))\r\n",
        "\r\n",
        "\r\n",
        "  #Using new data to make predictions\r\n",
        "\r\n",
        "  new_dataset = mm.fit_transform(pd.concat((stock.drop(target,axis = 1),tstock)))[len(stock)-(time_step):]\r\n",
        "\r\n",
        "  def fortest_time_seriesdata(independent,time_step):\r\n",
        "    x = []\r\n",
        "\r\n",
        "    for i in range(len(independent)-time_step):\r\n",
        "      x.append(independent[i:(time_step+i)])\r\n",
        "    return np.array(x)\r\n",
        "\r\n",
        "  testing1 = fortest_time_seriesdata(new_dataset,time_step)\r\n",
        "  testing = xreshape(testing1)\r\n",
        "  predictions = model.predict(testing)\r\n",
        "  pred = reshape(predictions)\r\n",
        "\r\n",
        "  s1_train_targ =  mm.fit_transform(stock[:round(len(stock)*0.65)][target].values.reshape(-1,1))\r\n",
        "  s1_test_targ =  mm.fit_transform(stock[round(len(stock)*0.65):][target].values.reshape(-1,1))\r\n",
        "\r\n",
        "  stock_predictions = mm.inverse_transform(pred.reshape(-1,1)).reshape(-1)\r\n",
        "  return stock_predictions"
      ],
      "execution_count": 915,
      "outputs": []
    },
    {
      "cell_type": "code",
      "metadata": {
        "id": "8gxVP8Egdk2Q"
      },
      "source": [
        "stock1 = train[['Open-Stock-1', 'High-Stock-1', 'Low-Stock-1', 'Close-Stock-1','VWAP-Stock-1', 'Volume-Stock-1', 'Turnover-Stock-1']]\r\n",
        "stock2 = train[['Open-Stock-2', 'High-Stock-2', 'Low-Stock-2', 'Close-Stock-2','VWAP-Stock-2', 'Volume-Stock-2', 'Turnover-Stock-2']]\r\n",
        "stock3 = train[['Open-Stock-3', 'High-Stock-3', 'Low-Stock-3', 'Close-Stock-3','VWAP-Stock-3', 'Volume-Stock-3', 'Turnover-Stock-3']]\r\n",
        "stock4 = train[['Open-Stock-4', 'High-Stock-4', 'Low-Stock-4', 'Close-Stock-4','VWAP-Stock-4', 'Volume-Stock-4', 'Turnover-Stock-4']]\r\n",
        "stock5 = train[['Open-Stock-5', 'High-Stock-5', 'Low-Stock-5', 'Close-Stock-5','VWAP-Stock-5', 'Volume-Stock-5', 'Turnover-Stock-5']]"
      ],
      "execution_count": 916,
      "outputs": []
    },
    {
      "cell_type": "code",
      "metadata": {
        "id": "HvOHi2mFdk6d"
      },
      "source": [
        "tstock1 = test[['Open-Stock-1', 'High-Stock-1', 'Low-Stock-1','VWAP-Stock-1', 'Volume-Stock-1', 'Turnover-Stock-1']]\r\n",
        "tstock2 = test[['Open-Stock-2', 'High-Stock-2', 'Low-Stock-2','VWAP-Stock-2', 'Volume-Stock-2', 'Turnover-Stock-2']]\r\n",
        "tstock3 = test[['Open-Stock-3', 'High-Stock-3', 'Low-Stock-3','VWAP-Stock-3', 'Volume-Stock-3', 'Turnover-Stock-3']]\r\n",
        "tstock4 = test[['Open-Stock-4', 'High-Stock-4', 'Low-Stock-4','VWAP-Stock-4', 'Volume-Stock-4', 'Turnover-Stock-4']]\r\n",
        "tstock5 = test[['Open-Stock-5', 'High-Stock-5', 'Low-Stock-5','VWAP-Stock-5', 'Volume-Stock-5', 'Turnover-Stock-5']]"
      ],
      "execution_count": 917,
      "outputs": []
    },
    {
      "cell_type": "code",
      "metadata": {
        "colab": {
          "base_uri": "https://localhost:8080/",
          "height": 1000
        },
        "id": "FTiRB5JfVoYb",
        "outputId": "dceb756c-25de-44ac-b1e0-7dcfc0a25ad3"
      },
      "source": [
        "epochs = 1800\r\n",
        "step = 4\r\n",
        "s1 = pd.Series(stock_prediction(stock1,tstock1,'Close-Stock-1',epochs = epochs,time_step = step))\r\n",
        "s2 = pd.Series(stock_prediction(stock2,tstock2,'Close-Stock-2',epochs = epochs,time_step = step))\r\n",
        "s3 = pd.Series(stock_prediction(stock3,tstock3,'Close-Stock-3',epochs = epochs,time_step = step))\r\n",
        "s4 = pd.Series(stock_prediction(stock4,tstock4,'Close-Stock-4',epochs = epochs,time_step = step))\r\n",
        "s5 = pd.Series(stock_prediction(stock5,tstock5,'Close-Stock-5',epochs = epochs,time_step = step))\r\n",
        "submission = pd.concat((test['Date'],s1,s2,s3,s4,s5),axis = 1)"
      ],
      "execution_count": 914,
      "outputs": [
        {
          "output_type": "stream",
          "text": [
            "Epoch 1/20\n",
            "3/3 [==============================] - 5s 549ms/step - loss: 0.2266 - val_loss: 0.3913\n",
            "Epoch 2/20\n",
            "3/3 [==============================] - 0s 50ms/step - loss: 0.2189 - val_loss: 0.3743\n",
            "Epoch 3/20\n",
            "3/3 [==============================] - 0s 49ms/step - loss: 0.2048 - val_loss: 0.3592\n",
            "Epoch 4/20\n",
            "3/3 [==============================] - 0s 52ms/step - loss: 0.1847 - val_loss: 0.3458\n",
            "Epoch 5/20\n",
            "3/3 [==============================] - 0s 52ms/step - loss: 0.1944 - val_loss: 0.3335\n",
            "Epoch 6/20\n",
            "3/3 [==============================] - 0s 47ms/step - loss: 0.1811 - val_loss: 0.3224\n",
            "Epoch 7/20\n",
            "3/3 [==============================] - 0s 47ms/step - loss: 0.1668 - val_loss: 0.3121\n",
            "Epoch 8/20\n",
            "3/3 [==============================] - 0s 50ms/step - loss: 0.1634 - val_loss: 0.3024\n",
            "Epoch 9/20\n",
            "3/3 [==============================] - 0s 48ms/step - loss: 0.1665 - val_loss: 0.2931\n",
            "Epoch 10/20\n",
            "3/3 [==============================] - 0s 48ms/step - loss: 0.1493 - val_loss: 0.2841\n",
            "Epoch 11/20\n",
            "3/3 [==============================] - 0s 47ms/step - loss: 0.1554 - val_loss: 0.2753\n",
            "Epoch 12/20\n",
            "3/3 [==============================] - 0s 53ms/step - loss: 0.1514 - val_loss: 0.2665\n",
            "Epoch 13/20\n",
            "3/3 [==============================] - 0s 61ms/step - loss: 0.1532 - val_loss: 0.2577\n",
            "Epoch 14/20\n",
            "3/3 [==============================] - 0s 55ms/step - loss: 0.1353 - val_loss: 0.2490\n",
            "Epoch 15/20\n",
            "3/3 [==============================] - 0s 49ms/step - loss: 0.1285 - val_loss: 0.2402\n",
            "Epoch 16/20\n",
            "3/3 [==============================] - 0s 48ms/step - loss: 0.1399 - val_loss: 0.2312\n",
            "Epoch 17/20\n",
            "3/3 [==============================] - 0s 48ms/step - loss: 0.1435 - val_loss: 0.2221\n",
            "Epoch 18/20\n",
            "3/3 [==============================] - 0s 51ms/step - loss: 0.1243 - val_loss: 0.2130\n",
            "Epoch 19/20\n",
            "3/3 [==============================] - 0s 51ms/step - loss: 0.1253 - val_loss: 0.2038\n",
            "Epoch 20/20\n",
            "3/3 [==============================] - 0s 49ms/step - loss: 0.1194 - val_loss: 0.1945\n",
            "Epoch 1/20\n",
            "3/3 [==============================] - 5s 549ms/step - loss: 0.1475 - val_loss: 0.2635\n",
            "Epoch 2/20\n",
            "3/3 [==============================] - 0s 53ms/step - loss: 0.1456 - val_loss: 0.2417\n",
            "Epoch 3/20\n",
            "3/3 [==============================] - 0s 49ms/step - loss: 0.1382 - val_loss: 0.2211\n",
            "Epoch 4/20\n",
            "3/3 [==============================] - 0s 49ms/step - loss: 0.1192 - val_loss: 0.2016\n",
            "Epoch 5/20\n",
            "3/3 [==============================] - 0s 50ms/step - loss: 0.1075 - val_loss: 0.1832\n",
            "Epoch 6/20\n",
            "3/3 [==============================] - 0s 49ms/step - loss: 0.1040 - val_loss: 0.1659\n",
            "Epoch 7/20\n",
            "3/3 [==============================] - 0s 48ms/step - loss: 0.1089 - val_loss: 0.1499\n",
            "Epoch 8/20\n",
            "3/3 [==============================] - 0s 51ms/step - loss: 0.1024 - val_loss: 0.1355\n",
            "Epoch 9/20\n",
            "3/3 [==============================] - 0s 56ms/step - loss: 0.0992 - val_loss: 0.1227\n",
            "Epoch 10/20\n",
            "3/3 [==============================] - 0s 64ms/step - loss: 0.0918 - val_loss: 0.1118\n",
            "Epoch 11/20\n",
            "3/3 [==============================] - 0s 54ms/step - loss: 0.0871 - val_loss: 0.1025\n",
            "Epoch 12/20\n",
            "3/3 [==============================] - 0s 50ms/step - loss: 0.0784 - val_loss: 0.0950\n",
            "Epoch 13/20\n",
            "3/3 [==============================] - 0s 49ms/step - loss: 0.0783 - val_loss: 0.0883\n",
            "Epoch 14/20\n",
            "3/3 [==============================] - 0s 48ms/step - loss: 0.0759 - val_loss: 0.0827\n",
            "Epoch 15/20\n",
            "3/3 [==============================] - 0s 48ms/step - loss: 0.0718 - val_loss: 0.0778\n",
            "Epoch 16/20\n",
            "3/3 [==============================] - 0s 49ms/step - loss: 0.0734 - val_loss: 0.0729\n",
            "Epoch 17/20\n",
            "3/3 [==============================] - 0s 55ms/step - loss: 0.0637 - val_loss: 0.0684\n",
            "Epoch 18/20\n",
            "3/3 [==============================] - 0s 61ms/step - loss: 0.0625 - val_loss: 0.0632\n",
            "Epoch 19/20\n",
            "3/3 [==============================] - 0s 56ms/step - loss: 0.0560 - val_loss: 0.0577\n",
            "Epoch 20/20\n",
            "3/3 [==============================] - 0s 53ms/step - loss: 0.0503 - val_loss: 0.0517\n",
            "Epoch 1/20\n",
            "3/3 [==============================] - 5s 533ms/step - loss: 0.1551 - val_loss: 0.2750\n",
            "Epoch 2/20\n",
            "3/3 [==============================] - 0s 57ms/step - loss: 0.1565 - val_loss: 0.2481\n",
            "Epoch 3/20\n",
            "3/3 [==============================] - 0s 48ms/step - loss: 0.1507 - val_loss: 0.2216\n",
            "Epoch 4/20\n",
            "3/3 [==============================] - 0s 47ms/step - loss: 0.1012 - val_loss: 0.1961\n",
            "Epoch 5/20\n",
            "3/3 [==============================] - 0s 51ms/step - loss: 0.1234 - val_loss: 0.1706\n",
            "Epoch 6/20\n",
            "3/3 [==============================] - 0s 58ms/step - loss: 0.0962 - val_loss: 0.1470\n",
            "Epoch 7/20\n",
            "3/3 [==============================] - 0s 50ms/step - loss: 0.0978 - val_loss: 0.1252\n",
            "Epoch 8/20\n",
            "3/3 [==============================] - 0s 50ms/step - loss: 0.0796 - val_loss: 0.1070\n",
            "Epoch 9/20\n",
            "3/3 [==============================] - 2s 846ms/step - loss: 0.0778 - val_loss: 0.0921\n",
            "Epoch 10/20\n",
            "3/3 [==============================] - 0s 53ms/step - loss: 0.0814 - val_loss: 0.0805\n",
            "Epoch 11/20\n",
            "3/3 [==============================] - 0s 49ms/step - loss: 0.0779 - val_loss: 0.0727\n",
            "Epoch 12/20\n",
            "3/3 [==============================] - 0s 49ms/step - loss: 0.0783 - val_loss: 0.0675\n",
            "Epoch 13/20\n",
            "3/3 [==============================] - 0s 50ms/step - loss: 0.0690 - val_loss: 0.0654\n",
            "Epoch 14/20\n",
            "3/3 [==============================] - 0s 50ms/step - loss: 0.0673 - val_loss: 0.0644\n",
            "Epoch 15/20\n",
            "3/3 [==============================] - 0s 52ms/step - loss: 0.0652 - val_loss: 0.0640\n",
            "Epoch 16/20\n",
            "3/3 [==============================] - 0s 61ms/step - loss: 0.0639 - val_loss: 0.0629\n",
            "Epoch 17/20\n",
            "3/3 [==============================] - 0s 59ms/step - loss: 0.0550 - val_loss: 0.0618\n",
            "Epoch 18/20\n",
            "3/3 [==============================] - 0s 48ms/step - loss: 0.0574 - val_loss: 0.0583\n",
            "Epoch 19/20\n",
            "3/3 [==============================] - 0s 49ms/step - loss: 0.0485 - val_loss: 0.0535\n",
            "Epoch 20/20\n",
            "3/3 [==============================] - 0s 54ms/step - loss: 0.0452 - val_loss: 0.0466\n",
            "Epoch 1/20\n",
            "3/3 [==============================] - 5s 547ms/step - loss: 0.1813 - val_loss: 0.3232\n",
            "Epoch 2/20\n",
            "3/3 [==============================] - 0s 49ms/step - loss: 0.1532 - val_loss: 0.3023\n",
            "Epoch 3/20\n",
            "3/3 [==============================] - 0s 49ms/step - loss: 0.1868 - val_loss: 0.2824\n",
            "Epoch 4/20\n",
            "3/3 [==============================] - 0s 48ms/step - loss: 0.1467 - val_loss: 0.2637\n",
            "Epoch 5/20\n",
            "3/3 [==============================] - 0s 55ms/step - loss: 0.1357 - val_loss: 0.2458\n",
            "Epoch 6/20\n",
            "3/3 [==============================] - 0s 61ms/step - loss: 0.1430 - val_loss: 0.2286\n",
            "Epoch 7/20\n",
            "3/3 [==============================] - 0s 54ms/step - loss: 0.1236 - val_loss: 0.2125\n",
            "Epoch 8/20\n",
            "3/3 [==============================] - 0s 49ms/step - loss: 0.1130 - val_loss: 0.1973\n",
            "Epoch 9/20\n",
            "3/3 [==============================] - 0s 60ms/step - loss: 0.1146 - val_loss: 0.1832\n",
            "Epoch 10/20\n",
            "3/3 [==============================] - 0s 58ms/step - loss: 0.1197 - val_loss: 0.1700\n",
            "Epoch 11/20\n",
            "3/3 [==============================] - 0s 48ms/step - loss: 0.0989 - val_loss: 0.1583\n",
            "Epoch 12/20\n",
            "3/3 [==============================] - 0s 49ms/step - loss: 0.1056 - val_loss: 0.1475\n",
            "Epoch 13/20\n",
            "3/3 [==============================] - 0s 50ms/step - loss: 0.0990 - val_loss: 0.1380\n",
            "Epoch 14/20\n",
            "3/3 [==============================] - 0s 55ms/step - loss: 0.1000 - val_loss: 0.1295\n",
            "Epoch 15/20\n",
            "3/3 [==============================] - 0s 48ms/step - loss: 0.1006 - val_loss: 0.1219\n",
            "Epoch 16/20\n",
            "3/3 [==============================] - 0s 49ms/step - loss: 0.0931 - val_loss: 0.1154\n",
            "Epoch 17/20\n",
            "3/3 [==============================] - 0s 48ms/step - loss: 0.1011 - val_loss: 0.1094\n",
            "Epoch 18/20\n",
            "3/3 [==============================] - 0s 49ms/step - loss: 0.0835 - val_loss: 0.1047\n",
            "Epoch 19/20\n",
            "1/3 [=========>....................] - ETA: 0s - loss: 0.1140"
          ],
          "name": "stdout"
        },
        {
          "output_type": "error",
          "ename": "KeyboardInterrupt",
          "evalue": "ignored",
          "traceback": [
            "\u001b[0;31m---------------------------------------------------------------------------\u001b[0m",
            "\u001b[0;31mKeyboardInterrupt\u001b[0m                         Traceback (most recent call last)",
            "\u001b[0;32m<ipython-input-914-e81f0b959cbb>\u001b[0m in \u001b[0;36m<module>\u001b[0;34m()\u001b[0m\n\u001b[1;32m      4\u001b[0m \u001b[0ms2\u001b[0m \u001b[0;34m=\u001b[0m \u001b[0mpd\u001b[0m\u001b[0;34m.\u001b[0m\u001b[0mSeries\u001b[0m\u001b[0;34m(\u001b[0m\u001b[0mstock_prediction\u001b[0m\u001b[0;34m(\u001b[0m\u001b[0mstock2\u001b[0m\u001b[0;34m,\u001b[0m\u001b[0mtstock2\u001b[0m\u001b[0;34m,\u001b[0m\u001b[0;34m'Close-Stock-2'\u001b[0m\u001b[0;34m,\u001b[0m\u001b[0mepochs\u001b[0m \u001b[0;34m=\u001b[0m \u001b[0mepochs\u001b[0m\u001b[0;34m,\u001b[0m\u001b[0mtime_step\u001b[0m \u001b[0;34m=\u001b[0m \u001b[0mstep\u001b[0m\u001b[0;34m)\u001b[0m\u001b[0;34m)\u001b[0m\u001b[0;34m\u001b[0m\u001b[0;34m\u001b[0m\u001b[0m\n\u001b[1;32m      5\u001b[0m \u001b[0ms3\u001b[0m \u001b[0;34m=\u001b[0m \u001b[0mpd\u001b[0m\u001b[0;34m.\u001b[0m\u001b[0mSeries\u001b[0m\u001b[0;34m(\u001b[0m\u001b[0mstock_prediction\u001b[0m\u001b[0;34m(\u001b[0m\u001b[0mstock3\u001b[0m\u001b[0;34m,\u001b[0m\u001b[0mtstock3\u001b[0m\u001b[0;34m,\u001b[0m\u001b[0;34m'Close-Stock-3'\u001b[0m\u001b[0;34m,\u001b[0m\u001b[0mepochs\u001b[0m \u001b[0;34m=\u001b[0m \u001b[0mepochs\u001b[0m\u001b[0;34m,\u001b[0m\u001b[0mtime_step\u001b[0m \u001b[0;34m=\u001b[0m \u001b[0mstep\u001b[0m\u001b[0;34m)\u001b[0m\u001b[0;34m)\u001b[0m\u001b[0;34m\u001b[0m\u001b[0;34m\u001b[0m\u001b[0m\n\u001b[0;32m----> 6\u001b[0;31m \u001b[0ms4\u001b[0m \u001b[0;34m=\u001b[0m \u001b[0mpd\u001b[0m\u001b[0;34m.\u001b[0m\u001b[0mSeries\u001b[0m\u001b[0;34m(\u001b[0m\u001b[0mstock_prediction\u001b[0m\u001b[0;34m(\u001b[0m\u001b[0mstock4\u001b[0m\u001b[0;34m,\u001b[0m\u001b[0mtstock4\u001b[0m\u001b[0;34m,\u001b[0m\u001b[0;34m'Close-Stock-4'\u001b[0m\u001b[0;34m,\u001b[0m\u001b[0mepochs\u001b[0m \u001b[0;34m=\u001b[0m \u001b[0mepochs\u001b[0m\u001b[0;34m,\u001b[0m\u001b[0mtime_step\u001b[0m \u001b[0;34m=\u001b[0m \u001b[0mstep\u001b[0m\u001b[0;34m)\u001b[0m\u001b[0;34m)\u001b[0m\u001b[0;34m\u001b[0m\u001b[0;34m\u001b[0m\u001b[0m\n\u001b[0m\u001b[1;32m      7\u001b[0m \u001b[0ms5\u001b[0m \u001b[0;34m=\u001b[0m \u001b[0mpd\u001b[0m\u001b[0;34m.\u001b[0m\u001b[0mSeries\u001b[0m\u001b[0;34m(\u001b[0m\u001b[0mstock_prediction\u001b[0m\u001b[0;34m(\u001b[0m\u001b[0mstock5\u001b[0m\u001b[0;34m,\u001b[0m\u001b[0mtstock5\u001b[0m\u001b[0;34m,\u001b[0m\u001b[0;34m'Close-Stock-5'\u001b[0m\u001b[0;34m,\u001b[0m\u001b[0mepochs\u001b[0m \u001b[0;34m=\u001b[0m \u001b[0mepochs\u001b[0m\u001b[0;34m,\u001b[0m\u001b[0mtime_step\u001b[0m \u001b[0;34m=\u001b[0m \u001b[0mstep\u001b[0m\u001b[0;34m)\u001b[0m\u001b[0;34m)\u001b[0m\u001b[0;34m\u001b[0m\u001b[0;34m\u001b[0m\u001b[0m\n\u001b[1;32m      8\u001b[0m \u001b[0msubmission\u001b[0m \u001b[0;34m=\u001b[0m \u001b[0mpd\u001b[0m\u001b[0;34m.\u001b[0m\u001b[0mconcat\u001b[0m\u001b[0;34m(\u001b[0m\u001b[0;34m(\u001b[0m\u001b[0mtest\u001b[0m\u001b[0;34m[\u001b[0m\u001b[0;34m'Date'\u001b[0m\u001b[0;34m]\u001b[0m\u001b[0;34m,\u001b[0m\u001b[0ms1\u001b[0m\u001b[0;34m,\u001b[0m\u001b[0ms2\u001b[0m\u001b[0;34m,\u001b[0m\u001b[0ms3\u001b[0m\u001b[0;34m,\u001b[0m\u001b[0ms4\u001b[0m\u001b[0;34m,\u001b[0m\u001b[0ms5\u001b[0m\u001b[0;34m)\u001b[0m\u001b[0;34m,\u001b[0m\u001b[0maxis\u001b[0m \u001b[0;34m=\u001b[0m \u001b[0;36m1\u001b[0m\u001b[0;34m)\u001b[0m\u001b[0;34m\u001b[0m\u001b[0;34m\u001b[0m\u001b[0m\n",
            "\u001b[0;32m<ipython-input-912-e2ed0d43110f>\u001b[0m in \u001b[0;36mstock_prediction\u001b[0;34m(stock, tstock, target, epochs, time_step)\u001b[0m\n\u001b[1;32m     44\u001b[0m   \u001b[0mmodel\u001b[0m\u001b[0;34m.\u001b[0m\u001b[0mcompile\u001b[0m\u001b[0;34m(\u001b[0m\u001b[0mloss\u001b[0m\u001b[0;34m=\u001b[0m\u001b[0;34m'mean_squared_error'\u001b[0m\u001b[0;34m,\u001b[0m\u001b[0moptimizer\u001b[0m \u001b[0;34m=\u001b[0m \u001b[0;34m'adam'\u001b[0m\u001b[0;34m)\u001b[0m\u001b[0;34m\u001b[0m\u001b[0;34m\u001b[0m\u001b[0m\n\u001b[1;32m     45\u001b[0m \u001b[0;34m\u001b[0m\u001b[0m\n\u001b[0;32m---> 46\u001b[0;31m   \u001b[0mmodel\u001b[0m\u001b[0;34m.\u001b[0m\u001b[0mfit\u001b[0m\u001b[0;34m(\u001b[0m\u001b[0mxtrain\u001b[0m\u001b[0;34m,\u001b[0m\u001b[0mytrain\u001b[0m\u001b[0;34m,\u001b[0m\u001b[0mepochs\u001b[0m \u001b[0;34m=\u001b[0m \u001b[0mepochs\u001b[0m\u001b[0;34m,\u001b[0m\u001b[0mvalidation_data\u001b[0m\u001b[0;34m=\u001b[0m\u001b[0;34m(\u001b[0m\u001b[0mxtest\u001b[0m\u001b[0;34m,\u001b[0m\u001b[0mytest\u001b[0m\u001b[0;34m)\u001b[0m\u001b[0;34m,\u001b[0m\u001b[0mbatch_size\u001b[0m \u001b[0;34m=\u001b[0m \u001b[0;36m64\u001b[0m\u001b[0;34m)\u001b[0m\u001b[0;34m\u001b[0m\u001b[0;34m\u001b[0m\u001b[0m\n\u001b[0m\u001b[1;32m     47\u001b[0m \u001b[0;34m\u001b[0m\u001b[0m\n\u001b[1;32m     48\u001b[0m   \u001b[0mtrain_predict\u001b[0m \u001b[0;34m=\u001b[0m \u001b[0mreshape\u001b[0m\u001b[0;34m(\u001b[0m\u001b[0mmodel\u001b[0m\u001b[0;34m.\u001b[0m\u001b[0mpredict\u001b[0m\u001b[0;34m(\u001b[0m\u001b[0mxtrain\u001b[0m\u001b[0;34m)\u001b[0m\u001b[0;34m)\u001b[0m\u001b[0;34m\u001b[0m\u001b[0;34m\u001b[0m\u001b[0m\n",
            "\u001b[0;32m/usr/local/lib/python3.6/dist-packages/tensorflow/python/keras/engine/training.py\u001b[0m in \u001b[0;36mfit\u001b[0;34m(self, x, y, batch_size, epochs, verbose, callbacks, validation_split, validation_data, shuffle, class_weight, sample_weight, initial_epoch, steps_per_epoch, validation_steps, validation_batch_size, validation_freq, max_queue_size, workers, use_multiprocessing)\u001b[0m\n\u001b[1;32m   1098\u001b[0m                 _r=1):\n\u001b[1;32m   1099\u001b[0m               \u001b[0mcallbacks\u001b[0m\u001b[0;34m.\u001b[0m\u001b[0mon_train_batch_begin\u001b[0m\u001b[0;34m(\u001b[0m\u001b[0mstep\u001b[0m\u001b[0;34m)\u001b[0m\u001b[0;34m\u001b[0m\u001b[0;34m\u001b[0m\u001b[0m\n\u001b[0;32m-> 1100\u001b[0;31m               \u001b[0mtmp_logs\u001b[0m \u001b[0;34m=\u001b[0m \u001b[0mself\u001b[0m\u001b[0;34m.\u001b[0m\u001b[0mtrain_function\u001b[0m\u001b[0;34m(\u001b[0m\u001b[0miterator\u001b[0m\u001b[0;34m)\u001b[0m\u001b[0;34m\u001b[0m\u001b[0;34m\u001b[0m\u001b[0m\n\u001b[0m\u001b[1;32m   1101\u001b[0m               \u001b[0;32mif\u001b[0m \u001b[0mdata_handler\u001b[0m\u001b[0;34m.\u001b[0m\u001b[0mshould_sync\u001b[0m\u001b[0;34m:\u001b[0m\u001b[0;34m\u001b[0m\u001b[0;34m\u001b[0m\u001b[0m\n\u001b[1;32m   1102\u001b[0m                 \u001b[0mcontext\u001b[0m\u001b[0;34m.\u001b[0m\u001b[0masync_wait\u001b[0m\u001b[0;34m(\u001b[0m\u001b[0;34m)\u001b[0m\u001b[0;34m\u001b[0m\u001b[0;34m\u001b[0m\u001b[0m\n",
            "\u001b[0;32m/usr/local/lib/python3.6/dist-packages/tensorflow/python/eager/def_function.py\u001b[0m in \u001b[0;36m__call__\u001b[0;34m(self, *args, **kwds)\u001b[0m\n\u001b[1;32m    826\u001b[0m     \u001b[0mtracing_count\u001b[0m \u001b[0;34m=\u001b[0m \u001b[0mself\u001b[0m\u001b[0;34m.\u001b[0m\u001b[0mexperimental_get_tracing_count\u001b[0m\u001b[0;34m(\u001b[0m\u001b[0;34m)\u001b[0m\u001b[0;34m\u001b[0m\u001b[0;34m\u001b[0m\u001b[0m\n\u001b[1;32m    827\u001b[0m     \u001b[0;32mwith\u001b[0m \u001b[0mtrace\u001b[0m\u001b[0;34m.\u001b[0m\u001b[0mTrace\u001b[0m\u001b[0;34m(\u001b[0m\u001b[0mself\u001b[0m\u001b[0;34m.\u001b[0m\u001b[0m_name\u001b[0m\u001b[0;34m)\u001b[0m \u001b[0;32mas\u001b[0m \u001b[0mtm\u001b[0m\u001b[0;34m:\u001b[0m\u001b[0;34m\u001b[0m\u001b[0;34m\u001b[0m\u001b[0m\n\u001b[0;32m--> 828\u001b[0;31m       \u001b[0mresult\u001b[0m \u001b[0;34m=\u001b[0m \u001b[0mself\u001b[0m\u001b[0;34m.\u001b[0m\u001b[0m_call\u001b[0m\u001b[0;34m(\u001b[0m\u001b[0;34m*\u001b[0m\u001b[0margs\u001b[0m\u001b[0;34m,\u001b[0m \u001b[0;34m**\u001b[0m\u001b[0mkwds\u001b[0m\u001b[0;34m)\u001b[0m\u001b[0;34m\u001b[0m\u001b[0;34m\u001b[0m\u001b[0m\n\u001b[0m\u001b[1;32m    829\u001b[0m       \u001b[0mcompiler\u001b[0m \u001b[0;34m=\u001b[0m \u001b[0;34m\"xla\"\u001b[0m \u001b[0;32mif\u001b[0m \u001b[0mself\u001b[0m\u001b[0;34m.\u001b[0m\u001b[0m_experimental_compile\u001b[0m \u001b[0;32melse\u001b[0m \u001b[0;34m\"nonXla\"\u001b[0m\u001b[0;34m\u001b[0m\u001b[0;34m\u001b[0m\u001b[0m\n\u001b[1;32m    830\u001b[0m       \u001b[0mnew_tracing_count\u001b[0m \u001b[0;34m=\u001b[0m \u001b[0mself\u001b[0m\u001b[0;34m.\u001b[0m\u001b[0mexperimental_get_tracing_count\u001b[0m\u001b[0;34m(\u001b[0m\u001b[0;34m)\u001b[0m\u001b[0;34m\u001b[0m\u001b[0;34m\u001b[0m\u001b[0m\n",
            "\u001b[0;32m/usr/local/lib/python3.6/dist-packages/tensorflow/python/eager/def_function.py\u001b[0m in \u001b[0;36m_call\u001b[0;34m(self, *args, **kwds)\u001b[0m\n\u001b[1;32m    853\u001b[0m       \u001b[0;31m# In this case we have created variables on the first call, so we run the\u001b[0m\u001b[0;34m\u001b[0m\u001b[0;34m\u001b[0m\u001b[0;34m\u001b[0m\u001b[0m\n\u001b[1;32m    854\u001b[0m       \u001b[0;31m# defunned version which is guaranteed to never create variables.\u001b[0m\u001b[0;34m\u001b[0m\u001b[0;34m\u001b[0m\u001b[0;34m\u001b[0m\u001b[0m\n\u001b[0;32m--> 855\u001b[0;31m       \u001b[0;32mreturn\u001b[0m \u001b[0mself\u001b[0m\u001b[0;34m.\u001b[0m\u001b[0m_stateless_fn\u001b[0m\u001b[0;34m(\u001b[0m\u001b[0;34m*\u001b[0m\u001b[0margs\u001b[0m\u001b[0;34m,\u001b[0m \u001b[0;34m**\u001b[0m\u001b[0mkwds\u001b[0m\u001b[0;34m)\u001b[0m  \u001b[0;31m# pylint: disable=not-callable\u001b[0m\u001b[0;34m\u001b[0m\u001b[0;34m\u001b[0m\u001b[0m\n\u001b[0m\u001b[1;32m    856\u001b[0m     \u001b[0;32melif\u001b[0m \u001b[0mself\u001b[0m\u001b[0;34m.\u001b[0m\u001b[0m_stateful_fn\u001b[0m \u001b[0;32mis\u001b[0m \u001b[0;32mnot\u001b[0m \u001b[0;32mNone\u001b[0m\u001b[0;34m:\u001b[0m\u001b[0;34m\u001b[0m\u001b[0;34m\u001b[0m\u001b[0m\n\u001b[1;32m    857\u001b[0m       \u001b[0;31m# Release the lock early so that multiple threads can perform the call\u001b[0m\u001b[0;34m\u001b[0m\u001b[0;34m\u001b[0m\u001b[0;34m\u001b[0m\u001b[0m\n",
            "\u001b[0;32m/usr/local/lib/python3.6/dist-packages/tensorflow/python/eager/function.py\u001b[0m in \u001b[0;36m__call__\u001b[0;34m(self, *args, **kwargs)\u001b[0m\n\u001b[1;32m   2941\u001b[0m        filtered_flat_args) = self._maybe_define_function(args, kwargs)\n\u001b[1;32m   2942\u001b[0m     return graph_function._call_flat(\n\u001b[0;32m-> 2943\u001b[0;31m         filtered_flat_args, captured_inputs=graph_function.captured_inputs)  # pylint: disable=protected-access\n\u001b[0m\u001b[1;32m   2944\u001b[0m \u001b[0;34m\u001b[0m\u001b[0m\n\u001b[1;32m   2945\u001b[0m   \u001b[0;34m@\u001b[0m\u001b[0mproperty\u001b[0m\u001b[0;34m\u001b[0m\u001b[0;34m\u001b[0m\u001b[0m\n",
            "\u001b[0;32m/usr/local/lib/python3.6/dist-packages/tensorflow/python/eager/function.py\u001b[0m in \u001b[0;36m_call_flat\u001b[0;34m(self, args, captured_inputs, cancellation_manager)\u001b[0m\n\u001b[1;32m   1917\u001b[0m       \u001b[0;31m# No tape is watching; skip to running the function.\u001b[0m\u001b[0;34m\u001b[0m\u001b[0;34m\u001b[0m\u001b[0;34m\u001b[0m\u001b[0m\n\u001b[1;32m   1918\u001b[0m       return self._build_call_outputs(self._inference_function.call(\n\u001b[0;32m-> 1919\u001b[0;31m           ctx, args, cancellation_manager=cancellation_manager))\n\u001b[0m\u001b[1;32m   1920\u001b[0m     forward_backward = self._select_forward_and_backward_functions(\n\u001b[1;32m   1921\u001b[0m         \u001b[0margs\u001b[0m\u001b[0;34m,\u001b[0m\u001b[0;34m\u001b[0m\u001b[0;34m\u001b[0m\u001b[0m\n",
            "\u001b[0;32m/usr/local/lib/python3.6/dist-packages/tensorflow/python/eager/function.py\u001b[0m in \u001b[0;36mcall\u001b[0;34m(self, ctx, args, cancellation_manager)\u001b[0m\n\u001b[1;32m    558\u001b[0m               \u001b[0minputs\u001b[0m\u001b[0;34m=\u001b[0m\u001b[0margs\u001b[0m\u001b[0;34m,\u001b[0m\u001b[0;34m\u001b[0m\u001b[0;34m\u001b[0m\u001b[0m\n\u001b[1;32m    559\u001b[0m               \u001b[0mattrs\u001b[0m\u001b[0;34m=\u001b[0m\u001b[0mattrs\u001b[0m\u001b[0;34m,\u001b[0m\u001b[0;34m\u001b[0m\u001b[0;34m\u001b[0m\u001b[0m\n\u001b[0;32m--> 560\u001b[0;31m               ctx=ctx)\n\u001b[0m\u001b[1;32m    561\u001b[0m         \u001b[0;32melse\u001b[0m\u001b[0;34m:\u001b[0m\u001b[0;34m\u001b[0m\u001b[0;34m\u001b[0m\u001b[0m\n\u001b[1;32m    562\u001b[0m           outputs = execute.execute_with_cancellation(\n",
            "\u001b[0;32m/usr/local/lib/python3.6/dist-packages/tensorflow/python/eager/execute.py\u001b[0m in \u001b[0;36mquick_execute\u001b[0;34m(op_name, num_outputs, inputs, attrs, ctx, name)\u001b[0m\n\u001b[1;32m     58\u001b[0m     \u001b[0mctx\u001b[0m\u001b[0;34m.\u001b[0m\u001b[0mensure_initialized\u001b[0m\u001b[0;34m(\u001b[0m\u001b[0;34m)\u001b[0m\u001b[0;34m\u001b[0m\u001b[0;34m\u001b[0m\u001b[0m\n\u001b[1;32m     59\u001b[0m     tensors = pywrap_tfe.TFE_Py_Execute(ctx._handle, device_name, op_name,\n\u001b[0;32m---> 60\u001b[0;31m                                         inputs, attrs, num_outputs)\n\u001b[0m\u001b[1;32m     61\u001b[0m   \u001b[0;32mexcept\u001b[0m \u001b[0mcore\u001b[0m\u001b[0;34m.\u001b[0m\u001b[0m_NotOkStatusException\u001b[0m \u001b[0;32mas\u001b[0m \u001b[0me\u001b[0m\u001b[0;34m:\u001b[0m\u001b[0;34m\u001b[0m\u001b[0;34m\u001b[0m\u001b[0m\n\u001b[1;32m     62\u001b[0m     \u001b[0;32mif\u001b[0m \u001b[0mname\u001b[0m \u001b[0;32mis\u001b[0m \u001b[0;32mnot\u001b[0m \u001b[0;32mNone\u001b[0m\u001b[0;34m:\u001b[0m\u001b[0;34m\u001b[0m\u001b[0;34m\u001b[0m\u001b[0m\n",
            "\u001b[0;31mKeyboardInterrupt\u001b[0m: "
          ]
        }
      ]
    },
    {
      "cell_type": "code",
      "metadata": {
        "id": "rpvjhmYpXqtI"
      },
      "source": [
        "submission = pd.concat((test['Date'],s1,s2,s3,s4,s5),axis = 1)\r\n",
        "submission = submission.rename(columns = {'Date':'Date',0:'Close-Stock-1',1:'Close-Stock-2',2:'Close-Stock-3',3:'Close-Stock-4',4:'Close-Stock-5'})"
      ],
      "execution_count": 909,
      "outputs": []
    },
    {
      "cell_type": "code",
      "metadata": {
        "colab": {
          "base_uri": "https://localhost:8080/",
          "height": 423
        },
        "id": "LmsEC8bbcjNo",
        "outputId": "f13b7c1b-8220-45b1-d7d5-04097a4d23ec"
      },
      "source": [
        "submission.to_csv('TestSubmission.csv',index = False)"
      ],
      "execution_count": 910,
      "outputs": [
        {
          "output_type": "execute_result",
          "data": {
            "text/html": [
              "<div>\n",
              "<style scoped>\n",
              "    .dataframe tbody tr th:only-of-type {\n",
              "        vertical-align: middle;\n",
              "    }\n",
              "\n",
              "    .dataframe tbody tr th {\n",
              "        vertical-align: top;\n",
              "    }\n",
              "\n",
              "    .dataframe thead th {\n",
              "        text-align: right;\n",
              "    }\n",
              "</style>\n",
              "<table border=\"1\" class=\"dataframe\">\n",
              "  <thead>\n",
              "    <tr style=\"text-align: right;\">\n",
              "      <th></th>\n",
              "      <th>Date</th>\n",
              "      <th>Close-Stock-1</th>\n",
              "      <th>Close-Stock-2</th>\n",
              "      <th>Close-Stock-3</th>\n",
              "      <th>Close-Stock-4</th>\n",
              "      <th>Close-Stock-5</th>\n",
              "    </tr>\n",
              "  </thead>\n",
              "  <tbody>\n",
              "    <tr>\n",
              "      <th>0</th>\n",
              "      <td>2011-08-04</td>\n",
              "      <td>554.11100</td>\n",
              "      <td>169.44888</td>\n",
              "      <td>2507.4941</td>\n",
              "      <td>1000.19610</td>\n",
              "      <td>1193.2550</td>\n",
              "    </tr>\n",
              "    <tr>\n",
              "      <th>1</th>\n",
              "      <td>2011-08-05</td>\n",
              "      <td>553.98620</td>\n",
              "      <td>169.47835</td>\n",
              "      <td>2507.1248</td>\n",
              "      <td>1000.17850</td>\n",
              "      <td>1193.0238</td>\n",
              "    </tr>\n",
              "    <tr>\n",
              "      <th>2</th>\n",
              "      <td>2011-08-08</td>\n",
              "      <td>554.40607</td>\n",
              "      <td>169.40233</td>\n",
              "      <td>2506.8357</td>\n",
              "      <td>1000.05550</td>\n",
              "      <td>1192.6376</td>\n",
              "    </tr>\n",
              "    <tr>\n",
              "      <th>3</th>\n",
              "      <td>2011-08-09</td>\n",
              "      <td>554.97327</td>\n",
              "      <td>169.34850</td>\n",
              "      <td>2507.1850</td>\n",
              "      <td>999.99170</td>\n",
              "      <td>1192.2671</td>\n",
              "    </tr>\n",
              "    <tr>\n",
              "      <th>4</th>\n",
              "      <td>2011-08-10</td>\n",
              "      <td>554.93100</td>\n",
              "      <td>169.45358</td>\n",
              "      <td>2506.5330</td>\n",
              "      <td>999.97736</td>\n",
              "      <td>1192.4246</td>\n",
              "    </tr>\n",
              "    <tr>\n",
              "      <th>...</th>\n",
              "      <td>...</td>\n",
              "      <td>...</td>\n",
              "      <td>...</td>\n",
              "      <td>...</td>\n",
              "      <td>...</td>\n",
              "      <td>...</td>\n",
              "    </tr>\n",
              "    <tr>\n",
              "      <th>92</th>\n",
              "      <td>2011-12-22</td>\n",
              "      <td>553.99630</td>\n",
              "      <td>169.40820</td>\n",
              "      <td>2512.9219</td>\n",
              "      <td>1000.08430</td>\n",
              "      <td>1188.7076</td>\n",
              "    </tr>\n",
              "    <tr>\n",
              "      <th>93</th>\n",
              "      <td>2011-12-23</td>\n",
              "      <td>553.97437</td>\n",
              "      <td>169.40985</td>\n",
              "      <td>2512.4950</td>\n",
              "      <td>1000.02875</td>\n",
              "      <td>1188.8955</td>\n",
              "    </tr>\n",
              "    <tr>\n",
              "      <th>94</th>\n",
              "      <td>2011-12-26</td>\n",
              "      <td>553.26110</td>\n",
              "      <td>169.42000</td>\n",
              "      <td>2512.3940</td>\n",
              "      <td>999.93396</td>\n",
              "      <td>1189.1217</td>\n",
              "    </tr>\n",
              "    <tr>\n",
              "      <th>95</th>\n",
              "      <td>2011-12-27</td>\n",
              "      <td>552.97230</td>\n",
              "      <td>169.40077</td>\n",
              "      <td>2513.3060</td>\n",
              "      <td>999.93020</td>\n",
              "      <td>1188.9027</td>\n",
              "    </tr>\n",
              "    <tr>\n",
              "      <th>96</th>\n",
              "      <td>2011-12-28</td>\n",
              "      <td>553.15770</td>\n",
              "      <td>169.41547</td>\n",
              "      <td>2513.2510</td>\n",
              "      <td>999.92300</td>\n",
              "      <td>1188.7550</td>\n",
              "    </tr>\n",
              "  </tbody>\n",
              "</table>\n",
              "<p>97 rows × 6 columns</p>\n",
              "</div>"
            ],
            "text/plain": [
              "          Date  Close-Stock-1  ...  Close-Stock-4  Close-Stock-5\n",
              "0   2011-08-04      554.11100  ...     1000.19610      1193.2550\n",
              "1   2011-08-05      553.98620  ...     1000.17850      1193.0238\n",
              "2   2011-08-08      554.40607  ...     1000.05550      1192.6376\n",
              "3   2011-08-09      554.97327  ...      999.99170      1192.2671\n",
              "4   2011-08-10      554.93100  ...      999.97736      1192.4246\n",
              "..         ...            ...  ...            ...            ...\n",
              "92  2011-12-22      553.99630  ...     1000.08430      1188.7076\n",
              "93  2011-12-23      553.97437  ...     1000.02875      1188.8955\n",
              "94  2011-12-26      553.26110  ...      999.93396      1189.1217\n",
              "95  2011-12-27      552.97230  ...      999.93020      1188.9027\n",
              "96  2011-12-28      553.15770  ...      999.92300      1188.7550\n",
              "\n",
              "[97 rows x 6 columns]"
            ]
          },
          "metadata": {
            "tags": []
          },
          "execution_count": 910
        }
      ]
    },
    {
      "cell_type": "code",
      "metadata": {
        "id": "gRG3MbQnftSf"
      },
      "source": [
        ""
      ],
      "execution_count": null,
      "outputs": []
    }
  ]
}