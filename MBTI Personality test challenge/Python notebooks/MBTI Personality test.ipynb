{
 "cells": [
  {
   "cell_type": "markdown",
   "metadata": {},
   "source": [
    "# MBTI Personality Prediction using NLP"
   ]
  },
  {
   "cell_type": "markdown",
   "metadata": {},
   "source": [
    "## Data Cleaning"
   ]
  },
  {
   "cell_type": "code",
   "execution_count": 24,
   "metadata": {},
   "outputs": [],
   "source": [
    "main_folder = 'C:/Users/tejas/Desktop/Hackathons/MBTI Personality test challenge'"
   ]
  },
  {
   "cell_type": "code",
   "execution_count": 25,
   "metadata": {},
   "outputs": [],
   "source": [
    "import pandas as pd\n",
    "import nltk\n",
    "import string\n",
    "import re"
   ]
  },
  {
   "cell_type": "code",
   "execution_count": 26,
   "metadata": {},
   "outputs": [
    {
     "name": "stderr",
     "output_type": "stream",
     "text": [
      "C:\\Users\\tejas\\Anaconda3\\lib\\site-packages\\IPython\\core\\interactiveshell.py:3058: DtypeWarning: Columns (162,163,164,165,166,167,168,169,170,171,172,173,174,175,178,179,180,181,182,183,184,185,186,187,188,191,192,193,194,197,198,199,200,201,202,203,204,205,206,207,208,209,210,211,212,213,214,215,216,217,218,219,220,221,222,223,224,225,226,227,228,229,230,231,232,233,234,235,236,237,238,239,240,241,242,243,244,245,246,247,248,249,250,251,252,253,254,255,256,257,258,259) have mixed types.Specify dtype option on import or set low_memory=False.\n",
      "  interactivity=interactivity, compiler=compiler, result=result)\n"
     ]
    },
    {
     "data": {
      "text/html": [
       "<div>\n",
       "<style scoped>\n",
       "    .dataframe tbody tr th:only-of-type {\n",
       "        vertical-align: middle;\n",
       "    }\n",
       "\n",
       "    .dataframe tbody tr th {\n",
       "        vertical-align: top;\n",
       "    }\n",
       "\n",
       "    .dataframe thead th {\n",
       "        text-align: right;\n",
       "    }\n",
       "</style>\n",
       "<table border=\"1\" class=\"dataframe\">\n",
       "  <thead>\n",
       "    <tr style=\"text-align: right;\">\n",
       "      <th></th>\n",
       "      <th>idx</th>\n",
       "      <th>type</th>\n",
       "      <th>posts</th>\n",
       "      <th>Unnamed: 3</th>\n",
       "      <th>Unnamed: 4</th>\n",
       "      <th>Unnamed: 5</th>\n",
       "      <th>Unnamed: 6</th>\n",
       "      <th>Unnamed: 7</th>\n",
       "      <th>Unnamed: 8</th>\n",
       "      <th>Unnamed: 9</th>\n",
       "      <th>...</th>\n",
       "      <th>Unnamed: 250</th>\n",
       "      <th>Unnamed: 251</th>\n",
       "      <th>Unnamed: 252</th>\n",
       "      <th>Unnamed: 253</th>\n",
       "      <th>Unnamed: 254</th>\n",
       "      <th>Unnamed: 255</th>\n",
       "      <th>Unnamed: 256</th>\n",
       "      <th>Unnamed: 257</th>\n",
       "      <th>Unnamed: 258</th>\n",
       "      <th>Unnamed: 259</th>\n",
       "    </tr>\n",
       "  </thead>\n",
       "  <tbody>\n",
       "    <tr>\n",
       "      <th>0</th>\n",
       "      <td>0</td>\n",
       "      <td>ENFP</td>\n",
       "      <td>'I like that you are kind</td>\n",
       "      <td>as INFJ I find that I love you all easily</td>\n",
       "      <td>Its so natural to fit next to you and relax</td>\n",
       "      <td>enjoy time and not feel like i have to do thi...</td>\n",
       "      <td>and other social...|||I found that when this ...</td>\n",
       "      <td>and he is laying out hints and you just are g...</td>\n",
       "      <td>me and a enfj i know are in the same place</td>\n",
       "      <td>though I still love him</td>\n",
       "      <td>...</td>\n",
       "      <td>NaN</td>\n",
       "      <td>NaN</td>\n",
       "      <td>NaN</td>\n",
       "      <td>NaN</td>\n",
       "      <td>NaN</td>\n",
       "      <td>NaN</td>\n",
       "      <td>NaN</td>\n",
       "      <td>NaN</td>\n",
       "      <td>NaN</td>\n",
       "      <td>NaN</td>\n",
       "    </tr>\n",
       "    <tr>\n",
       "      <th>1</th>\n",
       "      <td>1</td>\n",
       "      <td>INFJ</td>\n",
       "      <td>'^ Oh my you are right. Who really talks like ...</td>\n",
       "      <td>but this love must be fluid? Entp/infj intera...</td>\n",
       "      <td>maybe getting close to two years. To anyone w...</td>\n",
       "      <td>I could cuddle and bond non sexually for the ...</td>\n",
       "      <td>the folks I trust completed are those who not...</td>\n",
       "      <td>trust has become a very interesting thing for...</td>\n",
       "      <td>but nice for sure.|||How long this difficult ...</td>\n",
       "      <td>but I do like someone very much</td>\n",
       "      <td>...</td>\n",
       "      <td>NaN</td>\n",
       "      <td>NaN</td>\n",
       "      <td>NaN</td>\n",
       "      <td>NaN</td>\n",
       "      <td>NaN</td>\n",
       "      <td>NaN</td>\n",
       "      <td>NaN</td>\n",
       "      <td>NaN</td>\n",
       "      <td>NaN</td>\n",
       "      <td>NaN</td>\n",
       "    </tr>\n",
       "  </tbody>\n",
       "</table>\n",
       "<p>2 rows × 260 columns</p>\n",
       "</div>"
      ],
      "text/plain": [
       "   idx  type                                              posts  \\\n",
       "0    0  ENFP                          'I like that you are kind   \n",
       "1    1  INFJ  '^ Oh my you are right. Who really talks like ...   \n",
       "\n",
       "                                          Unnamed: 3  \\\n",
       "0          as INFJ I find that I love you all easily   \n",
       "1   but this love must be fluid? Entp/infj intera...   \n",
       "\n",
       "                                          Unnamed: 4  \\\n",
       "0        Its so natural to fit next to you and relax   \n",
       "1   maybe getting close to two years. To anyone w...   \n",
       "\n",
       "                                          Unnamed: 5  \\\n",
       "0   enjoy time and not feel like i have to do thi...   \n",
       "1   I could cuddle and bond non sexually for the ...   \n",
       "\n",
       "                                          Unnamed: 6  \\\n",
       "0   and other social...|||I found that when this ...   \n",
       "1   the folks I trust completed are those who not...   \n",
       "\n",
       "                                          Unnamed: 7  \\\n",
       "0   and he is laying out hints and you just are g...   \n",
       "1   trust has become a very interesting thing for...   \n",
       "\n",
       "                                          Unnamed: 8  \\\n",
       "0         me and a enfj i know are in the same place   \n",
       "1   but nice for sure.|||How long this difficult ...   \n",
       "\n",
       "                         Unnamed: 9  ... Unnamed: 250 Unnamed: 251  \\\n",
       "0           though I still love him  ...          NaN          NaN   \n",
       "1   but I do like someone very much  ...          NaN          NaN   \n",
       "\n",
       "  Unnamed: 252 Unnamed: 253 Unnamed: 254 Unnamed: 255 Unnamed: 256  \\\n",
       "0          NaN          NaN          NaN          NaN          NaN   \n",
       "1          NaN          NaN          NaN          NaN          NaN   \n",
       "\n",
       "  Unnamed: 257 Unnamed: 258 Unnamed: 259  \n",
       "0          NaN          NaN          NaN  \n",
       "1          NaN          NaN          NaN  \n",
       "\n",
       "[2 rows x 260 columns]"
      ]
     },
     "execution_count": 26,
     "metadata": {},
     "output_type": "execute_result"
    }
   ],
   "source": [
    "#Loading the data\n",
    "df = pd.read_csv(main_folder+'/data/train.csv',sep = ',')\n",
    "df_test = pd.read_csv(main_folder+'/data/test.csv',sep = ',')\n",
    "df.head(2)"
   ]
  },
  {
   "cell_type": "code",
   "execution_count": 27,
   "metadata": {},
   "outputs": [],
   "source": [
    "df.drop(0,inplace = True)\n",
    "df_test.drop(0,inplace = True)"
   ]
  },
  {
   "cell_type": "code",
   "execution_count": 28,
   "metadata": {
    "scrolled": true
   },
   "outputs": [],
   "source": [
    "# def list_conv(x):\n",
    "#     return list(x)\n",
    "# df['1'].apply(list_conv)"
   ]
  },
  {
   "cell_type": "code",
   "execution_count": 29,
   "metadata": {},
   "outputs": [],
   "source": [
    "first_two_cols_train = df.loc[:,('idx','type')]\n",
    "first_col_test = pd.DataFrame(df_test.loc[:,'idx'],columns = ['idx'])"
   ]
  },
  {
   "cell_type": "code",
   "execution_count": 30,
   "metadata": {},
   "outputs": [
    {
     "name": "stderr",
     "output_type": "stream",
     "text": [
      "C:\\Users\\tejas\\Anaconda3\\lib\\site-packages\\IPython\\core\\interactiveshell.py:3058: DtypeWarning: Columns (162,163,164,165,166,167,168,169,170,171,172,173,174,175,178,179,180,181,182,183,184,185,186,187,188,191,192,193,194,197,198,199,200,201,202,203,204,205,206,207,208,209,210,211,212,213,214,215,216,217,218,219,220,221,222,223,224,225,226,227,228,229,230,231,232,233,234,235,236,237,238,239,240,241,242,243,244,245,246,247,248,249,250,251,252,253,254,255,256,257,258,259) have mixed types.Specify dtype option on import or set low_memory=False.\n",
      "  interactivity=interactivity, compiler=compiler, result=result)\n"
     ]
    }
   ],
   "source": [
    "df_p = pd.read_csv(main_folder+'/data/train.csv',sep = ',')\n",
    "df_test_p = pd.read_csv(main_folder+'/data/test.csv',sep = ',')"
   ]
  },
  {
   "cell_type": "code",
   "execution_count": 31,
   "metadata": {},
   "outputs": [],
   "source": [
    "df_p.drop(0,inplace = True)\n",
    "df_test_p.drop(0,inplace = True)"
   ]
  },
  {
   "cell_type": "code",
   "execution_count": 32,
   "metadata": {},
   "outputs": [],
   "source": [
    "df_p.drop(['idx','type'],axis = 1,inplace = True)\n",
    "df_test_p.drop(['idx'],axis = 1,inplace = True)"
   ]
  },
  {
   "cell_type": "code",
   "execution_count": 33,
   "metadata": {},
   "outputs": [],
   "source": [
    "def add_tab(x):\n",
    "    return str(x)+'\\t'\n",
    "first_two_cols_train['idx'] = first_two_cols_train['idx'].apply(add_tab)\n",
    "first_two_cols_train['type'] = first_two_cols_train['type'].apply(add_tab)\n",
    "\n",
    "first_col_test['idx'] = first_col_test['idx'].apply(add_tab)"
   ]
  },
  {
   "cell_type": "code",
   "execution_count": 34,
   "metadata": {},
   "outputs": [],
   "source": [
    "df_f_train = pd.concat((first_two_cols_train,df_p),axis = 1)\n",
    "df_f_test = pd.concat((first_col_test,df_test_p),axis = 1)"
   ]
  },
  {
   "cell_type": "code",
   "execution_count": 35,
   "metadata": {},
   "outputs": [],
   "source": [
    "df_f_train.to_csv(main_folder+'/Data/mid_train_data.csv',index = False)\n",
    "df_f_test.to_csv(main_folder+'/Data/mid_test_data.csv',index = False)"
   ]
  },
  {
   "cell_type": "code",
   "execution_count": 36,
   "metadata": {},
   "outputs": [],
   "source": [
    "#Reading the datasets with \\t as seperator\n",
    "df_train = pd.read_csv(main_folder+'/Data/mid_train_data.csv',sep = '\\t',names = ['idx','type','posts'])\n",
    "df_test = pd.read_csv(main_folder+'/Data/mid_test_data.csv',sep = '\\t',names = ['idx','posts'])"
   ]
  },
  {
   "cell_type": "code",
   "execution_count": 37,
   "metadata": {},
   "outputs": [],
   "source": [
    "df_test.drop(0,inplace = True)\n",
    "df_train.drop(0,inplace = True)"
   ]
  },
  {
   "cell_type": "code",
   "execution_count": 38,
   "metadata": {},
   "outputs": [
    {
     "data": {
      "text/html": [
       "<div>\n",
       "<style scoped>\n",
       "    .dataframe tbody tr th:only-of-type {\n",
       "        vertical-align: middle;\n",
       "    }\n",
       "\n",
       "    .dataframe tbody tr th {\n",
       "        vertical-align: top;\n",
       "    }\n",
       "\n",
       "    .dataframe thead th {\n",
       "        text-align: right;\n",
       "    }\n",
       "</style>\n",
       "<table border=\"1\" class=\"dataframe\">\n",
       "  <thead>\n",
       "    <tr style=\"text-align: right;\">\n",
       "      <th></th>\n",
       "      <th>idx</th>\n",
       "      <th>type</th>\n",
       "      <th>posts</th>\n",
       "    </tr>\n",
       "  </thead>\n",
       "  <tbody>\n",
       "    <tr>\n",
       "      <th>5335</th>\n",
       "      <td>5335</td>\n",
       "      <td>,ENTP</td>\n",
       "      <td>,'When I read threads like this it feels like ...</td>\n",
       "    </tr>\n",
       "    <tr>\n",
       "      <th>4221</th>\n",
       "      <td>4221</td>\n",
       "      <td>,INTP</td>\n",
       "      <td>,'You could say that Karma acts out in society...</td>\n",
       "    </tr>\n",
       "    <tr>\n",
       "      <th>2358</th>\n",
       "      <td>2358</td>\n",
       "      <td>,INFP</td>\n",
       "      <td>,'Thank you very much for your feedback. I wil...</td>\n",
       "    </tr>\n",
       "    <tr>\n",
       "      <th>475</th>\n",
       "      <td>475</td>\n",
       "      <td>,INTP</td>\n",
       "      <td>,It doesn't really point to anything. Not that...</td>\n",
       "    </tr>\n",
       "    <tr>\n",
       "      <th>5025</th>\n",
       "      <td>5025</td>\n",
       "      <td>,INFP</td>\n",
       "      <td>,'Yes I love music festivals :) But I've mainl...</td>\n",
       "    </tr>\n",
       "  </tbody>\n",
       "</table>\n",
       "</div>"
      ],
      "text/plain": [
       "       idx   type                                              posts\n",
       "5335  5335  ,ENTP  ,'When I read threads like this it feels like ...\n",
       "4221  4221  ,INTP  ,'You could say that Karma acts out in society...\n",
       "2358  2358  ,INFP  ,'Thank you very much for your feedback. I wil...\n",
       "475    475  ,INTP  ,It doesn't really point to anything. Not that...\n",
       "5025  5025  ,INFP  ,'Yes I love music festivals :) But I've mainl..."
      ]
     },
     "execution_count": 38,
     "metadata": {},
     "output_type": "execute_result"
    }
   ],
   "source": [
    "df_train.sample(5)"
   ]
  },
  {
   "cell_type": "code",
   "execution_count": 39,
   "metadata": {},
   "outputs": [],
   "source": [
    "def remove_comma(x):\n",
    "    return x[1:]\n",
    "df_train['type'] = df_train['type'].apply(remove_comma)\n",
    "df_test['posts'] = df_test['posts'].apply(remove_comma)\n",
    "df_train['posts'] = df_train['posts'].apply(remove_comma)"
   ]
  },
  {
   "cell_type": "code",
   "execution_count": 40,
   "metadata": {},
   "outputs": [
    {
     "data": {
      "text/html": [
       "<div>\n",
       "<style scoped>\n",
       "    .dataframe tbody tr th:only-of-type {\n",
       "        vertical-align: middle;\n",
       "    }\n",
       "\n",
       "    .dataframe tbody tr th {\n",
       "        vertical-align: top;\n",
       "    }\n",
       "\n",
       "    .dataframe thead th {\n",
       "        text-align: right;\n",
       "    }\n",
       "</style>\n",
       "<table border=\"1\" class=\"dataframe\">\n",
       "  <thead>\n",
       "    <tr style=\"text-align: right;\">\n",
       "      <th></th>\n",
       "      <th>idx</th>\n",
       "      <th>type</th>\n",
       "      <th>posts</th>\n",
       "    </tr>\n",
       "  </thead>\n",
       "  <tbody>\n",
       "    <tr>\n",
       "      <th>4071</th>\n",
       "      <td>4071</td>\n",
       "      <td>ISFP</td>\n",
       "      <td>5w4-4w5-8w9 Sp/Sx  http://stwww.skateboarderma...</td>\n",
       "    </tr>\n",
       "    <tr>\n",
       "      <th>1274</th>\n",
       "      <td>1274</td>\n",
       "      <td>INFJ</td>\n",
       "      <td>Hi, I'd like to change my username to: fuliaju...</td>\n",
       "    </tr>\n",
       "    <tr>\n",
       "      <th>4019</th>\n",
       "      <td>4019</td>\n",
       "      <td>ISFJ</td>\n",
       "      <td>'8.5/10 Interesting. I like the colors. Almost...</td>\n",
       "    </tr>\n",
       "    <tr>\n",
       "      <th>32</th>\n",
       "      <td>32</td>\n",
       "      <td>INTP</td>\n",
       "      <td>I think the right question pertaining to God w...</td>\n",
       "    </tr>\n",
       "    <tr>\n",
       "      <th>1723</th>\n",
       "      <td>1723</td>\n",
       "      <td>INFJ</td>\n",
       "      <td>'Dear bubbleboy,  Congratulations on graduatin...</td>\n",
       "    </tr>\n",
       "  </tbody>\n",
       "</table>\n",
       "</div>"
      ],
      "text/plain": [
       "       idx  type                                              posts\n",
       "4071  4071  ISFP  5w4-4w5-8w9 Sp/Sx  http://stwww.skateboarderma...\n",
       "1274  1274  INFJ  Hi, I'd like to change my username to: fuliaju...\n",
       "4019  4019  ISFJ  '8.5/10 Interesting. I like the colors. Almost...\n",
       "32      32  INTP  I think the right question pertaining to God w...\n",
       "1723  1723  INFJ  'Dear bubbleboy,  Congratulations on graduatin..."
      ]
     },
     "execution_count": 40,
     "metadata": {},
     "output_type": "execute_result"
    }
   ],
   "source": [
    "df_train.sample(5)"
   ]
  },
  {
   "cell_type": "markdown",
   "metadata": {},
   "source": [
    "### Data Cleaning done (partially). \n",
    "* Remove Numbers\n",
    "* convert all posts to lower case\n",
    "* remove punctuation\n",
    "* remove stop words\n",
    "* Lemitization (preserves meaning of the word in english language)"
   ]
  },
  {
   "cell_type": "code",
   "execution_count": 41,
   "metadata": {},
   "outputs": [],
   "source": [
    "def rem_nos(x):\n",
    "    return re.sub(r'\\+d','',x)\n",
    "df_train['posts'] = df_train['posts'].apply(rem_nos)"
   ]
  },
  {
   "cell_type": "code",
   "execution_count": 42,
   "metadata": {},
   "outputs": [],
   "source": [
    "def lower_case(x):\n",
    "    return x.lower()\n",
    "df_train['posts'] = df_train['posts'].apply(lower_case)"
   ]
  },
  {
   "cell_type": "code",
   "execution_count": 43,
   "metadata": {},
   "outputs": [],
   "source": [
    "def rem_punc(x):\n",
    "    translator = str.maketrans('','',string.punctuation)\n",
    "    return x.translate(translator)\n",
    "df_train['posts'] = df_train['posts'].apply(rem_punc)"
   ]
  },
  {
   "cell_type": "code",
   "execution_count": 44,
   "metadata": {},
   "outputs": [],
   "source": [
    "from nltk.corpus import stopwords\n",
    "from nltk.tokenize import word_tokenize\n",
    "# nltk.download('stopwords')\n",
    "# nltk.download('punkt')\n",
    "\n",
    "def rem_stop_words(x):\n",
    "    stop_words = set(stopwords.words('english'))\n",
    "    word_tokens = word_tokenize(x)\n",
    "    filtering_txt = [word for word in word_tokens if word not in stop_words]\n",
    "    return filtering_txt\n",
    "\n",
    "df_train.posts = df_train.posts.apply(rem_stop_words)"
   ]
  },
  {
   "cell_type": "code",
   "execution_count": 52,
   "metadata": {},
   "outputs": [],
   "source": [
    "# from nltk.stem.porter import PorterStemmer\n",
    "# def stem(x):\n",
    "#     stem1 = PorterStemmer()\n",
    "#     return [stem1.stem(word) for word in x]\n",
    "# df_train.posts.apply(stem)"
   ]
  },
  {
   "cell_type": "code",
   "execution_count": 54,
   "metadata": {},
   "outputs": [],
   "source": [
    "from nltk.stem import wordnet\n",
    "lemma = wordnet.WordNetLemmatizer()\n",
    "def lemmatize_word(x):\n",
    "    return [lemma.lemmatize(word,pos = 'v') for word in x] #v = verb gives context which is part of parts of speech.\n",
    "df_train.posts = df_train.posts.apply(lemmatize_word)"
   ]
  },
  {
   "cell_type": "code",
   "execution_count": 57,
   "metadata": {},
   "outputs": [
    {
     "data": {
      "text/html": [
       "<div>\n",
       "<style scoped>\n",
       "    .dataframe tbody tr th:only-of-type {\n",
       "        vertical-align: middle;\n",
       "    }\n",
       "\n",
       "    .dataframe tbody tr th {\n",
       "        vertical-align: top;\n",
       "    }\n",
       "\n",
       "    .dataframe thead th {\n",
       "        text-align: right;\n",
       "    }\n",
       "</style>\n",
       "<table border=\"1\" class=\"dataframe\">\n",
       "  <thead>\n",
       "    <tr style=\"text-align: right;\">\n",
       "      <th></th>\n",
       "      <th>idx</th>\n",
       "      <th>type</th>\n",
       "      <th>posts</th>\n",
       "    </tr>\n",
       "  </thead>\n",
       "  <tbody>\n",
       "    <tr>\n",
       "      <th>1</th>\n",
       "      <td>1</td>\n",
       "      <td>INFJ</td>\n",
       "      <td>[oh, right, really, talk, like, sound, pretty,...</td>\n",
       "    </tr>\n",
       "    <tr>\n",
       "      <th>2</th>\n",
       "      <td>2</td>\n",
       "      <td>INFP</td>\n",
       "      <td>[yep, yep, yep, especially, last, one, yep, ag...</td>\n",
       "    </tr>\n",
       "    <tr>\n",
       "      <th>3</th>\n",
       "      <td>3</td>\n",
       "      <td>INFJ</td>\n",
       "      <td>[things, generalizable, entire, population, wo...</td>\n",
       "    </tr>\n",
       "    <tr>\n",
       "      <th>4</th>\n",
       "      <td>4</td>\n",
       "      <td>INTJ</td>\n",
       "      <td>[work, student, hobbies, study, game, read, dv...</td>\n",
       "    </tr>\n",
       "    <tr>\n",
       "      <th>5</th>\n",
       "      <td>5</td>\n",
       "      <td>ENTJ</td>\n",
       "      <td>[think, fuck, 3w4, sx, hostility, ring, freak,...</td>\n",
       "    </tr>\n",
       "    <tr>\n",
       "      <th>...</th>\n",
       "      <td>...</td>\n",
       "      <td>...</td>\n",
       "      <td>...</td>\n",
       "    </tr>\n",
       "    <tr>\n",
       "      <th>6935</th>\n",
       "      <td>6935</td>\n",
       "      <td>INFJ</td>\n",
       "      <td>[well, mostly, dont, like, avocado, primary, p...</td>\n",
       "    </tr>\n",
       "    <tr>\n",
       "      <th>6936</th>\n",
       "      <td>6936</td>\n",
       "      <td>INFJ</td>\n",
       "      <td>[httpprikachicomimages8018386801yjpg, httpprik...</td>\n",
       "    </tr>\n",
       "    <tr>\n",
       "      <th>6937</th>\n",
       "      <td>6937</td>\n",
       "      <td>INFJ</td>\n",
       "      <td>[cigarettes, like, hamsters, perfectly, harmle...</td>\n",
       "    </tr>\n",
       "    <tr>\n",
       "      <th>6938</th>\n",
       "      <td>6938</td>\n",
       "      <td>INTJ</td>\n",
       "      <td>[bookshelf, pornas, nonamerican, please, excus...</td>\n",
       "    </tr>\n",
       "    <tr>\n",
       "      <th>6939</th>\n",
       "      <td>6939</td>\n",
       "      <td>INFJ</td>\n",
       "      <td>[respect, opinion, dont, really, know, enfps, ...</td>\n",
       "    </tr>\n",
       "  </tbody>\n",
       "</table>\n",
       "<p>6939 rows × 3 columns</p>\n",
       "</div>"
      ],
      "text/plain": [
       "       idx  type                                              posts\n",
       "1        1  INFJ  [oh, right, really, talk, like, sound, pretty,...\n",
       "2        2  INFP  [yep, yep, yep, especially, last, one, yep, ag...\n",
       "3        3  INFJ  [things, generalizable, entire, population, wo...\n",
       "4        4  INTJ  [work, student, hobbies, study, game, read, dv...\n",
       "5        5  ENTJ  [think, fuck, 3w4, sx, hostility, ring, freak,...\n",
       "...    ...   ...                                                ...\n",
       "6935  6935  INFJ  [well, mostly, dont, like, avocado, primary, p...\n",
       "6936  6936  INFJ  [httpprikachicomimages8018386801yjpg, httpprik...\n",
       "6937  6937  INFJ  [cigarettes, like, hamsters, perfectly, harmle...\n",
       "6938  6938  INTJ  [bookshelf, pornas, nonamerican, please, excus...\n",
       "6939  6939  INFJ  [respect, opinion, dont, really, know, enfps, ...\n",
       "\n",
       "[6939 rows x 3 columns]"
      ]
     },
     "execution_count": 57,
     "metadata": {},
     "output_type": "execute_result"
    }
   ],
   "source": [
    "df_train"
   ]
  },
  {
   "cell_type": "code",
   "execution_count": null,
   "metadata": {},
   "outputs": [],
   "source": []
  },
  {
   "cell_type": "code",
   "execution_count": null,
   "metadata": {},
   "outputs": [],
   "source": []
  },
  {
   "cell_type": "code",
   "execution_count": null,
   "metadata": {},
   "outputs": [],
   "source": []
  },
  {
   "cell_type": "code",
   "execution_count": null,
   "metadata": {},
   "outputs": [],
   "source": []
  },
  {
   "cell_type": "code",
   "execution_count": null,
   "metadata": {},
   "outputs": [],
   "source": []
  },
  {
   "cell_type": "code",
   "execution_count": null,
   "metadata": {},
   "outputs": [],
   "source": []
  },
  {
   "cell_type": "code",
   "execution_count": null,
   "metadata": {},
   "outputs": [],
   "source": []
  }
 ],
 "metadata": {
  "kernelspec": {
   "display_name": "Python 3",
   "language": "python",
   "name": "python3"
  },
  "language_info": {
   "codemirror_mode": {
    "name": "ipython",
    "version": 3
   },
   "file_extension": ".py",
   "mimetype": "text/x-python",
   "name": "python",
   "nbconvert_exporter": "python",
   "pygments_lexer": "ipython3",
   "version": "3.7.4"
  }
 },
 "nbformat": 4,
 "nbformat_minor": 2
}
